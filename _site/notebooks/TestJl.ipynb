{
 "cells": [
  {
   "cell_type": "code",
   "execution_count": 39,
   "metadata": {
    "collapsed": false
   },
   "outputs": [
    {
     "data": {
      "text/plain": [
       "115-element Array{Float64,1}:\n",
       "  1.16537  \n",
       " -1.12535  \n",
       "  1.47015  \n",
       "  1.83411  \n",
       " -0.448554 \n",
       "  0.171719 \n",
       "  0.837569 \n",
       "  1.17432  \n",
       " -0.630269 \n",
       "  1.3186   \n",
       " -0.494728 \n",
       "  0.877429 \n",
       "  0.0946639\n",
       "  ⋮        \n",
       "  0.302188 \n",
       " -1.42144  \n",
       " -0.353194 \n",
       "  1.41855  \n",
       "  0.0803587\n",
       " -0.436014 \n",
       " -0.196201 \n",
       " -0.690032 \n",
       " -0.482515 \n",
       " -0.953761 \n",
       " -1.26926  \n",
       "  0.194882 "
      ]
     },
     "execution_count": 39,
     "metadata": {},
     "output_type": "execute_result"
    }
   ],
   "source": [
    "N = 20\n",
    "dimensions = [10, 5, 10]\n",
    "data = randn(N, dimensions[1])   # each row will be a datum\n",
    "labels = zeros((N, dimensions[3]))\n",
    "for i=1:N\n",
    "    labels[i, rand(1:dimensions[3])] = 1\n",
    "end\n",
    "params = randn((dimensions[1] + 1) * dimensions[2] + (dimensions[2] + 1) * dimensions[3], )"
   ]
  },
  {
   "cell_type": "code",
   "execution_count": 52,
   "metadata": {
    "collapsed": false
   },
   "outputs": [
    {
     "data": {
      "text/plain": [
       "1x10 Array{Float64,2}:\n",
       " -0.353194  1.41855  0.0803587  -0.436014  …  -0.953761  -1.26926  0.194882"
      ]
     },
     "execution_count": 52,
     "metadata": {},
     "output_type": "execute_result"
    }
   ],
   "source": [
    "t = 1\n",
    "W1 = reshape(params[t:dimensions[1]*dimensions[2]], (dimensions[1], dimensions[2]))\n",
    "t += dimensions[1]*dimensions[2]\n",
    "b1 = reshape(params[t:t-1+dimensions[2]], (1, dimensions[2]))\n",
    "t += dimensions[2]\n",
    "W2 = reshape(params[t:t-1+dimensions[2]*dimensions[3]], (dimensions[2], dimensions[3]))\n",
    "t += dimensions[2]*dimensions[3]\n",
    "b2 = reshape(params[t:t-1+dimensions[3]], (1, dimensions[3]))"
   ]
  },
  {
   "cell_type": "code",
   "execution_count": null,
   "metadata": {
    "collapsed": true
   },
   "outputs": [],
   "source": []
  }
 ],
 "metadata": {
  "kernelspec": {
   "display_name": "Julia 0.4.0-dev",
   "language": "julia",
   "name": "julia-0.4"
  },
  "language_info": {
   "name": "julia",
   "version": "0.4.0"
  }
 },
 "nbformat": 4,
 "nbformat_minor": 0
}
