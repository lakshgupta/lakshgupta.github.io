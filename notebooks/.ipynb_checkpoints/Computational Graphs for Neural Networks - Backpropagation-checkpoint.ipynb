{
 "cells": [
  {
   "cell_type": "code",
   "execution_count": null,
   "metadata": {
    "collapsed": false
   },
   "outputs": [],
   "source": [
    "import Base.+, Base.*, Base.(.*)"
   ]
  },
  {
   "cell_type": "code",
   "execution_count": null,
   "metadata": {
    "collapsed": false
   },
   "outputs": [],
   "source": [
    "type AD{T}\n",
    "    value::T\n",
    "    derivative::T\n",
    "    derivativeOp::Function\n",
    "    parents::Array{AD}\n",
    "    \n",
    "    function AD(val::T, grad::T) \n",
    "        if size(val) == ()\n",
    "            return new(val, 0, ad_constD, Array(AD,0))\n",
    "        else\n",
    "            return new(val, grad, ad_constD, Array(AD,0))\n",
    "        end\n",
    "    end\n",
    "end\n",
    "AD{T}(val::T) = AD{T}(val, zeros(size(val)))\n",
    "\n",
    "function ad_constD{T}(prevDerivative::T, adNodes::Array{AD})\n",
    "    return 0\n",
    "end"
   ]
  },
  {
   "cell_type": "code",
   "execution_count": null,
   "metadata": {
    "collapsed": false
   },
   "outputs": [],
   "source": [
    "function ad_add{T}(a::AD{T}, b::AD{T})\n",
    "    result = AD{T}(a.value + b.value)\n",
    "    result.derivativeOp = ad_addD\n",
    "    push!(result.parents, a)\n",
    "    push!(result.parents, b)\n",
    "    return result\n",
    "end\n",
    "function ad_addD{T}(prevDerivative::T, adNodes::Array{AD, 1})\n",
    "    adNodes[1].derivative += 1 * prevDerivative\n",
    "    adNodes[2].derivative += 1 * prevDerivative\n",
    "    return\n",
    "end\n",
    "+(x::AD, y::AD) = ad_add(x, y)"
   ]
  },
  {
   "cell_type": "code",
   "execution_count": null,
   "metadata": {
    "collapsed": false
   },
   "outputs": [],
   "source": [
    "function ad_mul{T}(a::AD{T}, b::AD{T})\n",
    "    resultValue = a.value * b.value\n",
    "    result = AD{T}(resultValue, zeros(size(resultValue)))\n",
    "    result.derivativeOp = ad_mulD\n",
    "    push!(result.parents, a)\n",
    "    push!(result.parents, b)\n",
    "    return result\n",
    "end\n",
    "function ad_mulD{T}(prevDerivative::T, adNodes::Array{AD,1})\n",
    "    rowNode1, colNode1 = size(adNodes[1].value)\n",
    "    rowNode2, colNode2 = size(adNodes[2].value)\n",
    "    \n",
    "    for i = 1:m1.rowNode1, j = 1:colNode2\n",
    "        pd = prevDerivative[i,j]\n",
    "        for k = 1:colNode1\n",
    "            adNodes[1].derivative[i,k] += adNodes[2].value[k,j] * pd\n",
    "            adNodes[2].derivative[k,j] += adNodes[1].value[i,k] * pd\n",
    "        end\n",
    "    end\n",
    "    \n",
    "end\n",
    "*(x::AD, y::AD) = ad_mul(x, y)"
   ]
  },
  {
   "cell_type": "code",
   "execution_count": null,
   "metadata": {
    "collapsed": true
   },
   "outputs": [],
   "source": []
  },
  {
   "cell_type": "code",
   "execution_count": null,
   "metadata": {
    "collapsed": false
   },
   "outputs": [],
   "source": [
    "function ad_elmul{T}(a::AD{T}, b::AD{T})\n",
    "    result = AD{T}(a.value .* b.value)\n",
    "    result.derivativeOp = ad_elmulD\n",
    "    push!(result.parents, a)\n",
    "    push!(result.parents, b)\n",
    "    return result\n",
    "end\n",
    "function ad_elmulD{T}(prevDerivative::T, adNodes::Array{AD,1})\n",
    "    adNodes[1].derivative += adNodes[2].value * prevDerivative\n",
    "    adNodes[2].derivative += adNodes[1].value * prevDerivative\n",
    "    return\n",
    "end\n",
    ".*(x::AD, y::AD) = ad_elmul(x, y)"
   ]
  },
  {
   "cell_type": "code",
   "execution_count": null,
   "metadata": {
    "collapsed": true
   },
   "outputs": [],
   "source": [
    "function tanh{T}(a::AD{T})\n",
    "    result = AD{T}(tanh(a.value))\n",
    "    result.derivativeOp = ad_tanhD\n",
    "    push!(result.parents, a)\n",
    "    return result\n",
    "end\n",
    "functino ad_tanhD{T}(prevDerivative::T, adNodes::Array{AD,1})\n",
    "    adNodes[1].derivative += (1. - adNodes[1].value.^2) * prevDerivative             \n",
    "    return\n",
    "end"
   ]
  },
  {
   "cell_type": "code",
   "execution_count": null,
   "metadata": {
    "collapsed": true
   },
   "outputs": [],
   "source": [
    "function sigmoid{T}(a::AD{T})\n",
    "    result = AD{T}(1.0 / (1.0 + exp(-a.value)))\n",
    "    result.derivativeOp = ad_sigmoidD\n",
    "    push!(result.parents, a)\n",
    "    return result\n",
    "end\n",
    "function ad_sigmoidD{T}(prevDerivative::T, adNodes::Array{AD,1})\n",
    "    adNodes[1].derivative += adNodes[1].value * (1. - adNodes[1].value) * prevDerivative     \n",
    "    return\n",
    "end\n"
   ]
  },
  {
   "cell_type": "code",
   "execution_count": null,
   "metadata": {
    "collapsed": true
   },
   "outputs": [],
   "source": [
    "function relu{T}(a::AD{T})\n",
    "    result = AD{T}(max(0.0, a.value))\n",
    "    result.derivativeOp = ad_reluD\n",
    "    push!(result.parents, a)\n",
    "    return result\n",
    "end\n",
    "function ad_reluD{T}(prevDerivative::T, adNodes::Array{AD,1})\n",
    "    grad = ones(a.value)\n",
    "    grad[a.<=0] = 0\n",
    "    adNodes[1].derivative += grad * prevDerivative     \n",
    "    return\n",
    "end\n"
   ]
  },
  {
   "cell_type": "code",
   "execution_count": null,
   "metadata": {
    "collapsed": false
   },
   "outputs": [],
   "source": [
    "x = AD{Float64}(2.0)"
   ]
  },
  {
   "cell_type": "code",
   "execution_count": null,
   "metadata": {
    "collapsed": false
   },
   "outputs": [],
   "source": [
    "y = AD{Array{Float64,2}}(randn(2,2))"
   ]
  },
  {
   "cell_type": "code",
   "execution_count": null,
   "metadata": {
    "collapsed": false
   },
   "outputs": [],
   "source": [
    "z = AD{Array{Float64,1}}([1.0,2.0])"
   ]
  },
  {
   "cell_type": "code",
   "execution_count": null,
   "metadata": {
    "collapsed": false
   },
   "outputs": [],
   "source": [
    "a1 = AD{Array{Float64,2}}(ones(2,2)*2)\n",
    "a2 = AD{Array{Float64,2}}(ones(2,2))"
   ]
  },
  {
   "cell_type": "code",
   "execution_count": null,
   "metadata": {
    "collapsed": false
   },
   "outputs": [],
   "source": [
    "function f(x::AD,y::AD)\n",
    "    (x+y)*(y + AD{Array{Float64,2}}(ones(2,2)))\n",
    "end "
   ]
  },
  {
   "cell_type": "code",
   "execution_count": null,
   "metadata": {
    "collapsed": false
   },
   "outputs": [],
   "source": [
    "f(a1,a2)"
   ]
  },
  {
   "cell_type": "code",
   "execution_count": null,
   "metadata": {
    "collapsed": false
   },
   "outputs": [],
   "source": [
    "function backprop(graph::AD)\n",
    "    current = graph\n",
    "    # set the derivative to 1\n",
    "    current.derivative = current.derivative*0 + 1.0\n",
    "    bfs = [current]\n",
    "    while length(bfs) != 0\n",
    "        currDerivative = current.derivative\n",
    "        #println(typeof(currDerivative))\n",
    "        current.derivativeOp(currDerivative, current.parents)\n",
    "        numParents = length(current.parents)\n",
    "        for i=1:numParents \n",
    "            push!(bfs, current.parents[i])\n",
    "        end\n",
    "        current = pop!(bfs)\n",
    "    end\n",
    "    return graph\n",
    "end"
   ]
  },
  {
   "cell_type": "code",
   "execution_count": null,
   "metadata": {
    "collapsed": false
   },
   "outputs": [],
   "source": [
    "backprop(f(a1,a2))"
   ]
  },
  {
   "cell_type": "code",
   "execution_count": null,
   "metadata": {
    "collapsed": false
   },
   "outputs": [],
   "source": [
    "a1"
   ]
  },
  {
   "cell_type": "code",
   "execution_count": null,
   "metadata": {
    "collapsed": false
   },
   "outputs": [],
   "source": [
    "a2"
   ]
  },
  {
   "cell_type": "code",
   "execution_count": null,
   "metadata": {
    "collapsed": true
   },
   "outputs": [],
   "source": []
  }
 ],
 "metadata": {
  "kernelspec": {
   "display_name": "Julia 0.5.0",
   "language": "julia",
   "name": "julia-0.5"
  },
  "language_info": {
   "file_extension": ".jl",
   "mimetype": "application/julia",
   "name": "julia",
   "version": "0.5.0"
  }
 },
 "nbformat": 4,
 "nbformat_minor": 0
}
