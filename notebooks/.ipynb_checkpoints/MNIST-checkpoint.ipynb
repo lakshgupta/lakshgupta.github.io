{
 "cells": [
  {
   "cell_type": "markdown",
   "metadata": {
    "collapsed": false
   },
   "source": [
    "<h2 class=\"section-heading\">The Problem</h2>\n",
    "\n",
    "Single neuron has limited computational power and hence we need a way to build a network of neurons to make a more complex model. In this post we will look into how to construct a neural network and try to solve the handwritten digit recognition problem. The goal is to decide which digit it represents when given a new image. "
   ]
  },
  {
   "cell_type": "markdown",
   "metadata": {},
   "source": [
    "<h2 class=\"section-heading\">Understanding the Data</h2>\n",
    "\n",
    "We'll use the [MNIST dataset](http://yann.lecun.com/exdb/mnist/). Luckily, [John Myles White](https://github.com/johnmyleswhite/MNIST.jl) has already created a package to import this dataset in Julia. The MNIST dataset provides a training set of 60,000 handwritten digits and a test set of 10,000 handwritten digits. Each of the image has a size of 28×28 pixels. ![MNIST](files/img/nn/MNIST_digits.png)"
   ]
  },
  {
   "cell_type": "code",
   "execution_count": 1,
   "metadata": {
    "collapsed": false
   },
   "outputs": [],
   "source": [
    "#Pkg.update();\n",
    "Pkg.add(\"MNIST\");\n",
    "Pkg.add(\"PyPlot\")\n",
    "#Pkg.installed();"
   ]
  },
  {
   "cell_type": "markdown",
   "metadata": {
    "collapsed": true
   },
   "source": [
    "For plotting, PyPlot is a good option. It provides a Julia interface to the Matplotlib plotting library from Python."
   ]
  },
  {
   "cell_type": "code",
   "execution_count": 2,
   "metadata": {
    "collapsed": false
   },
   "outputs": [
    {
     "name": "stderr",
     "output_type": "stream",
     "text": [
      "Qt: Untested Windows version 10.0 detected!\r\n",
      "INFO: Loading help data...\n"
     ]
    }
   ],
   "source": [
    "using MNIST\n",
    "using PyPlot"
   ]
  },
  {
   "cell_type": "code",
   "execution_count": 3,
   "metadata": {
    "collapsed": false
   },
   "outputs": [
    {
     "data": {
      "text/plain": [
       "60000"
      ]
     },
     "execution_count": 3,
     "metadata": {},
     "output_type": "execute_result"
    }
   ],
   "source": [
    "# ===================\n",
    "# load training data\n",
    "# ===================\n",
    "X,y = traindata(); #X:(784x60000), y:(60000x1)\n",
    "m = size(X, 2); # number of inputs"
   ]
  },
  {
   "cell_type": "markdown",
   "metadata": {},
   "source": [
    "<h2 class=\"section-heading\">Training a model</h2>\n",
    "\n",
    "We want to train a neural network with one input layer, one hidden layer and one output layer to recognize handwritten digits. Since the dataset contains 28×28 pixel images, our neural network will have $28*28=784$ input neurons, a variable number of hidden neurons and $10$ output neurons.\n",
    "\n",
    "![2-layer-neuralNetwork](files/img/nn/nn_basic.png)"
   ]
  },
  {
   "cell_type": "code",
   "execution_count": 4,
   "metadata": {
    "collapsed": false
   },
   "outputs": [],
   "source": [
    "# ======================\n",
    "# network setup\n",
    "# ======================\n",
    "inputLayerSize = size(X,1); # number of input features: 784\n",
    "hiddenLayerSize = 25; # variable\n",
    "outputLayerSize = 10; # number of output classes\n",
    "# since we are doing multiclass classification: more than one output neurons\n",
    "# representing each output as an array of size of the output layer\n",
    "Y = zeros(outputLayerSize, m); #Y:(10,60000)\n",
    "for i = 1:m\n",
    "    Y[y[i]+1,i] = 1;\n",
    "end"
   ]
  },
  {
   "cell_type": "markdown",
   "metadata": {},
   "source": [
    "The appraoch to train a neural network is similar to what we have discussed in the [neuron post](http://lakshgupta.github.io/2015/05/21/ArtificialNeuron/).  But since now we have a network of neurons, the way we follow the steps is a bit different. We'll use the [backpropagation algorithm](http://www.cs.toronto.edu/~hinton/absps/naturebp.pdf). \n",
    "\n",
    ">Backpropagation works by approximating the non-linear relationship between the input and the output by adjusting the weight values internally. \n",
    "The operations of the Backpropagation neural networks can be divided into two steps: feedforward and Backpropagation. In the feedforward step, an input pattern is applied to the input layer and its effect propagates, layer by layer, through the network until an output is produced. The network's actual output value is then compared to the expected output, and an error signal is computed for each of the output nodes. Since all the hidden nodes have, to some degree, contributed to the errors evident in the output layer, the output error signals are transmitted backwards from the output layer to each node in the hidden layer that immediately contributed to the output layer. This process is then repeated, layer by layer, until each node in the network has received an error signal that describes its relative contribution to the overall error.\n",
    "Once the error signal for each node has been determined, the errors are then used by the nodes to update the values for each connection weights until the network converges to a state that allows all the training patterns to be encoded. \n",
    "<p>- <a href=\"http://www.cse.unsw.edu.au/~cs9417ml/MLP2/BackPropagation.html\">www.cse.unsw.edu.au</a></p>\n",
    "\n",
    "We'll discuss more about the backpropagation algorithm later but first let's collect the simple tools which are required for training a neural network."
   ]
  },
  {
   "cell_type": "markdown",
   "metadata": {},
   "source": [
    "<h4 class=\"section-heading\">Activation Function: $g$</h4>\n",
    "\n",
    "The activation function of artificial neurons have to be differentiable and their derivative has to be non-zero so that the gradient descent learning algorithm can be applied. Considering [linear regression](http://lakshgupta.github.io/2015/05/27/LinearRegression/), using a linear activation function does not give us much advantage here. Linear function applied to a linear function is itself a linear function, and hence both the functions can be replaced by a single linear function. Moreover real world problems are generally more complex. A linear activation function may not be a good fit for the dataset we have. Therefore if the data we wish to model is non-linear then we need to account for that in our model. Sigmoid activation function is one of the reasonably good non-linear activation functions which we could use in our neural network.\n",
    "\n",
    "\n",
    "$$sigmoid(z) = 1/(1 + e^{-z})$$\n",
    "\n",
    "![sigmoid](files/img/nn/sigmoidGraph.png)"
   ]
  },
  {
   "cell_type": "code",
   "execution_count": 5,
   "metadata": {
    "collapsed": false
   },
   "outputs": [
    {
     "data": {
      "text/plain": [
       "sigmoidGradient (generic function with 1 method)"
      ]
     },
     "execution_count": 5,
     "metadata": {},
     "output_type": "execute_result"
    }
   ],
   "source": [
    "# ==============================================\n",
    "# activation function: computes the sigmoid of z \n",
    "# z is the weighted sum of inputs\n",
    "# ==============================================\n",
    "function sigmoid(z)\n",
    "    g = 1.0 ./ (1.0 + exp(-z));\n",
    "    return g;\n",
    "end\n",
    "\n",
    "# computes the gradient of the sigmoid function evaluated at z\n",
    "function sigmoidGradient(z)\n",
    "  return sigmoid(z).*(1-sigmoid(z));\n",
    "end"
   ]
  },
  {
   "cell_type": "markdown",
   "metadata": {},
   "source": [
    "<h4 class=\"section-heading\">Cost Function: $J$</h4>\n",
    "\n",
    "We used squared error (SE) cost function for performing [linear regression](http://lakshgupta.github.io/2015/05/27/LinearRegression/). But for training the neural network we'll use cross entropy (CE) cost function instead.\n",
    "\n",
    ">The experimental results have shown that, in a comparable environment and with randomly initialized weights, the CE criterion allows to find a better local optimum than the SE criterion. The training of the SE system quickly got stuck in a worse local optimum where the gradient vanished and no further reduction of the classification errors was possible.\n",
    "<p>- <a href=\"https://www-i6.informatik.rwth-aachen.de/publications/download/861/GolikPavelDoetschPatrickNeyHermann--Cross-Entropyvs.SquaredErrorTrainingaTheoreticalExperimentalComparison--2013.pdf\">P. Golik, P. Doetsch, and H. Ney</a></p>\n",
    "\n",
    "So considering:\n",
    "\n",
    "$$J(\\theta) = \\frac{1}{m}(\\sum_{i=1}^{m}cost(h_{\\theta}(x^{(i)}),y^{(i)}))$$\n",
    "where:\n",
    "- $h_{\\theta}(x^{(i)})$ is the predicted value (hypothesis)\n",
    "- $y^{(i)}$ is the actual value (truth), and\n",
    "$$\\begin{eqnarray}\n",
    "cost(h_{\\theta}(x^{(i)}),y^{(i)})&=&\\left\\{\n",
    "\\begin{array}{l l}      \n",
    "    -\\log(h_{\\theta}(x^{(i)}))   &   \\mathrm{if} \\: y=1 \\\\\n",
    "    -\\log(1-h_{\\theta}(x^{(i)})) &  \\mathrm{if}  \\: y=0\n",
    "\\end{array}\\right.,  \\: h_{\\theta}(x^{(i)})\\in(0,1) \\\\ \\nonumber\n",
    "&=& - y^{(i)}\\log{h_{\\theta}(x^{(i)})} - (1-y^{(i)})\\log(1-h_{\\theta}(x^{(i)}))\n",
    "\\end{eqnarray}$$\n",
    "\n",
    "Hence our cost function becomes:\n",
    "$$J(\\theta) = -\\frac{1}{m}[\\sum_{i=1}^{m} ( y^{(i)}\\log{h_{\\theta}(x^{(i)})} + (1-y^{(i)})\\log({1-h_{\\theta}(x^{(i)}))})]$$\n",
    "\n",
    "We don't sum over the bias terms hence starting at 1 for the summation. The above equation for the cost function will work if we have a single neuron in the output layer. Let's generalize this cost function so that we could use it for $k$ neurons in the output layer. \n",
    "$$J(\\theta) = -\\frac{1}{m}\\sum_{i=1}^{m} \\sum_{i=1}^{k}[ y^{(i)}_k\\log{(h_{\\theta}(x^{(i)})_k)} + (1-y^{(i)}_k)\\log({1-(h_{\\theta}(x^{(i)}))_k)}]$$\n",
    "\n"
   ]
  },
  {
   "cell_type": "markdown",
   "metadata": {},
   "source": [
    "<h4 class=\"section-heading\">Regularization: $L^2$</h4>\n",
    "\n",
    "Regularization helps us in handling the problem of overfitting. Most regularization approaches add a parameter norm penalty $\\Omega(\\theta)$ to the loss function $J$ to achieve better generalization of the model. In case of $L^2$ regularization, also known as weight decay, the penalty is equal to the sum of the square of all of the weight vectors.\n",
    "\n",
    "$$\\Omega(\\theta) = \\frac{\\lambda}{2m}\\sum_{l=1}^{L-1}\\sum_{i=1}^{s_l}\\sum_{j=1}^{s_{l+1}}((\\theta_{ji}^l)^2)$$ \n",
    "\n",
    "where \n",
    "- $\\lambda>0$, is known as the regularization parameter\n",
    "- $m$ is the size of our training set\n",
    "- $L$ in the equation is the layer number\n",
    "- $s$ is the neuron unit in the corresponding layer\n",
    "\n",
    ">Regularizers work by trading increased bias for reduced variance. An effective regularizer is one that makes a proﬁtable trade, that is it reduces variance signiﬁcantly while not overly increasing the bias.\n",
    "<p>- <a href=\"http://www.iro.umontreal.ca/~bengioy/dlbook/regularization.html\">Yoshua Bengio, Ian Goodfellow and Aaron Courville</a></p>\n",
    "\n",
    "The Wikipedia has a descent article on the [bias-variance tradeoff](https://en.wikipedia.org/wiki/Bias%E2%80%93variance_tradeoff)."
   ]
  },
  {
   "cell_type": "code",
   "execution_count": 6,
   "metadata": {
    "collapsed": false
   },
   "outputs": [
    {
     "data": {
      "text/plain": [
       "costFunction (generic function with 1 method)"
      ]
     },
     "execution_count": 6,
     "metadata": {},
     "output_type": "execute_result"
    }
   ],
   "source": [
    "# weight regularization parameter\n",
    "lambda = 3; \n",
    "\n",
    "# ===============================================\n",
    "# cross entropy cost function with regularizarion\n",
    "# ===============================================\n",
    "function costFunction(truth, prediction)\n",
    "    cost = zeros(m,1);\n",
    "    for i=1:m\n",
    "        cost[i,:] = (-Y[:,i]'*log(prediction[:,i])) - ((1-Y[:,i]')*log(1-prediction[:,i]));\n",
    "    end\n",
    "    # regularization term\n",
    "    regularization = (lambda/(2*m))*(sum(sum(Theta1[2:end,:].^2)) + sum(sum(Theta2[2:end,:].^2)));\n",
    "\n",
    "    return (1/m)*sum(cost) + regularization; # regularized cost\n",
    "end"
   ]
  },
  {
   "cell_type": "markdown",
   "metadata": {},
   "source": [
    "<h4 class=\"section-heading\">Backpropagation</h4>\n",
    "\n",
    "Despite the name, [backpropagation algorithm](http://ufldl.stanford.edu/wiki/index.php/Backpropagation_Algorithm) consist of two phases:\n",
    "- Feedforward \n",
    "- Backpropagation\n",
    "\n",
    "The feedforward process is the same process we have been following in the previous posts. Using the feedforward process we calculate the weighted sum of inputs and apply the activation function to get an output as we move from layer to layer. In the end we come up with a output activation which could have some error as compared to the actual values. To have the output as close as possible to the actual values we use the backpropagation process to tune the weights."
   ]
  },
  {
   "cell_type": "markdown",
   "metadata": {
    "collapsed": true
   },
   "source": [
    "![2-layer-neuralNetwork-feedforward](files/img/nn/ff_mnist.png)"
   ]
  },
  {
   "cell_type": "markdown",
   "metadata": {},
   "source": [
    "Backpropagation is a way of computing gradients of expressions through recursive application of chain rule. We start from the output layer and go backwards calulating the gradient on the activations for each layer till the first hidden layer.\n",
    "\n",
    ">From these gradients, which can be interpreted as an indication of how each layer’s output should change to reduce error, one can obtain the gradient on the parameters of each layer. The gradients on weights and biases can be immediately used as part of a stochastic gradient update (performing the update right after the gradients havebeen computed) or used with other gradient-based optimization methods.\n",
    "<p>- <a href=\"http://www.iro.umontreal.ca/~bengioy/dlbook/regularization.html\">Yoshua Bengio, Ian Goodfellow and Aaron Courville</a></p>"
   ]
  },
  {
   "cell_type": "markdown",
   "metadata": {},
   "source": [
    "![2-layer-neuralNetwork-backpropagation](files/img/nn/bp_mnist.png)"
   ]
  },
  {
   "cell_type": "markdown",
   "metadata": {},
   "source": [
    "Since we are learning/tuning weights ($\\theta$), we want to evaluate: $\\dfrac{\\partial J}{\\partial \\theta^{(l)}}$, with $l$ as the layer number. Using the chain rule, we can solve the above partial derivative as:\n",
    "$$\\dfrac{\\partial J}{\\partial \\theta^{(l)}} = \\underbrace{\\dfrac{\\partial J}{\\partial z^{(l+1)}}}_{1} \\underbrace{\\dfrac{\\partial z^{(l+1)}}{\\partial \\theta^{(l)}}}_{2}$$\n",
    "\n",
    "here, $z$ represents the input signal to a neuron which is the weighted sum of the outputs from the previous layer's neurons. Hence $(2)$ becomes:\n",
    "\n",
    "$$\\dfrac{\\partial z^{(l+1)}}{\\partial \\theta^{(l)}} = a^{(l)}$$\n",
    "\n",
    "where, $a$ is the value from applying activation function $g$ to $z$. Now let's look at $(1)$ and represent it as $\\delta$. Since we start backpropagation from the last output layer, we can calculate the change in cost w.r.t weights as:\n",
    "$$ \\dfrac{\\partial J}{\\partial \\theta^{(2)}} = \\underbrace{\\dfrac{\\partial J}{\\partial z^{(3)}}}_{\\delta^{(3)}} \\underbrace{\\dfrac{\\partial z^{(3)}}{\\partial \\theta^{(2)}}}_{a^{(2)}}$$\n",
    "\n",
    "where,\n",
    "$$ \\begin{eqnarray}\n",
    "\\delta^{(3)} &=& \\dfrac{\\partial J}{\\partial z^{(3)}} \\\\\n",
    "&=& -[\\frac{yg'(z^{(3)})}{g(z^{(3)})} + \\frac{(1-y)(-g'(z^{(3)}))}{1-g(z^{(3)})}] \\\\\n",
    "&=& g(z^{(3)}) - y \\\\ \\\\\n",
    "&&(\\text{for sigmoid, $g'(z) = g(z)(1-g(z))$})\n",
    "\\end{eqnarray}$$\n",
    "\n",
    "In the squared error cost function, $\\delta^{(3)}$ would have a factor of $g'(z^{(3)})$. This means that for a large difference between the truth and the hypothesis, the sigmoid gradient would become very low (sigmoid curve is flat at the top) and hence the learning of our model would be slow. Using the cross entropy cost function also saves us from that problem. In the current case the larger the error, the faster the neuron will learn. \n",
    "\n",
    "Similarly for the hidden layer we have:\n",
    "$$ \\dfrac{\\partial J}{\\partial \\theta^{(1)}} = \\underbrace{\\dfrac{\\partial J}{\\partial z^{(2)}}}_{\\delta^{(2)}} \\underbrace{\\dfrac{\\partial z^{(2)}}{\\partial \\theta^{(1)}}}_{a^{(1)}}$$\n",
    "\n",
    "where,\n",
    "$$ \\begin{eqnarray}\n",
    "\\delta^{(2)} &=& \\dfrac{\\partial J}{\\partial z^{(2)}} \\\\\n",
    "&=& \\dfrac{\\partial J}{\\partial z^{(3)}} \\dfrac{\\partial z^{(3)}}{\\partial g(z^{(2)})} \\dfrac{\\partial g(z^{(2)})}{\\partial z^{(2)}} \\\\\n",
    "&=& \\delta^{(3)} \\theta^{(2)} g'(z^{(2)})\n",
    "\\end{eqnarray}$$\n",
    "\n",
    "The equations above may require special handling in order to perform matrix operations but basically we saw how the chain rule can be applied for the backpropagation algorithm."
   ]
  },
  {
   "cell_type": "markdown",
   "metadata": {},
   "source": [
    "We now have all the components for $\\dfrac{\\partial J}{\\partial \\theta^{l}}$, hence we can update the weights as:\n",
    "\n",
    "$$\\theta^{(l)} \\leftarrow \\theta^{(l)} - \\frac{\\alpha}{m} \\dfrac{\\partial J}{\\partial \\theta^{l}}$$\n",
    "    \n",
    "If the original cost function included a regularization term then we need to take it into account as well while taking the derivatives. Hence $\\dfrac{\\partial J}{\\partial \\theta^{l}}$ would also include the derivative of the regularization term, i.e. $\\frac{\\lambda}{m}\\theta^{(l)}$. "
   ]
  },
  {
   "cell_type": "code",
   "execution_count": 17,
   "metadata": {
    "collapsed": false
   },
   "outputs": [],
   "source": [
    "# including one bias neuron in input layer\n",
    "# weights for the links connecting input layer to the hidden layer\n",
    "Theta1 = randn(inputLayerSize+1, hiddenLayerSize); #(785x25)\n",
    "# including one bias neuron in hidden layer\n",
    "# weights for the links connecting hidden layer to the output layer\n",
    "Theta2 = randn(hiddenLayerSize+1, outputLayerSize); #(26x10)\n",
    "# learning rate\n",
    "alpha = 0.9;\n",
    "# number of iterations\n",
    "epoch = 1500;\n",
    "# cost per epoch\n",
    "J = zeros(epoch,1);\n",
    "# ====================================================================\n",
    "# Train the neural network using feedforward-backpropagation algorithm\n",
    "# ====================================================================\n",
    "for i = 1:epoch\n",
    "    # Feedforward #\n",
    "    a1 = [ones(1,m), X]; # add one bias element (785x60000)\n",
    "    z2 = Theta1'*a1; #(25x60000)\n",
    "    a2 = sigmoid(z2);\n",
    "    a2 = [ones(1,size(a2,2)), a2]; # add one bias element (26x60000)\n",
    "    z3 = Theta2'*a2; #(10x60000)\n",
    "    a3 = sigmoid(z3);\n",
    "    \n",
    "    # cost \n",
    "    J[i,:] = costFunction(Y, a3);\n",
    "    \n",
    "    # Backpropagation process #\n",
    "    delta3 = (a3 - Y); #(10x60000)\n",
    "    delta2 = (Theta2[2:end,:]*delta3).*sigmoidGradient(z2) ; #(25x10)*(10x60000).*(25x60000)\n",
    "        \n",
    "    #update weights\n",
    "    reg_theta2 = (lambda*Theta2);\n",
    "    reg_theta2[1,:] = 0;\n",
    "    Theta2 = Theta2 - alpha*(a2*delta3' + reg_theta2)/m; \n",
    "    \n",
    "    reg_theta1 = (lambda*Theta1);\n",
    "    reg_theta1[1,:] = 0;\n",
    "    Theta1 = Theta1 - alpha*(a1*delta2' + reg_theta1)/m;\n",
    "end"
   ]
  },
  {
   "cell_type": "markdown",
   "metadata": {},
   "source": [
    "If our implementation is correct, the cost of the predicted output after each iteration should drop. I'll cover another method (gradient check) in another post to validate our implementation. But for now let's check by plotting the cost per iteration."
   ]
  },
  {
   "cell_type": "code",
   "execution_count": 18,
   "metadata": {
    "collapsed": false
   },
   "outputs": [
    {
     "data": {
      "image/png": "[encoded data removed]",
      "text/plain": [
       "Figure(PyObject <matplotlib.figure.Figure object at 0x0000000031870668>)"
      ]
     },
     "metadata": {},
     "output_type": "display_data"
    }
   ],
   "source": [
    "# plot the cost per iteration\n",
    "plot(1:length(J), J)\n",
    "xlabel(\"Iterations\")\n",
    "ylabel(\"Cost\")\n",
    "grid(\"on\")"
   ]
  },
  {
   "cell_type": "markdown",
   "metadata": {},
   "source": [
    "<h2 class=\"section-heading\">Prediction and Accuracy</h2>\n",
    "\n",
    "After training the model we'll check how well our model has learned all the weights to make a prediction. So we'll evaluate the performance on the train dataset first. We do it by following a way similar to the feedforward process. Consider that we now do not have randomly initialized weights but rather obtained after going through the backpropagation algorithm."
   ]
  },
  {
   "cell_type": "code",
   "execution_count": 10,
   "metadata": {
    "collapsed": false
   },
   "outputs": [
    {
     "data": {
      "text/plain": [
       "predict (generic function with 1 method)"
      ]
     },
     "execution_count": 10,
     "metadata": {},
     "output_type": "execute_result"
    }
   ],
   "source": [
    "##########################################################################\n",
    "# outputs the predicted label of X given the\n",
    "# trained weights of a neural network (Theta1, Theta2)\n",
    "# Similar to feedforward process.\n",
    "##########################################################################\n",
    "function predict(Theta1, Theta2, data)\n",
    "    dataSz = size(data, 2); # size of the data\n",
    "    p = zeros(dataSz, 1); # to save our prediction\n",
    "    h1 = sigmoid(Theta1'*[ones(1,dataSz), data]); # hidded layer output\n",
    "    h2 = sigmoid(Theta2'*[ones(1,size(h1,2)), h1]); # output layer\n",
    "    # find the index with the max value in the array of size 10\n",
    "    # subtract 1 from the index since we are using 1 to \n",
    "    # represent 0, 2 for 1 and so on (while calculating Y)\n",
    "    for i=1:dataSz\n",
    "        p[i,:] = indmax(h2[:,i])-1;\n",
    "    end\n",
    "    return p;\n",
    "end"
   ]
  },
  {
   "cell_type": "code",
   "execution_count": 19,
   "metadata": {
    "collapsed": false
   },
   "outputs": [],
   "source": [
    "# make prediction\n",
    "pred = predict(Theta1, Theta2, X);"
   ]
  },
  {
   "cell_type": "code",
   "execution_count": 12,
   "metadata": {
    "collapsed": false
   },
   "outputs": [
    {
     "data": {
      "text/plain": [
       "accuracy (generic function with 1 method)"
      ]
     },
     "execution_count": 12,
     "metadata": {},
     "output_type": "execute_result"
    }
   ],
   "source": [
    "###############################################\n",
    "# calculate the accuracy of the prediction\n",
    "###############################################\n",
    "function accuracy(truth, prediction)\n",
    "    # calculate the % of predicted values\n",
    "    # matching the actual values\n",
    "    n = length(truth);\n",
    "    sum =0;\n",
    "    for i=1:n\n",
    "        if truth[i,:] == prediction[i,:]\n",
    "            sum = sum +1;\n",
    "        end\n",
    "    end\n",
    "  return (sum/n)*100;\n",
    "end"
   ]
  },
  {
   "cell_type": "code",
   "execution_count": 20,
   "metadata": {
    "collapsed": false
   },
   "outputs": [
    {
     "name": "stdout",
     "output_type": "stream",
     "text": [
      "train accuracy: 87.01333333333334\n"
     ]
    }
   ],
   "source": [
    "# calculate accuracy\n",
    "println(\"train accuracy: \", accuracy(y, pred));"
   ]
  },
  {
   "cell_type": "markdown",
   "metadata": {},
   "source": [
    "After calculating the accuracy on the train dataset, let's check the accuracy on the test dataset to be sure that we did not overfit the data. If there is too much difference then we might have to tune some parameters."
   ]
  },
  {
   "cell_type": "code",
   "execution_count": 14,
   "metadata": {
    "collapsed": false
   },
   "outputs": [],
   "source": [
    "# ===============\n",
    "# load test data\n",
    "# ===============\n",
    "XTest,yTest = testdata();"
   ]
  },
  {
   "cell_type": "code",
   "execution_count": 21,
   "metadata": {
    "collapsed": false
   },
   "outputs": [],
   "source": [
    "# make prediction\n",
    "predTest = predict(Theta1, Theta2, XTest);"
   ]
  },
  {
   "cell_type": "code",
   "execution_count": 22,
   "metadata": {
    "collapsed": false
   },
   "outputs": [
    {
     "name": "stdout",
     "output_type": "stream",
     "text": [
      "test accuracy: 86.18\n"
     ]
    }
   ],
   "source": [
    "# calculate accuracy\n",
    "println(\"test accuracy: \", accuracy(yTest, predTest));"
   ]
  },
  {
   "cell_type": "markdown",
   "metadata": {},
   "source": [
    "That's all folks! Now our model can make the prediction on any new handwritten digit in a similar way as we made the prediction on the test dataset. If we had let the training go on for longer iteration the accuracy would have been better, and there are other different ways as well to further improve the performance of the model or to make it run faster. I'll leave them for the coming posts."
   ]
  },
  {
   "cell_type": "markdown",
   "metadata": {},
   "source": [
    "<h2 class=\"section-heading\">References:</h2>\n",
    "\n",
    "- [Deep Learning in Neural Networks: An Overview](http://arxiv.org/abs/1404.7828)\n",
    "- [Learning representations by back-propagating errors](http://www.cs.toronto.edu/~hinton/absps/naturebp.pdf)\n",
    "- [Practical recommendations for gradient-based training of deep architectures](http://arxiv.org/abs/1206.5533)\n",
    "- [Efficient BackProp](http://yann.lecun.com/exdb/publis/pdf/lecun-98b.pdf)\n",
    "- [Coursera Machine Learning](https://class.coursera.org/ml-005)\n",
    "- [Deep Learning](http://www.iro.umontreal.ca/~bengioy/dlbook/mlp.html)\n",
    "- [Learning from Data](http://work.caltech.edu/slides/slides10.pdf)"
   ]
  }
 ],
 "metadata": {
  "kernelspec": {
   "display_name": "Julia 0.3.11",
   "language": "julia",
   "name": "julia-0.3"
  },
  "language_info": {
   "name": "julia",
   "version": "0.3.11"
  }
 },
 "nbformat": 4,
 "nbformat_minor": 0
}
