{
 "cells": [
  {
   "cell_type": "markdown",
   "metadata": {},
   "source": [
    "<h2 class=\"section-heading\">The Problem</h2>\n",
    "\n",
    "This post is a continuation of the [Neural Network](http://lakshgupta.github.io/2015/06/12/NeuralNetwork/) post where we learned about the basics of a neural network and applied it on the hand written digit recognition problem. Here we'll cover the following topics which can help our neural network to perform better in terms of the learning time and the accuracy of the model. \n",
    "- [Rectified linear unit (ReLU) function](https://en.wikipedia.org/wiki/Rectifier_(neural_networks))\n",
    "- [Softmax function](https://en.wikipedia.org/wiki/Softmax_function)\n",
    "- [Mini-batch gradient descent](https://en.wikipedia.org/wiki/Stochastic_gradient_descent)\n",
    "\n",
    "So let's get started!"
   ]
  },
  {
   "cell_type": "code",
   "execution_count": 1,
   "metadata": {
    "collapsed": true
   },
   "outputs": [],
   "source": [
    "using MNIST\n",
    "using PyPlot"
   ]
  },
  {
   "cell_type": "markdown",
   "metadata": {},
   "source": [
    "Our main algorithm for learning will be the same, i.e. backpropagation. I have re-structured the program to have replaceable components to make the experiment easy. There is a small change in the neural network:\n",
    "- output layer will always be using the Softmax activation function\n",
    "- rest of all the layers we'll either use Sigmoid or ReLU activation function"
   ]
  },
  {
   "cell_type": "markdown",
   "metadata": {},
   "source": [
    "![sigmoid](files/img/nn/softmax_nn.jpg)"
   ]
  },
  {
   "cell_type": "markdown",
   "metadata": {},
   "source": [
    "<h4 class=\"section-heading\">Activation Function: $g$</h4>"
   ]
  },
  {
   "cell_type": "code",
   "execution_count": 8,
   "metadata": {
    "collapsed": false
   },
   "outputs": [
    {
     "data": {
      "text/plain": [
       "sigmoid (generic function with 1 method)"
      ]
     },
     "execution_count": 8,
     "metadata": {},
     "output_type": "execute_result"
    }
   ],
   "source": [
    "# sigmoid function\n",
    "function sigmoid(z::Matrix{Float64})\n",
    "    g = 1.0 ./ (1.0 + exp(-z));\n",
    "    return g;\n",
    "end"
   ]
  },
  {
   "cell_type": "code",
   "execution_count": 10,
   "metadata": {
    "collapsed": false
   },
   "outputs": [
    {
     "data": {
      "text/plain": [
       "relu (generic function with 1 method)"
      ]
     },
     "execution_count": 10,
     "metadata": {},
     "output_type": "execute_result"
    }
   ],
   "source": [
    "# ReLU function\n",
    "function relu(z::Matrix{Float64})\n",
    "    return max(0.0, z);\n",
    "end"
   ]
  },
  {
   "cell_type": "markdown",
   "metadata": {},
   "source": [
    "![sigmoid_relu](files/img/nn/sigmoid_relu.png)"
   ]
  },
  {
   "cell_type": "markdown",
   "metadata": {},
   "source": [
    "#### - ReLU: \n",
    "\n",
    "$$f(x) = max(0, x)$$\n",
    "\n",
    "We have already seen sigmoid function instead of which we'll use ReLU activation function for the input and hidden layers because it is faster and do not suffer from the [vanishing gradient problem](https://en.wikipedia.org/wiki/Vanishing_gradient_problem).  \n",
    "\n",
    ">- Biological plausibility: One-sided, compared to the antisymmetry of [tanh](https://en.wikipedia.org/wiki/Hyperbolic_function#Tanh).\n",
    ">- Sparse activation: For example, in a randomly initialized network, only about 50% of hidden units are activated (having a non-zero output).\n",
    ">- Efficient gradient propagation: No [vanishing gradient problem](https://en.wikipedia.org/wiki/Vanishing_gradient_problem) or exploding effect.\n",
    ">- Efficient computation: Only comparison, addition and multiplication.\n",
    ">\n",
    ">For the first time in 2011, the use of the rectifier as a non-linearity has been shown to enable training deep supervised neural networks without requiring unsupervised pre-training. Rectified linear units, compared to [sigmoid](https://en.wikipedia.org/wiki/Sigmoid_function) function or similar activation functions, allow for faster and effective training of deep neural architectures on large and complex datasets.\n",
    ">\n",
    ">Potential problems:\n",
    "Non-differentiable at zero: however it is differentiable at any point arbitrarily close to 0.\n",
    "<p>- <a href=\"https://en.wikipedia.org/wiki/Rectifier_(neural_networks)\">Wikipedia</a></p>\n",
    "\n",
    "\n",
    ">\"What neuron type should I use?\" Use the ReLU non-linearity, be careful with your learning rates and possibly monitor the fraction of \"dead\" units in a network. If this concerns you, give Leaky ReLU or Maxout a try. Never use sigmoid. Try tanh, but expect it to work worse than ReLU/Maxout.\n",
    "<p>- <a href=\"http://cs231n.github.io/neural-networks-1/\">Andrej Karpathy</a></p>"
   ]
  },
  {
   "cell_type": "markdown",
   "metadata": {},
   "source": [
    "#### - Softmax:\n",
    "\n",
    "$$f_i(x) = \\frac{e^{x_i}}{\\sum_k e^{x_k}}$$\n",
    "\n",
    "http://cs231n.github.io/linear-classify/#softmax"
   ]
  },
  {
   "cell_type": "code",
   "execution_count": 2,
   "metadata": {
    "collapsed": false
   },
   "outputs": [
    {
     "data": {
      "text/plain": [
       "forwardNN (generic function with 1 method)"
      ]
     },
     "execution_count": 2,
     "metadata": {},
     "output_type": "execute_result"
    }
   ],
   "source": [
    "function forwardNN(activationFn::Function, x::Matrix{Float64})\n",
    "    global network;\n",
    "    # collect input for each layer\n",
    "    # the last element will be the output from the neural network\n",
    "    inputs = Matrix{Float64}[];\n",
    "    # initialize input vector with the actual data\n",
    "    push!(inputs, x);\n",
    "    for layer in 1:length(network)-1\n",
    "        push!(inputs, activationFn((inputs[layer]*network[layer][1]) .+ network[layer][2]))\n",
    "    end\n",
    "    # softmax on last layer\n",
    "    score = inputs[length(network)]*network[length(network)][1] .+ network[length(network)][2]\n",
    "    exp_scores = exp(score);\n",
    "    probs = exp_scores ./ sum(exp_scores, 2); \n",
    "\n",
    "    return inputs,probs;\n",
    "end"
   ]
  },
  {
   "cell_type": "markdown",
   "metadata": {},
   "source": [
    "<h4 class=\"section-heading\">Cost Function: $J$</h4>\n",
    "\n",
    "Let's say we have a network for N-way classification, which has N outputs y[0], ..., y[N-1] over which a softmax function is applied. We'll also represent the labels as one-hot vectors with components t[0], ..., t[N-1]. For each example, only one of these is 1 and the others are 0. Then the cross-entropy is defined as:\n",
    "\n",
    "CE(y, t) = -sum(t[i] * log(y[i]), i = 0 .. N-1)\n",
    "\n",
    "This can also be interpreted as a negative log likelihood or a KL divergence between the output distribution and the target distribution. All of these amount to the same thing.\n",
    "\n",
    "Of course the binary cross-entropy is just a special case of the categorical cross-entropy when the number of classes is 2. The reason for the confusion, I think, is that in the case of a binary classification problem, you usually build a network with a single sigmoid output, where 0 means one class and 1 means the other class. You can of course do this because p(classA) = 1 - p(classB), so it's pointless to have the network compute both of them. So the binary cross-entropy is usually defined in terms of a single output y:\n",
    "\n",
    "CE(y, t) = - t * log(y) - (1 - t) * log(1 - y)\n",
    "\n",
    "The problems start when you apply this definition of the binary cross-entropy elementwise to each output of an N-way classifier where N > 2. That just... doesn't make sense. It definitely isn't equivalent to the proper way to compute the cross-entropy in that case.\n",
    "\n",
    "(Note that for N=2, it actually gives you two times the cross-entropy, so everything would still work correctly in that case apart from the updates being twice as large as they should be.)\n",
    "\n",
    "-- https://m.reddit.com/r/MachineLearning/comments/39bo7k/can_softmax_be_used_with_cross_entropy/"
   ]
  },
  {
   "cell_type": "code",
   "execution_count": 19,
   "metadata": {
    "collapsed": false
   },
   "outputs": [
    {
     "data": {
      "text/plain": [
       "costFunction (generic function with 1 method)"
      ]
     },
     "execution_count": 19,
     "metadata": {},
     "output_type": "execute_result"
    }
   ],
   "source": [
    "function costFunction(truth::Vector{Float64}, probability::Matrix{Float64})\n",
    "    global network;\n",
    "    # compute the loss: average cross-entropy loss and regularization\n",
    "    m = size(truth,1)\n",
    "    \n",
    "    corect_logprobs = [-log(probability[j,convert(Int32, truth[j])]) for j in 1:m];\n",
    "    data_loss = sum(corect_logprobs)/m;\n",
    "    \n",
    "    reg_loss = 0;\n",
    "    for j in 1:length(network)\n",
    "        reg_loss = reg_loss + 0.5*lambda*sum(network[j][1].^2)/m;\n",
    "    end\n",
    "    \n",
    "    loss = data_loss + reg_loss;\n",
    "    return loss;\n",
    "end"
   ]
  },
  {
   "cell_type": "code",
   "execution_count": 9,
   "metadata": {
    "collapsed": false
   },
   "outputs": [
    {
     "data": {
      "text/plain": [
       "sigmoidGradient (generic function with 1 method)"
      ]
     },
     "execution_count": 9,
     "metadata": {},
     "output_type": "execute_result"
    }
   ],
   "source": [
    "# gradient of the sigmoid function evaluated at a\n",
    "function sigmoidGradient(a::Matrix{Float64})\n",
    "  return a.*(1-a);\n",
    "end"
   ]
  },
  {
   "cell_type": "code",
   "execution_count": 11,
   "metadata": {
    "collapsed": false
   },
   "outputs": [
    {
     "data": {
      "text/plain": [
       "reluGradient (generic function with 1 method)"
      ]
     },
     "execution_count": 11,
     "metadata": {},
     "output_type": "execute_result"
    }
   ],
   "source": [
    "# gradient of the ReLU function evaluated at a\n",
    "function reluGradient(a::Matrix{Float64})\n",
    "    grad = ones(a);\n",
    "    grad[a.<=0] = 0;\n",
    "    return grad;\n",
    "end"
   ]
  },
  {
   "cell_type": "code",
   "execution_count": 4,
   "metadata": {
    "collapsed": false
   },
   "outputs": [
    {
     "data": {
      "text/plain": [
       "backwardNN (generic function with 1 method)"
      ]
     },
     "execution_count": 4,
     "metadata": {},
     "output_type": "execute_result"
    }
   ],
   "source": [
    "function backwardNN(activationFnGrad::Function, a::Vector{Matrix{Float64}}, y::Vector{Float64}, dscores::Matrix{Float64})\n",
    "    global network;\n",
    "    m = size(y,1);\n",
    "    delta = Array(Matrix{Float64}, 1,length(network));\n",
    "    # start from the last layer to backpropagate the error\n",
    "    # compute the gradient on scores\n",
    "    for j in 1:size(dscores,1)\n",
    "        dscores[j,convert(Int32, y[j])] -= 1;\n",
    "    end\n",
    "    delta[length(network)] = dscores/m; # normalization factor\n",
    "    for j in length(network)-1:-1:1\n",
    "        delta[j] = delta[j+1]*network[j+1][1]'.*activationFnGrad(a[j+1]);\n",
    "    end\n",
    "    return delta;\n",
    "end"
   ]
  },
  {
   "cell_type": "code",
   "execution_count": 5,
   "metadata": {
    "collapsed": false
   },
   "outputs": [
    {
     "data": {
      "text/plain": [
       "updateThetas (generic function with 1 method)"
      ]
     },
     "execution_count": 5,
     "metadata": {},
     "output_type": "execute_result"
    }
   ],
   "source": [
    "function updateThetas(a::Vector{Matrix{Float64}}, delta::Matrix{Matrix{Float64}})\n",
    "    global network;\n",
    "    for j in 1:length(network)\n",
    "        # update theta\n",
    "        network[j][1] = network[j][1] - alpha*(a[j]'*delta[j] + lambda*network[j][1])\n",
    "        # update bias\n",
    "        network[j][2] =  network[j][2] - alpha*sum(delta[j],1);\n",
    "    end\n",
    "end"
   ]
  },
  {
   "cell_type": "code",
   "execution_count": 6,
   "metadata": {
    "collapsed": false
   },
   "outputs": [
    {
     "data": {
      "text/plain": [
       "predict (generic function with 1 method)"
      ]
     },
     "execution_count": 6,
     "metadata": {},
     "output_type": "execute_result"
    }
   ],
   "source": [
    "function predict(activationFn, data::Matrix{Float64})\n",
    "    activation, probs = forwardNN(activationFn, data);\n",
    "    predicted_class = [indmax(probs[i,:]) for i in 1:size(probs,1)]\n",
    "    return predicted_class;\n",
    "end"
   ]
  },
  {
   "cell_type": "code",
   "execution_count": 7,
   "metadata": {
    "collapsed": false
   },
   "outputs": [
    {
     "data": {
      "text/plain": [
       "accuracy (generic function with 1 method)"
      ]
     },
     "execution_count": 7,
     "metadata": {},
     "output_type": "execute_result"
    }
   ],
   "source": [
    "function accuracy(truth, prediction)\n",
    "    correct = 0;\n",
    "    for i in 1:length(truth)\n",
    "        if truth[i] == prediction[i]\n",
    "            correct = correct + 1;\n",
    "        end\n",
    "    end\n",
    "    println(\"training accuracy: \", correct/length(truth)*100);\n",
    "end"
   ]
  },
  {
   "cell_type": "markdown",
   "metadata": {},
   "source": [
    "<h2 class=\"section-heading\">Training a model</h2>"
   ]
  },
  {
   "cell_type": "markdown",
   "metadata": {},
   "source": [
    "<h4 class=\"section-heading\">Load Data</h4>"
   ]
  },
  {
   "cell_type": "code",
   "execution_count": 12,
   "metadata": {
    "collapsed": false
   },
   "outputs": [
    {
     "name": "stdout",
     "output_type": "stream",
     "text": [
      "60000\n"
     ]
    }
   ],
   "source": [
    "# ===================\n",
    "# load training data\n",
    "# ===================\n",
    "X,Y = traindata(); #X:(784x60000), y:(60000x1)\n",
    "X /= 255.0; # scale the input between 0 and 1\n",
    "X = X'; #X:(60000X784)\n",
    "Y = Y+1; # adding 1 to handle index, hence value 1 represent digit 0 now\n",
    "# number of instances\n",
    "println(size(Y,1));"
   ]
  },
  {
   "cell_type": "markdown",
   "metadata": {},
   "source": [
    "<h4 class=\"section-heading\">Define Network</h4>"
   ]
  },
  {
   "cell_type": "code",
   "execution_count": 44,
   "metadata": {
    "collapsed": true
   },
   "outputs": [],
   "source": [
    "inputLayerSize = size(X,2);\n",
    "hiddenLayerSize = 100;\n",
    "outputLayerSize = 3;"
   ]
  },
  {
   "cell_type": "code",
   "execution_count": 48,
   "metadata": {
    "collapsed": true
   },
   "outputs": [],
   "source": [
    "# define a network\n",
    "network = [];\n",
    "\n",
    "# add first layer to the network\n",
    "layer1 = Array(Matrix{Float64}, 1,2)\n",
    "#theta1\n",
    "layer1[1] = 0.01*randn(inputLayerSize, hiddenLayerSize); \n",
    "#bias1\n",
    "layer1[2] = zeros(1, hiddenLayerSize); \n",
    "push!(network,layer1);\n",
    "\n",
    "# add second layer to the network\n",
    "layer2 = Array(Matrix{Float64}, 1,2)\n",
    "#theta2\n",
    "layer2[1] = 0.01*randn(hiddenLayerSize, outputLayerSize); \n",
    "#bias2\n",
    "layer2[2] = zeros(1, outputLayerSize); \n",
    "push!(network,layer2);"
   ]
  },
  {
   "cell_type": "markdown",
   "metadata": {},
   "source": [
    "<h4 class=\"section-heading\">Training</h4>"
   ]
  },
  {
   "cell_type": "markdown",
   "metadata": {},
   "source": [
    "- http://stats.stackexchange.com/questions/49528/batch-gradient-descent-versus-stochastic-gradient-descent\n",
    "- https://www.quora.com/Whats-the-difference-between-gradient-descent-and-stochastic-gradient-descent\n",
    "- https://www.quora.com/Intuitively-how-does-mini-batch-size-affect-the-performance-of-gradient-descent\n",
    "- mini-batches need to be balanced for classes"
   ]
  },
  {
   "cell_type": "code",
   "execution_count": 49,
   "metadata": {
    "collapsed": false
   },
   "outputs": [],
   "source": [
    "alpha = 1e-0; # step size\n",
    "lambda = 1e-3; # regularization factor\n",
    "numItr = 300*5000;\n",
    "costSamplingItr = 10;\n",
    "batchSize = 1 #convert(Int32,floor(size(X,1)/5));\n",
    "J = [];\n",
    "for itr in 1:numItr\n",
    "    # take next batch of random instances \n",
    "    minibatch = collect(rand(1:size(X,1), batchSize));\n",
    "    # feedforward\n",
    "    activations, probs = forwardNN(relu, X[minibatch,:]); \n",
    "    # cost\n",
    "    if itr%costSamplingItr == 0\n",
    "        activationsX, probsX = forwardNN(relu, X); \n",
    "        push!(J, costFunction(Y, probsX));\n",
    "    end\n",
    "    # backpropagation\n",
    "    newThetas = backwardNN(reluGradient, activations, Y[minibatch], probs);\n",
    "    # update parameters\n",
    "    updateThetas(activations, newThetas);\n",
    "end"
   ]
  },
  {
   "cell_type": "markdown",
   "metadata": {},
   "source": [
    "<h2 class=\"section-heading\">Prediction and Accuracy</h2>"
   ]
  },
  {
   "cell_type": "code",
   "execution_count": 50,
   "metadata": {
    "collapsed": false
   },
   "outputs": [
    {
     "name": "stdout",
     "output_type": "stream",
     "text": [
      "training accuracy: 33.33333333333333\n"
     ]
    }
   ],
   "source": [
    "accuracy(Y, predict(relu, X));"
   ]
  },
  {
   "cell_type": "code",
   "execution_count": 31,
   "metadata": {
    "collapsed": false
   },
   "outputs": [
    {
     "data": {
      "image/png": "[encoded data removed]",
      "text/plain": [
       "PyPlot.Figure(PyObject <matplotlib.figure.Figure object at 0x00000000296C4630>)"
      ]
     },
     "metadata": {},
     "output_type": "display_data"
    }
   ],
   "source": [
    "# plot the cost per iteration\n",
    "plot(1:length(J), J)\n",
    "xlabel(\"Iterations\")\n",
    "ylabel(\"Cost\")\n",
    "grid(\"on\")"
   ]
  },
  {
   "cell_type": "code",
   "execution_count": 32,
   "metadata": {
    "collapsed": false
   },
   "outputs": [
    {
     "name": "stdout",
     "output_type": "stream",
     "text": [
      "training accuracy: 95.66\n"
     ]
    }
   ],
   "source": [
    "# test data\n",
    "XTest,YTest = testdata();\n",
    "XTest /= 255.0;\n",
    "XTest = XTest';\n",
    "YTest = YTest+1;\n",
    "accuracy(YTest, predict(relu, XTest));"
   ]
  },
  {
   "cell_type": "markdown",
   "metadata": {},
   "source": [
    "<h2 class=\"section-heading\">References:</h2>\n",
    "\n",
    "- [Rectified linear unit (ReLU)](https://en.wikipedia.org/wiki/Rectifier_(neural_networks))\n",
    "- [Learning representations by back-propagating errors](http://www.cs.toronto.edu/~hinton/absps/naturebp.pdf)\n",
    "- [Practical recommendations for gradient-based training of deep architectures](http://arxiv.org/abs/1206.5533)\n",
    "- [Efficient BackProp](http://yann.lecun.com/exdb/publis/pdf/lecun-98b.pdf)\n",
    "- [Deep Learning](http://www.iro.umontreal.ca/~bengioy/dlbook/mlp.html)\n"
   ]
  },
  {
   "cell_type": "code",
   "execution_count": null,
   "metadata": {
    "collapsed": true
   },
   "outputs": [],
   "source": []
  }
 ],
 "metadata": {
  "kernelspec": {
   "display_name": "Julia 0.4.2",
   "language": "julia",
   "name": "julia-0.4"
  },
  "language_info": {
   "file_extension": ".jl",
   "mimetype": "application/julia",
   "name": "julia",
   "version": "0.4.2"
  }
 },
 "nbformat": 4,
 "nbformat_minor": 0
}
