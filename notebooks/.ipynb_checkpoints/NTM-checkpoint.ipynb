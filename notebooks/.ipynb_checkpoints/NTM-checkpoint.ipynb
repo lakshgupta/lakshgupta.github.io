{
 "cells": [
  {
   "cell_type": "markdown",
   "metadata": {},
   "source": [
    "- [Neural Turing Machines](http://arxiv.org/abs/1410.5401)\n",
    "- [NTM-Lasagne: A Library for Neural Turing Machines in Lasagne](https://medium.com/snips-ai/ntm-lasagne-a-library-for-neural-turing-machines-in-lasagne-2cdce6837315#.7tvncfuqm)\n",
    "- [How to Code and Understand DeepMind's Neural Stack Machine](https://iamtrask.github.io/2016/02/25/deepminds-neural-stack-machine/)\n",
    "- [Neural Random-Access Machines](http://arxiv.org/abs/1410.5401)\n",
    "- [Learning to Transduce with Unbounded Memory](http://arxiv.org/abs/1506.02516)\n",
    "- [Ask Me Anything: Dynamic Memory Networks for Natural Language Processing](http://arxiv.org/abs/1506.07285)"
   ]
  },
  {
   "cell_type": "code",
   "execution_count": null,
   "metadata": {
    "collapsed": true
   },
   "outputs": [],
   "source": []
  }
 ],
 "metadata": {
  "kernelspec": {
   "display_name": "Julia 0.4.2",
   "language": "julia",
   "name": "julia-0.4"
  },
  "language_info": {
   "file_extension": ".jl",
   "mimetype": "application/julia",
   "name": "julia",
   "version": "0.4.2"
  }
 },
 "nbformat": 4,
 "nbformat_minor": 0
}
