{
 "cells": [
  {
   "cell_type": "markdown",
   "metadata": {},
   "source": [
    "### Recurrent Neural Network\n",
    "\n",
    "Let us now move on to Recurrent Neural Network (RNN). Recurrent neural network is good in handling sequential data because they have a memory component which enables this network to remember past (few) information making it better for a model requiring varying length inputs and outputs.\n",
    "\n",
    ">For example, consider the two sentences “I went to Nepal in 2009” and “In 2009,I went to Nepal.” If we ask a machine learning model to read each sentence and extract the year in which the narrator went to Nepal, we would like it to recognize the year 2009 as the relevant piece of information, whether it appears in the sixth word or the second word of the sentence. Suppose that we trained a feedforward network that processes sentences of ﬁxed length. A traditional fully connected feedforward network would have separate parameters for each input feature, so itwould need to learn all of the rules of the language separately at each position in the sentence.\n",
    "<p>- <a href=\"http://www.deeplearningbook.org/contents/rnn.html\">Ian Goodfellow, Yoshua Bengio, and Aaron Courville</a></p>\n",
    "\n",
    "In this post, we'll implement a simple RNN, applying it to the problem of [part-of-speech (POS) tagging](https://en.wikipedia.org/wiki/Part-of-speech_tagging) problem. "
   ]
  },
  {
   "cell_type": "code",
   "execution_count": 1,
   "metadata": {
    "collapsed": false
   },
   "outputs": [],
   "source": [
    "using PyPlot"
   ]
  },
  {
   "cell_type": "markdown",
   "metadata": {},
   "source": [
    "### Understanding the Data\n",
    "\n",
    "The data used in solving the POS tagging problem was taken from Graham Neubig's [NLP Programming Tutorial](http://www.phontron.com/teaching.php). Training dataset is a collection of sentences where each word already has a POS tag attached to it : \n",
    "\n",
    "$$word1\\_tag1\\;word2\\_tag2\\;\\;...\\;\\; .\\_.$$\n",
    "\n",
    "The function readWordTagData, reads such a file and outputs an array of :\n",
    "\n",
    "- unique words\n",
    "- unique tags\n",
    "- whole dataset split into tuples containing word and its associated tag\n",
    "\n",
    "Arrays of unique words and tags will help in [one-hot vector representation](http://lakshgupta.github.io/2015/07/12/VectorRepresentationofWords1/) which we'll feed to our neural network. In order to handle unknown words and unknown tags, I have also added $UNK\\_W$ and $UNK\\_T$ to these arrays."
   ]
  },
  {
   "cell_type": "code",
   "execution_count": 2,
   "metadata": {
    "collapsed": false
   },
   "outputs": [],
   "source": [
    "# https://github.com/JuliaLang/julia/issues/14099\n",
    "const spaces = filter(isspace, Char(0):Char(0x10FFFF));"
   ]
  },
  {
   "cell_type": "code",
   "execution_count": 3,
   "metadata": {
    "collapsed": false
   },
   "outputs": [
    {
     "data": {
      "text/plain": [
       "readWordTagData (generic function with 1 method)"
      ]
     },
     "execution_count": 3,
     "metadata": {},
     "output_type": "execute_result"
    }
   ],
   "source": [
    "function readWordTagData(filePath)\n",
    "    file = open(filePath);\n",
    "    vocabSet = Set{AbstractString}();\n",
    "    tagSet = Set{AbstractString}();\n",
    "    # read line\n",
    "    for ln in eachline(file)\n",
    "        word_tag = split(ln, spaces);\n",
    "        # remove \"\"\n",
    "        word_tag = word_tag[word_tag .!= \"\"]\n",
    "        # separate word from tag\n",
    "        for token in word_tag\n",
    "            tokenSplit = split(token, \"_\");\n",
    "            push!(vocabSet, tokenSplit[1]);\n",
    "            push!(tagSet, tokenSplit[2]);\n",
    "        end\n",
    "    end\n",
    "    close(file);\n",
    "    # to handle unknown words\n",
    "    push!(vocabSet, \"UNK_W\");\n",
    "    # to handle unknown tags\n",
    "    push!(tagSet, \"UNK_T\");\n",
    "    #println(vocabSet)\n",
    "    #println(tagSet)\n",
    "    vocab = collect(vocabSet);\n",
    "    tags = collect(tagSet);\n",
    "    # prepare data array\n",
    "    data = Tuple{AbstractString , AbstractString }[];\n",
    "    file = open(filePath);\n",
    "    # read line\n",
    "    for ln in eachline(file)\n",
    "        word_tag = split(ln, spaces);\n",
    "        # remove \"\"\n",
    "        word_tag = word_tag[word_tag .!= \"\"]\n",
    "        # separate word from tag\n",
    "        for token in word_tag\n",
    "            tokenSplit = split(token, \"_\");\n",
    "            push!(data, (tokenSplit[1], tokenSplit[2]));\n",
    "        end\n",
    "    end\n",
    "    close(file);\n",
    "    #println(length(data))\n",
    "    return vocab, tags, data;\n",
    "end"
   ]
  },
  {
   "cell_type": "markdown",
   "metadata": {},
   "source": [
    "### Setting up RNN\n",
    "\n",
    "Looking at a time step $t$, an RNN receives an input $x_t$ along with the hidden state($h_{t-1}$) computed in the previous time step ($t-1$). If you unroll the RNN over few time steps then it becomes easier to understand and train the network, similar to a feedforward neural network. Any network with connections making a cycle can be unrolled into a series of feedforward network representing each time step. All these time steps share the respective weights and biases over the network and our task would be to learn these parameters using the backpropagation algorithm. It'll become clear once we get to the code.\n",
    "![rnn_basic](files/img/nn/rnn_basic.png) "
   ]
  },
  {
   "cell_type": "code",
   "execution_count": 11,
   "metadata": {
    "collapsed": false
   },
   "outputs": [
    {
     "data": {
      "text/plain": [
       "1x43 Array{Float64,2}:\n",
       " 0.0  0.0  0.0  0.0  0.0  0.0  0.0  0.0  …  0.0  0.0  0.0  0.0  0.0  0.0  0.0"
      ]
     },
     "execution_count": 11,
     "metadata": {},
     "output_type": "execute_result"
    }
   ],
   "source": [
    "# read data\n",
    "vocabListTrain, tagListTrain, dataTrain = readWordTagData(\"data/pos/wiki-en-train.norm_pos\");\n",
    "# define the network\n",
    "inputLayerSize = length(vocabListTrain);\n",
    "hiddenLayerSize = 100;\n",
    "outputLayerSize = length(tagListTrain);\n",
    "learningRate = 1e-3;\n",
    "decayRate = 0.9;\n",
    "epsVal = 1e-5;\n",
    "# initialize weights and biases\n",
    "Wxh = randn(inputLayerSize, hiddenLayerSize)*0.01; # input to hidden\n",
    "Whh = randn(hiddenLayerSize, hiddenLayerSize)*0.01; # hidden to hidden\n",
    "Bh = zeros(1, hiddenLayerSize); # hidden bias\n",
    "Why = randn(hiddenLayerSize, outputLayerSize)*0.01; # hidden to output\n",
    "By = zeros(1, outputLayerSize); # output bias"
   ]
  },
  {
   "cell_type": "markdown",
   "metadata": {},
   "source": [
    "### Backpropagation Through Time (BPTT)\n",
    "\n",
    "In order to learn the weights for our recurrent network, we have to generalize our backpropagation algorithm and apply it to our recurrent neural networks. This variant we are going to use is known as [backpropagation through time (BPTT)](http://mail.werbos.com/Neural/BTT.pdf) since it works on sequences in time. "
   ]
  },
  {
   "cell_type": "markdown",
   "metadata": {},
   "source": [
    "In the forward process, we'll take one-hot vector representation of a word and will try to predict the normalized tag probability. For that we are using the tanh activation function at the hidden layer and the softmax at the output layer. Since our network is an RNN, at time step $1$ for the first sequence, the hidden state can be a zero matrix and in the next time step we can use whatever we have calculated in the previous time step i.e., the value of the last hidden state of the first sequence can be used at time step $1$ for the next sequence and so on. \n",
    "\n",
    "$$a_t = W_{xh}*x_{t} + W_{hh}*h_{t-1} + B_h$$\n",
    "$$h_t = tanh(a_t)$$\n",
    "$$z_t = W_{hy}*h_t + B_y$$\n",
    "$$\\hat y_t = softmax(z_t)$$\n",
    "\n",
    "We'll save the hidden state values and the normalized probabilities at the each time step to use during the backward process. \n",
    "\n",
    "For each time step we define out cross entropy cost function as:\n",
    "\n",
    "$$J_t(W_xh, W_hh, W_hy) = J_t(W) = - y_t* \\log (\\hat y_t)$$\n",
    "\n",
    "Since our input is a sequence we define the cost for the whole sequence as:\n",
    "\n",
    "$$J(W) = \\sum_{t}J_t(W) = - \\sum_{t} y_t* \\log (\\hat y_t)$$\n"
   ]
  },
  {
   "cell_type": "code",
   "execution_count": 5,
   "metadata": {
    "collapsed": false
   },
   "outputs": [
    {
     "data": {
      "text/plain": [
       "forwardRNN (generic function with 1 method)"
      ]
     },
     "execution_count": 5,
     "metadata": {},
     "output_type": "execute_result"
    }
   ],
   "source": [
    "function forwardRNN(x::Array{Vector{Float64},1}, y::Array{Vector{Float64},1}, \n",
    "    h::Array{Array{Float64,2},1}, p::Array{Vector{Float64},1}, hPrev::Array{Float64,2})\n",
    "    \n",
    "    global Wxh, Whh, Why, Bh, By;\n",
    "    cost = 0;\n",
    "    # for each time t in x\n",
    "    # unrolling RNN -> Feedforward NN step\n",
    "    for time in 1:length(x)\n",
    "        if time == 1\n",
    "            h[time] = tanh(x[time]'*Wxh + hPrev*Whh .+ Bh);\n",
    "        else\n",
    "            h[time] = tanh(x[time]'*Wxh + h[time-1]*Whh .+ Bh);\n",
    "        end\n",
    "        # output layer\n",
    "        score = h[time]*Why .+ By;\n",
    "        p_softmax = exp(score) / sum(exp(score));\n",
    "        p[time] = vec(p_softmax); # output probability distribution (at time t)\n",
    "        cost += -sum(log(y[time]'*p[time])) # assuming y is a one-hot vector\n",
    "    end\n",
    "    return cost;\n",
    "end"
   ]
  },
  {
   "cell_type": "markdown",
   "metadata": {},
   "source": [
    "In the backward process, we apply the chain rule as usual to backpropagate the errors and calculate the gradients. We already defined our cost function as :\n",
    "\n",
    "$$J(W) = - \\sum_{t} y_t* \\log (\\hat y_t)$$\n",
    "\n",
    "Since all output units contribute to the error of each hidden unit we sum up all the gradients calculated at each time step in the sequence and use it to update the parameters. So our parameter gradients becomes :\n",
    "\n",
    "$$\\frac{\\partial J_t}{\\partial W_{hy}} = \\sum_t \\frac{\\partial J}{\\partial z_t}*\\underbrace{\\frac{\\partial z_t}{\\partial W_{hy}}}_{h_t}$$\n",
    "\n",
    "\n",
    "$$\\frac{\\partial J_t}{\\partial W_{hh}} = \\sum_t \\frac{\\partial J}{\\partial h_t}*\\underbrace{\\frac{\\partial h_t}{\\partial W_{hh}}}_{(1-h_t^2)*h_{t-1}}$$\n",
    "\n",
    "\n",
    "$$\\frac{\\partial J_t}{\\partial W_{xh}} = \\sum_t \\frac{\\partial J}{\\partial h_t}*\\underbrace{\\frac{\\partial h_t}{\\partial W_{xh}}}_{(1-h_t^2)*x_{t}}$$\n",
    "\n",
    "\n",
    "where, \n",
    "\n",
    "$$\\frac{\\partial J}{\\partial z_t} = \\underbrace{\\frac{\\partial J}{\\partial J_t}}_{= 1} * \\frac{\\partial J_t}{\\partial z_t}$$\n",
    "\n",
    "\n",
    "From the [previous post](http://lakshgupta.github.io/2016/01/16/NeuralNetwork2/) we know that:\n",
    "\n",
    "$$\\frac{\\partial J_t}{\\partial z_t} = \\hat y_t - y_t $$\n",
    "\n",
    "Point to note here is that change in $z_t$ does not affect the cost at other time steps. But that is not the case with $h_t$. A change in $h$ at time step $t$ is going to change the cost at $t+1$, $t+2$ ...$T$. In other words, $h_t$ is going to affect $\\hat y_t$ and $h_{t+1}$, which in turn will propagate forward and affect $h$ at other time steps. \n",
    "\n",
    "So let us look at the end of the sequence, i.e., at time step $T$:\n",
    "$$\\begin{aligned}  \n",
    "\\frac{\\partial J}{\\partial h_T} &= \\frac{\\partial J}{\\partial z_T}*\\frac{\\partial z_T}{\\partial h_T} \\\\\n",
    "&= (\\hat y_T - y_T)*W_{hy}\n",
    "\\end{aligned}\n",
    "$$\n",
    "\n",
    "and at other time step $t$ in the sequence,\n",
    "\n",
    "$$\\begin{aligned}  \n",
    "\\underbrace{\\frac{\\partial J}{\\partial h_t}}_{dh} &= \\underbrace{\\left (\\frac{\\partial J}{\\partial z_t}*\\frac{\\partial z_t}{\\partial h_t} \\right )}_{a} + \\underbrace{\\left (\\frac{\\partial J}{\\partial h_{t+1}}*\\frac{\\partial h_{t+1}}{\\partial h_t}\\right )}_{dhnext}\\end{aligned}\n",
    "$$\n",
    "\n",
    "We can work out $a$ from the other equations above. In $dhnext$, the value of $\\frac{\\partial J}{\\partial h_{t+1}}$ will backpropagate since we would have already calculated this at time step $(t+1)$ before coming on to the time step $t$. For the rest :\n",
    "$$\\frac{\\partial h_{t+1}}{\\partial h_t} = W_{hh}*(1-h_t^2)$$\n",
    "\n",
    "\n",
    "A similar but a different way of working out the equations can be seen in Richard Sochers's [Recurrent Neural Network](http://cs224d.stanford.edu/lectures/CS224d-Lecture7.pdf) lecture slide.\n",
    " >![RNN_BPTT](files/img/nn/rnn_bptt.png)\n",
    "\n",
    "\n",
    "In the code we are also using gradient clipping to handle the gradient explosion problem. I first observed this being used in Andrej Karpathy's [min-char-rnn.py](https://gist.github.com/karpathy/d4dee566867f8291f086), and then in [this](http://arxiv.org/abs/1211.5063) paper.\n",
    ">We propose a gradient norm\n",
    "clipping strategy to deal with exploding gradients\n",
    "and a soft constraint for the vanishing\n",
    "gradients problem. \n",
    "<p>- <a href=\"http://arxiv.org/abs/1211.5063\">Razvan Pascanu, Tomas Mikolov, Yoshua Bengio</a></p>"
   ]
  },
  {
   "cell_type": "code",
   "execution_count": 6,
   "metadata": {
    "collapsed": false
   },
   "outputs": [
    {
     "data": {
      "text/plain": [
       "backwardRNN (generic function with 1 method)"
      ]
     },
     "execution_count": 6,
     "metadata": {},
     "output_type": "execute_result"
    }
   ],
   "source": [
    "function backwardRNN(x::Array{Vector{Float64},1}, y::Array{Vector{Float64},1}, \n",
    "    h::Array{Array{Float64,2},1}, p::Array{Vector{Float64},1}, hPrev::Array{Float64,2})\n",
    "    \n",
    "    global Wxh, Whh, Why, Bh, By;\n",
    "    \n",
    "    dWxh = zeros(size(Wxh));\n",
    "    dWhh = zeros(size(Whh));\n",
    "    dBh = zeros(size(Bh));\n",
    "    dWhy = zeros(size(Why));\n",
    "    dBy = zeros(size(By));\n",
    "    \n",
    "    dh = zeros(size(Bh)); # error from the following time step\n",
    "    dhnext = zeros(size(h[1]));\n",
    "    for time in length(x):-1:1\n",
    "        # output layer error\n",
    "        dy = p[time] - y[time]; #assuming y is a one hot vector\n",
    "        # output gradient\n",
    "        dWhy = dWhy + (dy * h[time])';\n",
    "        dBy = dBy + dy';\n",
    "        # backpropagate\n",
    "        dh = (Why*dy)' + dhnext;\n",
    "        dhRaw = (1 - (h[time].*h[time])) .* dh;\n",
    "        # hidden layer gradient\n",
    "        dWxh = dWxh + (x[time] * dhRaw);\n",
    "        dBh = dBh + dhRaw;\n",
    "        if time == 1\n",
    "            dWhh = dWhh + (hPrev' * dhRaw);\n",
    "        else\n",
    "            dWhh = dWhh + (h[time-1]' * dhRaw);\n",
    "        end\n",
    "        dhnext = dhRaw*Whh;\n",
    "    end\n",
    "    # clip to mitigate exploding gradients\n",
    "    dWxh = clamp(dWxh, -5, 5);\n",
    "    dWhh = clamp(dWhh, -5, 5);\n",
    "    dBh = clamp(dBh, -5, 5);\n",
    "    dWhy = clamp(dWhy, -5, 5);\n",
    "    dBy = clamp(dBy, -5, 5);\n",
    "    \n",
    "    return dWxh, dWhh, dBh, dWhy, dBy;\n",
    "end"
   ]
  },
  {
   "cell_type": "markdown",
   "metadata": {},
   "source": [
    "### Gradient Check\n",
    "\n",
    "The implementation of backpropagation algorithm hasn't changed much over these series of posts but it's always good to keep a tool in hand to check whether our code is correct or not. We first go through the backpropagation step to calculate the analytical gradients. Then we perturb an element in the weight matrix and go through the forward step to calculate the cost calculating the numerical gradient as :\n",
    "\n",
    "$$\\begin{align}\n",
    "\\frac{d}{d\\theta}J(\\theta) = \\lim_{\\epsilon \\rightarrow 0}\n",
    "\\frac{J(\\theta+ \\epsilon) - J(\\theta-\\epsilon)}{2 \\epsilon}.\n",
    "\\end{align}$$\n",
    "\n",
    "By comparing the relative error between the analytical gradient and the numerical gradient we can be sure that there is no bug in calculating the gradients. It should be very very small, less than $1e^{-5}$.\n",
    "\n",
    ">Use relative error for the comparison. What are the details of comparing the numerical gradient $f′n$ and analytic gradient $f′a$? That is, how do we know if the two are not compatible? You might be tempted to keep track of the difference $∣fa′−fn′∣$ or its square and define the gradient check as failed if that difference is above a threshold. However, this is problematic. For example, consider the case where their difference is 1e-4. This seems like a very appropriate difference if the two gradients are about 1.0, so we'd consider the two gradients to match. But if the gradients were both on order of 1e-5 or lower, then we'd consider 1e-4 to be a huge difference and likely a failure. Hence, it is always more appropriate to consider the relative error :\n",
    ">\n",
    "$$\\frac{\\mid f'_a - f'_n \\mid}{\\max(\\mid f'_a \\mid, \\mid f'_n \\mid)}$$\n",
    ">\n",
    "which considers their ratio of the differences to the ratio of the absolute values of both gradients. Notice that normally the relative error formula only includes one of the two terms (either one), but I prefer to max (or add) both to make it symmetric and to prevent dividing by zero in the case where one of the two is zero (which can often happen, especially with ReLUs). However, one must explicitly keep track of the case where both are zero and pass the gradient check in that edge case. In practice :\n",
    ">\n",
    "- relative error > 1e-2 usually means the gradient is probably wrong\n",
    "- 1e-2 > relative error > 1e-4 should make you feel uncomfortable\n",
    "- 1e-4 > relative error is usually okay for objectives with kinks. But if there are no kinks (e.g. use of tanh nonlinearities and softmax), then 1e-4 is too high.\n",
    "- 1e-7 and less you should be happy.\n",
    ">\n",
    "Also keep in mind that the deeper the network, the higher the relative errors will be. So if you are gradient checking the input data for a 10-layer network, a relative error of 1e-2 might be okay because the errors build up on the way. Conversely, an error of 1e-2 for a single differentiable function likely indicates incorrect gradient.\n",
    "<p>- <a href=\"http://cs231n.github.io/neural-networks-3/\">Andrej Karpathy</a></p>\n",
    "\n",
    "Its been also suggested to:\n",
    "- not perform the gradient check at the first iteration\n",
    "- turn off regularization\n",
    "- check some of the dimensions of the gradient and assume that the others are correct"
   ]
  },
  {
   "cell_type": "code",
   "execution_count": 7,
   "metadata": {
    "collapsed": false
   },
   "outputs": [
    {
     "data": {
      "text/plain": [
       "gradCheck (generic function with 1 method)"
      ]
     },
     "execution_count": 7,
     "metadata": {},
     "output_type": "execute_result"
    }
   ],
   "source": [
    "# gradient checking\n",
    "function gradCheck(inputs::Array{Vector{Float64},1}, targets::Array{Vector{Float64},1},\n",
    "    h::Array{Array{Float64,2},1}, p::Array{Vector{Float64},1}, hPrev::Array{Float64,2})\n",
    "    \n",
    "    paramNameList = [\"Wxh\", \"Whh\", \"Bh\", \"Why\", \"By\"];\n",
    "    # collect paramters\n",
    "    global Wxh, Whh, Why, Bh, By;\n",
    "    paramList = [x for x=(Wxh, Whh, Bh, Why, By)];\n",
    "    num_checks = 2;\n",
    "    delta = 1e-5;\n",
    "    # collect parameter gradients\n",
    "    cost = forwardRNN(inputs, targets, h, p, hPrev);\n",
    "    dWxh, dWhh, dBh, dWhy, dBy = backwardRNN(inputs, targets, h, p, hPrev);\n",
    "    dParamList = [x for x=(dWxh, dWhh, dBh, dWhy, dBy)];\n",
    "    for (param,dparam,name) in zip(paramList, dParamList, paramNameList)\n",
    "        # validate the size of the parameter and its gradient\n",
    "        s0 = size(dparam);\n",
    "        s1 = size(param);\n",
    "        if s0 != s1\n",
    "            println(\"Error dims dont match: \", s0,\" and \",s1);\n",
    "        end\n",
    "        println(name)\n",
    "        for i in 1:num_checks\n",
    "            ri = rand(1:length(param));\n",
    "            # evaluate cost at [x + delta] and [x - delta]\n",
    "            old_val = param[ri];\n",
    "            param[ri] = old_val + delta;\n",
    "            cg0 = forwardRNN(inputs, targets, h, p, hPrev);\n",
    "            param[ri] = old_val - delta;\n",
    "            cg1 = forwardRNN(inputs, targets, h, p, hPrev);\n",
    "            param[ri] = old_val # reset old value for this parameter\n",
    "            # fetch both numerical and analytic gradient\n",
    "            grad_analytic = dparam[ri];\n",
    "            grad_numerical = (cg0 - cg1) / ( 2 * delta );\n",
    "            \n",
    "            rel_error = abs(grad_analytic - grad_numerical) / abs(grad_numerical + grad_analytic);\n",
    "            println(grad_numerical,\", \", grad_analytic, \" => \",rel_error);\n",
    "            # rel_error should be on order of 1e-7 or less\n",
    "            if rel_error > 1e-5\n",
    "                error(\"Gradient check failed.\");\n",
    "            end\n",
    "        end\n",
    "        println(\"Gradient check passed.\")\n",
    "    end\n",
    "end"
   ]
  },
  {
   "cell_type": "markdown",
   "metadata": {},
   "source": [
    "I ran the gradient check for a sample dataset and used the sequence length of 1. This operation is commented out in the code below because it is very computation expensive. The train method loops over each sequence, and updates the weights/biases matrices using the backpropagation algorithm to calculate the gradients for that sequence."
   ]
  },
  {
   "cell_type": "code",
   "execution_count": 8,
   "metadata": {
    "collapsed": false
   },
   "outputs": [
    {
     "data": {
      "text/plain": [
       "train (generic function with 1 method)"
      ]
     },
     "execution_count": 8,
     "metadata": {},
     "output_type": "execute_result"
    }
   ],
   "source": [
    "\n",
    "function train(data::Array{Tuple{AbstractString,AbstractString},1}, vocabList::Array{AbstractString,1} \n",
    "    , tagList::Array{AbstractString,1}, numItr::Int64, seqLength::Int64, sampleCostAtItr::Int64)\n",
    "    \n",
    "    global Wxh, Whh, Why, Bh, By;\n",
    "    numIterations =  numItr * length(data);\n",
    "    costList = []; # store cost per sampled iteration\n",
    "    ptr = 1;\n",
    "    p = [zeros(length(tagList)) for i in 1:seqLength];\n",
    "    h = Array{Float64,2}[zeros(1,hiddenLayerSize) for i in 1:seqLength]; # hidden layers (at time t)\n",
    "    hPrev = zeros(1, hiddenLayerSize);\n",
    "   for itr in 1:numIterations\n",
    "        # take care of the sequence length\n",
    "        if ptr+seqLength-1 > length(data) # whenever we are looking at the data from the start\n",
    "            # reset RNN memory\n",
    "            hPrev = zeros(1, hiddenLayerSize);\n",
    "            # go from start of data\n",
    "            ptr = 1 \n",
    "        end\n",
    "        # generate sequence\n",
    "        seqData = data[ptr:ptr+seqLength-1];\n",
    "        x = Vector{Float64}[];\n",
    "        y = Vector{Float64}[];\n",
    "        for word_tag in seqData\n",
    "            word = word_tag[1];\n",
    "            tag = word_tag[2];\n",
    "            # convert to one-hot vectors\n",
    "            # words\n",
    "            wordVec = zeros(length(vocabList));\n",
    "            findWord = collect(vocabList.==word)\n",
    "            if length(findWord[findWord.==true]) == 0\n",
    "                # unknown word: UNK_W\n",
    "                findWord[length(findWord)] = true;\n",
    "            end\n",
    "            wordVec[findWord] = 1;\n",
    "            # tags\n",
    "            tagVec = zeros(length(tagList));\n",
    "            findTag = collect(tagList.==tag)\n",
    "            if length(findTag[findTag.==true]) == 0\n",
    "                # unknown tag: UNK_T\n",
    "                findTag[length(findTag)] = true;\n",
    "            end\n",
    "            tagVec[findTag] = 1;\n",
    "            # push to the sequence\n",
    "            push!(x , wordVec);\n",
    "            push!(y , tagVec);\n",
    "        end\n",
    "        # gradient check\n",
    "        #gradCheck(x, y, h, p, hPrev);\n",
    "        \n",
    "        # feedforward\n",
    "        cost = forwardRNN(x, y, h, p, hPrev);\n",
    "        # sample cost\n",
    "        if itr%sampleCostAtItr == 1\n",
    "            push!(costList, cost);\n",
    "        end\n",
    "        # backpropagate\n",
    "        dWxh, dWhh, dBh, dWhy, dBy = backwardRNN(x, y, h, p, hPrev);\n",
    "    \n",
    "        # update weights\n",
    "        Wxh += -learningRate * dWxh;\n",
    "        Whh += -learningRate * dWhh;\n",
    "        Bh += -learningRate * dBh;\n",
    "        Why += -learningRate * dWhy;\n",
    "        By += -learningRate * dBy;\n",
    "        \n",
    "        # previous output as hidden input for the next sequence\n",
    "        hPrev = h[length(h)]; \n",
    "        \n",
    "        # move data pointer\n",
    "        ptr += seqLength;\n",
    "    end\n",
    "    return costList;\n",
    "end"
   ]
  },
  {
   "cell_type": "markdown",
   "metadata": {},
   "source": [
    "We'll run the training step for the whole data 20 times, using an input sequence of size 2. Since there will be lot of iteration we'll sample the cost at every 1000 interation."
   ]
  },
  {
   "cell_type": "code",
   "execution_count": 12,
   "metadata": {
    "collapsed": false
   },
   "outputs": [],
   "source": [
    "# MAIN\n",
    "# number of steps to unroll the RNN for\n",
    "seqLen = 2 \n",
    "# run through the data n times\n",
    "numIterOverData = 20;\n",
    "# sample cost after each n iteration\n",
    "sampleCostAtEveryItr = 1000;\n",
    "J = train(dataTrain, vocabListTrain, tagListTrain, numIterOverData, seqLen, sampleCostAtEveryItr);"
   ]
  },
  {
   "cell_type": "code",
   "execution_count": 13,
   "metadata": {
    "collapsed": false
   },
   "outputs": [
    {
     "data": {
      "image/png": "[encoded data removed]",
      "text/plain": [
       "PyPlot.Figure(PyObject <matplotlib.figure.Figure object at 0x0000000029F2CC50>)"
      ]
     },
     "metadata": {},
     "output_type": "display_data"
    }
   ],
   "source": [
    "# plot the cost per iteration\n",
    "sampleIdxJ = [1+sampleCostAtEveryItr*i for i in 0:length(J)-1]\n",
    "plot(sampleIdxJ, J)\n",
    "xlabel(\"Sampled Iterations\")\n",
    "ylabel(\"Cost\")\n",
    "grid(\"on\")"
   ]
  },
  {
   "cell_type": "markdown",
   "metadata": {},
   "source": [
    "The cost in the graph seems to be decreasing with respect to the iteration. The cost is not smoothly decreasing because we are kind of running a mini-batch gradient descent hence it is just an estimate of the cost over the whole dataset. It's in my TODO list to investigate it more thoroughly some day since the graph looks a bit ugly. For now, let's check how it is performing. To find the accuracy, we'll use the learned model and go through the forward step to make the prediction."
   ]
  },
  {
   "cell_type": "code",
   "execution_count": 14,
   "metadata": {
    "collapsed": false
   },
   "outputs": [
    {
     "data": {
      "text/plain": [
       "findAccuracy (generic function with 1 method)"
      ]
     },
     "execution_count": 14,
     "metadata": {},
     "output_type": "execute_result"
    }
   ],
   "source": [
    "function findAccuracy(data::Array{Tuple{AbstractString,AbstractString},1}, vocabList::Array{AbstractString,1} \n",
    "    , tagList::Array{AbstractString,1}, seqLength::Int64)\n",
    "    \n",
    "    correct = 0;\n",
    "    ptr=1;\n",
    "    p = [zeros(length(tagList)) for i in 1:seqLength];\n",
    "    h = Array{Float64,2}[zeros(1,hiddenLayerSize) for i in 1: seqLength]; # hidden layers (at time t)\n",
    "    hPrev = zeros(1,hiddenLayerSize);\n",
    "    for i in 1:length(data)/seqLength\n",
    "        \n",
    "        # prepare inputs (we're sweeping from left to right in steps seq_length long)\n",
    "        if ptr+seqLength-1 > length(data) # whenever we are looking at the data from the start\n",
    "            break # return if data is alread read\n",
    "        end\n",
    "        # generate sequence\n",
    "        seqData = data[ptr:ptr+seqLength-1];\n",
    "        x = Vector{Float64}[];\n",
    "        y = Vector{Float64}[];\n",
    "        for word_tag in seqData\n",
    "            word = word_tag[1];\n",
    "            tag = word_tag[2];\n",
    "            # convert to one-hot vectors\n",
    "            # words\n",
    "            wordVec = zeros(length(vocabList));\n",
    "            findWord = collect(vocabList.==word)\n",
    "            if length(findWord[findWord.==true]) == 0\n",
    "                # unknown word: UNK_W\n",
    "                findWord[length(findWord)] = true;\n",
    "            end\n",
    "            wordVec[findWord] = 1;\n",
    "            # tags\n",
    "            tagVec = zeros(length(tagList));\n",
    "            findTag = collect(tagList.==tag)\n",
    "            if length(findTag[findTag.==true]) == 0\n",
    "                # unknown tag: UNK_T\n",
    "                findTag[length(findTag)] = true;\n",
    "            end\n",
    "            tagVec[findTag] = 1;\n",
    "            # push to the sequence\n",
    "            push!(x , wordVec);\n",
    "            push!(y , tagVec);\n",
    "        end\n",
    "        # feedforward\n",
    "        cost = forwardRNN(x, y, h, p, hPrev);\n",
    "        hPrev = h[size(h,1)];\n",
    "        \n",
    "        prediction = [indmax(p[j]) for j in 1:length(seqData)];\n",
    "        truth = [indmax(y[j]) for j in 1:length(seqData)];\n",
    "        # accuracy\n",
    "        for j in 1:length(seqData)\n",
    "            if truth[j] == prediction[j]\n",
    "                correct = correct + 1;\n",
    "            end\n",
    "        end\n",
    "        ptr += seqLength; # move data pointer\n",
    "    end\n",
    "    accuracy = correct/length(data)*100;\n",
    "    return accuracy;\n",
    "end"
   ]
  },
  {
   "cell_type": "code",
   "execution_count": 15,
   "metadata": {
    "collapsed": false
   },
   "outputs": [
    {
     "name": "stdout",
     "output_type": "stream",
     "text": [
      "accuracy: 90.99910251585072\n"
     ]
    }
   ],
   "source": [
    "accuracy = findAccuracy(dataTrain, vocabListTrain, tagListTrain, seqLen);\n",
    "println(\"accuracy: \", accuracy);"
   ]
  },
  {
   "cell_type": "markdown",
   "metadata": {},
   "source": [
    "### Test data\n",
    "\n",
    "The test data consists of two files, one with regular sentences in English and other with their corresponding tags. I am just mapping the words and tags to produce an array of tuples similar to what we used in the training step."
   ]
  },
  {
   "cell_type": "code",
   "execution_count": 16,
   "metadata": {
    "collapsed": false
   },
   "outputs": [
    {
     "data": {
      "text/plain": [
       "readData (generic function with 1 method)"
      ]
     },
     "execution_count": 16,
     "metadata": {},
     "output_type": "execute_result"
    }
   ],
   "source": [
    "function readData(filePath)\n",
    "    file = open(filePath);\n",
    "    # read line\n",
    "    wordList = [];\n",
    "    for ln in eachline(file)\n",
    "        words = split(ln, spaces);\n",
    "        # remove \"\"\n",
    "        words = words[words .!= \"\"]\n",
    "        # append to the list\n",
    "        wordList = [words; wordList];\n",
    "    end\n",
    "    close(file);\n",
    "    return wordList;\n",
    "end"
   ]
  },
  {
   "cell_type": "code",
   "execution_count": 17,
   "metadata": {
    "collapsed": false
   },
   "outputs": [],
   "source": [
    "# read test data\n",
    "wordListTest = readData(\"data/pos/wiki-en-test.norm\");\n",
    "tagListTest = readData(\"data/pos/wiki-en-test.pos\");  \n",
    "dataTest = Tuple{AbstractString , AbstractString }[];\n",
    "\n",
    "for i in 1:length(wordListTest)\n",
    "  push!(dataTest, (wordListTest[i], tagListTest[i]));\n",
    "end"
   ]
  },
  {
   "cell_type": "code",
   "execution_count": 18,
   "metadata": {
    "collapsed": false
   },
   "outputs": [
    {
     "name": "stdout",
     "output_type": "stream",
     "text": [
      "accuracy: 85.1194389655928\n"
     ]
    }
   ],
   "source": [
    "# will use vocab list and tag list created at the training time\n",
    "accuracy = findAccuracy(dataTest, vocabListTrain, tagListTrain, seqLen);\n",
    "println(\"accuracy: \", accuracy);"
   ]
  },
  {
   "cell_type": "markdown",
   "metadata": {},
   "source": [
    "As you can see, RNN performed quite well on both the train and the test data set. But RNN has it own problems. It suffers from vanishing/exploding gradient problem.\n",
    "\n",
    ">As introduced in Bengio et al. (1994), the exploding\n",
    "gradients problem refers to the large increase in the\n",
    "norm of the gradient during training. Such events are\n",
    "caused by the explosion of the long term components,\n",
    "which can grow exponentially more then short term\n",
    "ones. The vanishing gradients problem refers to the\n",
    "opposite behaviour, when long term components go\n",
    "exponentially fast to norm 0, making it impossible for\n",
    "the model to learn correlation between temporally distant\n",
    "events.\n",
    "<p>- <a href=\"http://arxiv.org/abs/1211.5063\">Razvan Pascanu, Tomas Mikolov, Yoshua Bengio</a></p>\n",
    "\n",
    "In order to tackle these problems, people have come up with few other variants of RNN such as [LSTM (Long-Short Term Memory)](https://en.wikipedia.org/wiki/Long_short-term_memory) and GRU (Gated Recurrent Unit). Maybe I'll cover some of them in the coming posts. Till then, keep it constructive and enjoy!"
   ]
  },
  {
   "cell_type": "markdown",
   "metadata": {},
   "source": [
    "<h2 class=\"section-heading\">References:</h2>\n",
    "\n",
    "- [The Unreasonable Effectiveness of Recurrent Neural Networks](http://karpathy.github.io/2015/05/21/rnn-effectiveness/)\n",
    "- [Recurrent\tNeural\tNetworks - cs224d](http://cs224d.stanford.edu/lectures/CS224d-Lecture7.pdf)\n",
    "- [Sequence Modeling: Recurrent and Recursive Nets](http://www.deeplearningbook.org/contents/rnn.html)\n",
    "- [A Critical Review of Recurrent Neural Networks for Sequence Learning](http://arxiv.org/abs/1506.00019)\n",
    "- [Backpropagation Through Time: What it does and how to do it](http://mail.werbos.com/Neural/BTT.pdf)\n",
    "- [A guide to recurrent neural networks and backpropagation](http://faculty.ksu.edu.sa/ghulam/Documents/Downloads/RecurrentNeuralNetwork.pdf)\n",
    "- [Lec [5.1]: Deep Learning, Recurrent neural network](https://youtu.be/AvyhbrQptHk)\n",
    "- [Training RNNs](http://www.cs.toronto.edu/~rgrosse/csc321/lec10.pdf)\n",
    "- [On the difficulty of training Recurrent Neural Networks\n",
    "](http://arxiv.org/abs/1211.5063)\n",
    "- [Deep Learning Lecture 12: Recurrent Neural Nets and LSTMs](https://youtu.be/56TYLaQN4N8)\n",
    "- [NLP Programming Tutorial](http://www.phontron.com/slides/nlp-programming-en-08-rnn.pdf)\n",
    "- [Statistical Language Models based on Neural Networks](http://www.fit.vutbr.cz/~imikolov/rnnlm/thesis.pdf)\n",
    "- [A Simple Way to Initialize Recurrent Networks of Rectified Linear Units](http://arxiv.org/abs/1504.00941)\n"
   ]
  }
 ],
 "metadata": {
  "kernelspec": {
   "display_name": "Julia 0.4.2",
   "language": "julia",
   "name": "julia-0.4"
  },
  "language_info": {
   "file_extension": ".jl",
   "mimetype": "application/julia",
   "name": "julia",
   "version": "0.4.2"
  }
 },
 "nbformat": 4,
 "nbformat_minor": 0
}
