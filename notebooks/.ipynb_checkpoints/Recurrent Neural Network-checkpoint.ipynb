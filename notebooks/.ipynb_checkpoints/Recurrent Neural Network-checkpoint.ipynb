{
 "cells": [
  {
   "cell_type": "markdown",
   "metadata": {},
   "source": [
    "### POS Tagging"
   ]
  },
  {
   "cell_type": "code",
   "execution_count": 1,
   "metadata": {
    "collapsed": true
   },
   "outputs": [],
   "source": [
    "using PyPlot"
   ]
  },
  {
   "cell_type": "code",
   "execution_count": 2,
   "metadata": {
    "collapsed": false
   },
   "outputs": [],
   "source": [
    "# https://github.com/JuliaLang/julia/issues/14099\n",
    "const spaces = filter(isspace, Char(0):Char(0x10FFFF));"
   ]
  },
  {
   "cell_type": "code",
   "execution_count": 3,
   "metadata": {
    "collapsed": false
   },
   "outputs": [
    {
     "data": {
      "text/plain": [
       "readWordTagData (generic function with 1 method)"
      ]
     },
     "execution_count": 3,
     "metadata": {},
     "output_type": "execute_result"
    }
   ],
   "source": [
    "function readWordTagData(filePath)\n",
    "    file = open(filePath);\n",
    "    vocabSet = Set{AbstractString}();\n",
    "    tagSet = Set{AbstractString}();\n",
    "    # read line\n",
    "    for ln in eachline(file)\n",
    "        word_tag = split(ln, spaces);\n",
    "        # remove \"\"\n",
    "        word_tag = word_tag[word_tag .!= \"\"]\n",
    "        # separate word from tag\n",
    "        for token in word_tag\n",
    "            tokenSplit = split(token, \"_\");\n",
    "            push!(vocabSet, tokenSplit[1]);\n",
    "            push!(tagSet, tokenSplit[2]);\n",
    "        end\n",
    "    end\n",
    "    close(file);\n",
    "    # to handle unknown words\n",
    "    push!(vocabSet, \"UNK_W\");\n",
    "    # to handle unknown tags\n",
    "    push!(tagSet, \"UNK_T\");\n",
    "    #println(vocabSet)\n",
    "    #println(tagSet)\n",
    "    vocab = collect(vocabSet);\n",
    "    tags = collect(tagSet);\n",
    "    # prepare data array\n",
    "    data = Tuple{AbstractString , AbstractString }[];\n",
    "    file = open(filePath);\n",
    "    # read line\n",
    "    for ln in eachline(file)\n",
    "        word_tag = split(ln, spaces);\n",
    "        # remove \"\"\n",
    "        word_tag = word_tag[word_tag .!= \"\"]\n",
    "        # separate word from tag\n",
    "        for token in word_tag\n",
    "            tokenSplit = split(token, \"_\");\n",
    "            push!(data, (tokenSplit[1], tokenSplit[2]));\n",
    "        end\n",
    "    end\n",
    "    close(file);\n",
    "    #println(length(data))\n",
    "    return vocab, tags, data;\n",
    "end"
   ]
  },
  {
   "cell_type": "code",
   "execution_count": 4,
   "metadata": {
    "collapsed": false
   },
   "outputs": [
    {
     "data": {
      "text/plain": [
       "tanhGradient (generic function with 1 method)"
      ]
     },
     "execution_count": 4,
     "metadata": {},
     "output_type": "execute_result"
    }
   ],
   "source": [
    "function tanhGradient(x)\n",
    "    return (1 - (x.*x))\n",
    "end"
   ]
  },
  {
   "cell_type": "code",
   "execution_count": 55,
   "metadata": {
    "collapsed": false
   },
   "outputs": [
    {
     "data": {
      "text/plain": [
       "1x4 Array{Float64,2}:\n",
       " 1.19572  -0.267052  2.31018  0.655093"
      ]
     },
     "execution_count": 55,
     "metadata": {},
     "output_type": "execute_result"
    }
   ],
   "source": [
    "# read data\n",
    "vocabListTrain, tagListTrain, dataTrain = readWordTagData(\"data/pos/05-train-input.txt\");\n",
    "#readWordTagData(\"data/pos/wiki-en-train.norm_pos\");\n",
    "#\n",
    "\n",
    "# define the network\n",
    "inputLayerSize = length(vocabListTrain);\n",
    "hiddenLayerSize = 100;\n",
    "outputLayerSize = length(tagListTrain);\n",
    "learningRate = 1e-1;\n",
    "# initialize weights and biases\n",
    "Wxh = randn(inputLayerSize, hiddenLayerSize)*0.01; # input to hidden\n",
    "Whh = randn(hiddenLayerSize, hiddenLayerSize)*0.01; # hidden to hidden\n",
    "Bh = randn((1, hiddenLayerSize)); # hidden bias\n",
    "Why = randn(hiddenLayerSize, outputLayerSize)*0.01; # hidden to output\n",
    "By = randn((1, outputLayerSize)); # output bias"
   ]
  },
  {
   "cell_type": "markdown",
   "metadata": {},
   "source": [
    "- smooth cost\n",
    "- h previous\n",
    "- unfolding rnn with sequence length"
   ]
  },
  {
   "cell_type": "code",
   "execution_count": 61,
   "metadata": {
    "collapsed": false
   },
   "outputs": [
    {
     "data": {
      "text/plain": [
       "gradCheck (generic function with 2 methods)"
      ]
     },
     "execution_count": 61,
     "metadata": {},
     "output_type": "execute_result"
    }
   ],
   "source": [
    "# gradient checking\n",
    "function gradCheck(inputs::Array{Array{Float64,1},1}, targets::Array{Array{Float64,1},1},\n",
    "    h, p::Array{Array{Float64,1},1})\n",
    "        \n",
    "    paramNameList = [\"Wxh\", \"Whh\", \"Why\", \"Bh\", \"By\"];\n",
    "    # collect paramters\n",
    "    global Wxh, Whh, Why, bh, by;\n",
    "    paramList = [x for x=(Wxh, Whh, Why, Bh, By)];\n",
    "    num_checks = 2;\n",
    "    delta = 1e-5;\n",
    "    # collect parameter gradients\n",
    "    cost = forwardRNN(inputs, targets, h, p);\n",
    "    dWxh, dWhh, dBh, dWhy, dBy = backwardRNN(inputs, targets, h, p);\n",
    "    dParamList = [x for x=(dWxh, dWhh, dWhy, dBh, dBy)];\n",
    "    for (param,dparam,name) in zip(paramList, dParamList, paramNameList)\n",
    "        # validate the size of the parameter and its gradient\n",
    "        s0 = size(dparam);\n",
    "        s1 = size(param);\n",
    "        if s0 != s1\n",
    "            error(\"Error dims dont match: \", s0,\" and \",s1);\n",
    "        end\n",
    "        for i in 1:num_checks\n",
    "            ri = rand(1:length(param));\n",
    "            # evaluate cost at [x + delta] and [x - delta]\n",
    "            old_val = param[ri];\n",
    "            param[ri] = old_val + delta;\n",
    "            cg0 = forwardRNN(inputs, targets, h, p);\n",
    "            param[ri] = old_val - delta;\n",
    "            cg1 = forwardRNN(inputs, targets, h, p);\n",
    "            param[ri] = old_val # reset old value for this parameter\n",
    "            # fetch both numerical and analytic gradient\n",
    "            grad_analytic = dparam[ri];\n",
    "            grad_numerical = (cg0 - cg1) / ( 2 * delta );\n",
    "            \n",
    "            rel_error = abs(grad_analytic - grad_numerical) / abs(grad_numerical + grad_analytic);\n",
    "            println(grad_numerical,\", \", grad_analytic, \" => \",rel_error);\n",
    "            # rel_error should be on order of 1e-7 or less\n",
    "            if rel_error > 1e-5\n",
    "                error(\"Gradient check failed.\");\n",
    "            end\n",
    "        end\n",
    "    end\n",
    "end"
   ]
  },
  {
   "cell_type": "code",
   "execution_count": 66,
   "metadata": {
    "collapsed": false
   },
   "outputs": [
    {
     "data": {
      "text/plain": [
       "forwardRNN (generic function with 6 methods)"
      ]
     },
     "execution_count": 66,
     "metadata": {},
     "output_type": "execute_result"
    }
   ],
   "source": [
    "function forwardRNN(x::Array{Array{Float64,1},1}, y::Array{Array{Float64,1},1}, h::Array{Matrix{Float64},1}, p::Array{Array{Float64,1},1})\n",
    "    global Wxh, Whh, Why, bh, by;\n",
    "    cost = 0;\n",
    "    # for each time t in x\n",
    "    # unrolling RNN -> Feedforward NN step\n",
    "    for time in 1:size(x,1)\n",
    "        h[time] = tanh(x[time]' * Wxh + h[time]*Whh .+ Bh);\n",
    "        # output layer\n",
    "        score = h[time]*Why .+ By;\n",
    "        p_softmax = exp(score) / sum(exp(score));\n",
    "        p[time] = vec(p_softmax); # output probability distribution (at time t)\n",
    "        cost += -sum(log(y[time]'*p[time])) # assuming y is a one-hot vector\n",
    "    end\n",
    "    return cost;\n",
    "end"
   ]
  },
  {
   "cell_type": "code",
   "execution_count": 67,
   "metadata": {
    "collapsed": false
   },
   "outputs": [
    {
     "data": {
      "text/plain": [
       "backwardRNN (generic function with 2 methods)"
      ]
     },
     "execution_count": 67,
     "metadata": {},
     "output_type": "execute_result"
    }
   ],
   "source": [
    "function backwardRNN(x::Array{Array{Float64,1},1}, y::Array{Array{Float64,1},1}, \n",
    "    h::Array{Matrix{Float64},1}, p::Array{Array{Float64,1},1})\n",
    "    \n",
    "    global Wxh, Whh, Why, bh, by;\n",
    "    \n",
    "    dWxh = zeros(size(Wxh));\n",
    "    dWhh = zeros(size(Whh));\n",
    "    dBh = zeros(size(Bh));\n",
    "    dWhy = zeros(size(Why));\n",
    "    dBy = zeros(size(By));\n",
    "    \n",
    "    dh = zeros(size(Bh)); # error from the following time step\n",
    "    for time in size(x,1):-1:1\n",
    "        # output layer error\n",
    "        dy = p[time] - y[time]; #assuming y is a one hot vector\n",
    "        # output gradient\n",
    "        dWhy = dWhy + (dy * h[time])'; \n",
    "        dBy = dBy + dy';\n",
    "        # backpropagate\n",
    "        dh = (dh * Whh)+ (Why*dy)'.* tanhGradient(h[time]) ;\n",
    "        # hidden layer gradient\n",
    "        dWxh = dWxh + (x[time] * dh);\n",
    "        dBh = dBh + dh;\n",
    "        dWhh = dWhh + (h[time]' * dh);\n",
    "    end\n",
    "    # clip to mitigate exploding gradients\n",
    "    dWxh = clamp(dWxh, -5, 5);\n",
    "    dWhh = clamp(dWhh, -5, 5);\n",
    "    dBh = clamp(dBh, -5, 5);\n",
    "    dWhy = clamp(dWhy, -5, 5);\n",
    "    dBy = clamp(dBy, -5, 5);\n",
    "    \n",
    "    return dWxh, dWhh, dBh, dWhy, dBy;\n",
    "end"
   ]
  },
  {
   "cell_type": "code",
   "execution_count": 68,
   "metadata": {
    "collapsed": false
   },
   "outputs": [
    {
     "data": {
      "text/plain": [
       "train (generic function with 1 method)"
      ]
     },
     "execution_count": 68,
     "metadata": {},
     "output_type": "execute_result"
    }
   ],
   "source": [
    "\n",
    "function train(data::Array{Tuple{AbstractString,AbstractString},1}, vocabList::Array{AbstractString,1} \n",
    "    , tagList::Array{AbstractString,1}, numItr::Int64, seqLength::Int64, sampleCostAtItr::Int64)\n",
    "    \n",
    "    global Wxh, Whh, Why, Bh, By;\n",
    "    numIterations =  numItr * length(data);\n",
    "    costList = []; # store cost per sampled iteration\n",
    "    ptr = 1;\n",
    "    p = [zeros(length(tagList)) for i in 1:seqLength];\n",
    "    h = [zeros(1,hiddenLayerSize) for i in 1:seqLength]; # hidden layers (at time t)\n",
    "   for itr in 1:numIterations\n",
    "        # prepare inputs (we're sweeping from left to right in steps seq_length long)\n",
    "        if ptr+seqLength-1 > length(data) # whenever we are looking at the data from the start\n",
    "            # reset RNN memory\n",
    "            h[1] = zeros(1, hiddenLayerSize);\n",
    "            # go from start of data\n",
    "            ptr = 1 \n",
    "        end\n",
    "        # generate sequence\n",
    "        seqData = data[ptr:ptr+seqLength-1];\n",
    "        x = Vector{Float64}[];\n",
    "        y = Vector{Float64}[];\n",
    "        for word_tag in seqData\n",
    "            word = word_tag[1];\n",
    "            tag = word_tag[2];\n",
    "            # convert to one-hot vectors\n",
    "            # words\n",
    "            wordVec = zeros(length(vocabList));\n",
    "            findWord = collect(vocabList.==word)\n",
    "            if length(findWord[findWord.==true]) == 0\n",
    "                # unknown word: UNK_W\n",
    "                findWord[length(findWord)] = true;\n",
    "            end\n",
    "            wordVec[findWord] = 1;\n",
    "            # tags\n",
    "            tagVec = zeros(length(tagList));\n",
    "            findTag = collect(tagList.==tag)\n",
    "            if length(findTag[findTag.==true]) == 0\n",
    "                # unknown tag: UNK_T\n",
    "                findTag[length(findTag)] = true;\n",
    "            end\n",
    "            tagVec[findTag] = 1;\n",
    "            # push to the sequence\n",
    "            push!(x , wordVec);\n",
    "            push!(y , tagVec);\n",
    "        end\n",
    "        # gradient check\n",
    "        gradCheck(x, y, h, p);\n",
    "    \n",
    "        \n",
    "    end\n",
    "    return costList;\n",
    "end"
   ]
  },
  {
   "cell_type": "code",
   "execution_count": 69,
   "metadata": {
    "collapsed": false
   },
   "outputs": [
    {
     "name": "stdout",
     "output_type": "stream",
     "text": [
      "2"
     ]
    },
    {
     "ename": "LoadError",
     "evalue": "LoadError: Gradient check failed.\nwhile loading In[69], in expression starting on line 8",
     "output_type": "error",
     "traceback": [
      "LoadError: Gradient check failed.\nwhile loading In[69], in expression starting on line 8",
      "",
      " in gradCheck at In[61]:39",
      " in train at In[68]:48"
     ]
    },
    {
     "name": "stdout",
     "output_type": "stream",
     "text": [
      ".2345209342966577, 0.0013120250660935604 => 0.998826365752773\n"
     ]
    }
   ],
   "source": [
    "# MAIN\n",
    "# number of steps to unroll the RNN for\n",
    "seqLen = 2 \n",
    "# run through the data n times\n",
    "numIterOverData = 1;\n",
    "# sample cost after each n iteration\n",
    "sampleCostAtEveryItr = 1;\n",
    "J = train(dataTrain, vocabListTrain, tagListTrain, numIterOverData, seqLen, sampleCostAtEveryItr);"
   ]
  },
  {
   "cell_type": "code",
   "execution_count": 15,
   "metadata": {
    "collapsed": false
   },
   "outputs": [
    {
     "ename": "LoadError",
     "evalue": "LoadError: UndefVarError: J not defined\nwhile loading In[15], in expression starting on line 2",
     "output_type": "error",
     "traceback": [
      "LoadError: UndefVarError: J not defined\nwhile loading In[15], in expression starting on line 2",
      "",
      " in anonymous at no file"
     ]
    }
   ],
   "source": [
    "# plot the cost per iteration\n",
    "sampleIdxJ = [1+sampleCostAtEveryItr*i for i in 0:length(J)-1]\n",
    "plot(sampleIdxJ, J)\n",
    "xlabel(\"Sampled Iterations\")\n",
    "ylabel(\"Cost\")\n",
    "grid(\"on\")"
   ]
  },
  {
   "cell_type": "code",
   "execution_count": null,
   "metadata": {
    "collapsed": false
   },
   "outputs": [],
   "source": [
    "function findAccuracy(data::Array{Tuple{AbstractString,AbstractString},1}, vocabList::Array{AbstractString,1} \n",
    "    , tagList::Array{AbstractString,1}, seqLength::Int64)\n",
    "    \n",
    "    correct = 0;\n",
    "    ptr=1;\n",
    "    prob = [zeros(length(tagList)) for i in 1:seqLength];\n",
    "    h = [zeros(1,hiddenLayerSize) for i in 1: seqLength]; # hidden layers (at time t)\n",
    "    for i in 1:length(data)/seqLength\n",
    "        \n",
    "        # prepare inputs (we're sweeping from left to right in steps seq_length long)\n",
    "        if ptr+seqLength-1 > length(data) # whenever we are looking at the data from the start\n",
    "            break # return if data is alread read\n",
    "        end\n",
    "        # generate sequence\n",
    "        seqData = data[ptr:ptr+seqLength-1];\n",
    "        x = Vector{Float64}[];\n",
    "        y = Vector{Float64}[];\n",
    "        for word_tag in seqData\n",
    "            word = word_tag[1];\n",
    "            tag = word_tag[2];\n",
    "            # convert to one-hot vectors\n",
    "            # words\n",
    "            wordVec = zeros(length(vocabList));\n",
    "            findWord = collect(vocabList.==word)\n",
    "            if length(findWord[findWord.==true]) == 0\n",
    "                # unknown word: UNK_W\n",
    "                findWord[length(findWord)] = true;\n",
    "            end\n",
    "            wordVec[findWord] = 1;\n",
    "            # tags\n",
    "            tagVec = zeros(length(tagList));\n",
    "            findTag = collect(tagList.==tag)\n",
    "            if length(findTag[findTag.==true]) == 0\n",
    "                # unknown tag: UNK_T\n",
    "                findTag[length(findTag)] = true;\n",
    "            end\n",
    "            tagVec[findTag] = 1;\n",
    "            # push to the sequence\n",
    "            push!(x , wordVec);\n",
    "            push!(y , tagVec);\n",
    "        end\n",
    "        # feedforward\n",
    "        for time in 1:size(seqData,1)\n",
    "            h[time] = tanh(x[time]' * Wxh + h[time]*Whh .+ Bh);\n",
    "            # output layer\n",
    "            score = h[time]*Why .+ By;\n",
    "            p_softmax = exp(score) / sum(exp(score));\n",
    "            prob[time] = vec(p_softmax); # output probability distribution (at time t)\n",
    "        end\n",
    "        h[1] = h[size(h,1)];\n",
    "        \n",
    "        prediction = [indmax(prob[j]) for j in 1:size(seqData,1)];\n",
    "        truth = [indmax(y[j]) for j in 1:size(seqData,1)];\n",
    "        # accuracy\n",
    "        for j in 1:length(seqData)\n",
    "            if truth[j] == prediction[j]\n",
    "                correct = correct + 1;\n",
    "            end\n",
    "        end\n",
    "        ptr += seqLength; # move data pointer\n",
    "    end\n",
    "    accuracy = correct/length(data)*100;\n",
    "    return accuracy;\n",
    "end"
   ]
  },
  {
   "cell_type": "code",
   "execution_count": null,
   "metadata": {
    "collapsed": false
   },
   "outputs": [],
   "source": [
    "accuracy = findAccuracy(dataTrain, vocabListTrain, tagListTrain, seqLen);\n",
    "println(\"accuracy: \", accuracy);"
   ]
  },
  {
   "cell_type": "markdown",
   "metadata": {},
   "source": [
    "### Test data"
   ]
  },
  {
   "cell_type": "code",
   "execution_count": null,
   "metadata": {
    "collapsed": false
   },
   "outputs": [],
   "source": [
    "# read data\n",
    "vocabListTest, tagListTest, dataTest  = readWordTagData(\"data/pos/05-test-input.txt\");\n",
    "#readData(\"data/pos/wiki-en-test.norm\");\n",
    "# will use vocab list and tag list created at the training time\n",
    "#accuracy, result = findAccuracy(dataTest, vocabListTrain, tagListTrain, seqLen);\n",
    "println(\"accuracy: \", accuracy);"
   ]
  },
  {
   "cell_type": "markdown",
   "metadata": {},
   "source": [
    "- [The Unreasonable Effectiveness of Recurrent Neural Networks](http://karpathy.github.io/2015/05/21/rnn-effectiveness/)\n",
    "- [Deep Learning Lecture 12: Recurrent Neural Nets and LSTMs](https://youtu.be/56TYLaQN4N8)\n",
    "- [ADAM: A METHOD FOR STOCHASTIC OPTIMIZATION](http://arxiv.org/abs/1412.6980)\n",
    "- [Adaptive Subgradient Methods for Online Learning and Stochastic Optimization](http://jmlr.org/papers/v12/duchi11a.html)\n",
    "- [NLP Programming Tutorial](http://www.phontron.com/slides/nlp-programming-en-08-rnn.pdf)\n",
    "- [Lec [5.1]: Deep Learning, Recurrent neural network](https://youtu.be/AvyhbrQptHk)\n"
   ]
  },
  {
   "cell_type": "code",
   "execution_count": null,
   "metadata": {
    "collapsed": true
   },
   "outputs": [],
   "source": []
  }
 ],
 "metadata": {
  "kernelspec": {
   "display_name": "Julia 0.4.2",
   "language": "julia",
   "name": "julia-0.4"
  },
  "language_info": {
   "file_extension": ".jl",
   "mimetype": "application/julia",
   "name": "julia",
   "version": "0.4.2"
  }
 },
 "nbformat": 4,
 "nbformat_minor": 0
}
