{
 "cells": [
  {
   "cell_type": "markdown",
   "metadata": {},
   "source": [
    "Consider our data to have the following 3 sentence:\n",
    "\n",
    "- I enjoy driving.\n",
    "- I like banana.\n",
    "- I like reading.\n",
    "\n",
    "The co-occurence matrix will look like:\n",
    "\n",
    "$$X = \n",
    "\\begin{array}{c|lcr}\n",
    "words & \\text{I} & \\text{enjoy} & \\text{driving} & \\text{like} & \\text{banana} & \\text{reading} \\\\\n",
    "\\hline\n",
    "\\text{I} & 0 & 1 & 0 & 2 & 0 & 0 \\\\\n",
    "\\text{enjoy} & 1 & 0 & 1 & 0 & 0 & 0 \\\\\n",
    "\\text{driving} & 0 & 1 & 0 & 0 & 0 & 0 \\\\\n",
    "\\text{like} & 2 & 0 & 0 & 0 & 1 & 1 \\\\\n",
    "\\text{banana} & 0 & 0 & 0 & 1 & 0 & 0 \\\\\n",
    "\\text{reading} & 0 & 0 & 0 & 1 & 0 & 0 \\\\\n",
    "\\end{array}\n",
    "$$"
   ]
  },
  {
   "cell_type": "code",
   "execution_count": 19,
   "metadata": {
    "collapsed": false
   },
   "outputs": [],
   "source": [
    "words = [\"I\" \"enjoy\" \"driving\" \"like\" \"banana\" \"reading\"];\n",
    "X =   [0 1 0 2 0 0;\n",
    "       1 0 1 0 0 0;\n",
    "       0 1 0 0 0 0;\n",
    "       2 0 0 0 1 1;\n",
    "       0 0 0 1 0 0;\n",
    "       0 0 0 1 0 0];"
   ]
  },
  {
   "cell_type": "markdown",
   "metadata": {},
   "source": [
    "In [Julia](http://julia.readthedocs.org/en/latest/stdlib/linalg/), applying SVD on our matrix $X$ will give us $U$, $S$ and $V$ where: \n",
    "\n",
    "<center>$$A == U*diagm(S)*V^T$$</center>"
   ]
  },
  {
   "cell_type": "code",
   "execution_count": 20,
   "metadata": {
    "collapsed": true
   },
   "outputs": [],
   "source": [
    "U,S,V = svd(X);"
   ]
  },
  {
   "cell_type": "code",
   "execution_count": 21,
   "metadata": {
    "collapsed": false
   },
   "outputs": [
    {
     "data": {
      "text/plain": [
       "6x6 Array{Float64,2}:\n",
       " -0.853553      0.0          -1.44329e-15  …  -0.5           0.0     \n",
       "  1.55431e-15  -0.382683     -0.92388          5.55112e-17   0.0     \n",
       " -0.146447      2.42984e-18  -1.99276e-16      0.5           0.0     \n",
       " -6.66134e-16  -0.92388       0.382683         0.0           0.0     \n",
       " -0.353553      6.91544e-18  -5.6715e-16       0.5          -0.707107\n",
       " -0.353553      6.91544e-18  -5.6715e-16   …   0.5           0.707107"
      ]
     },
     "execution_count": 21,
     "metadata": {},
     "output_type": "execute_result"
    }
   ],
   "source": [
    "U"
   ]
  },
  {
   "cell_type": "code",
   "execution_count": 22,
   "metadata": {
    "collapsed": false
   },
   "outputs": [
    {
     "data": {
      "text/plain": [
       "6-element Array{Float64,1}:\n",
       " 2.61313    \n",
       " 2.61313    \n",
       " 1.08239    \n",
       " 1.08239    \n",
       " 7.44765e-17\n",
       " 0.0        "
      ]
     },
     "execution_count": 22,
     "metadata": {},
     "output_type": "execute_result"
    }
   ],
   "source": [
    "S"
   ]
  },
  {
   "cell_type": "code",
   "execution_count": 23,
   "metadata": {
    "collapsed": false,
    "scrolled": true
   },
   "outputs": [
    {
     "data": {
      "text/plain": [
       "6x6 Array{Float64,2}:\n",
       "  6.63321e-17  -0.853553     -0.146447     …  -0.25335       0.431061   \n",
       " -0.382683      0.0          -2.22045e-16      2.22045e-16   1.11022e-16\n",
       "  5.82867e-16  -0.146447     -0.853553         0.25335      -0.431061   \n",
       " -0.92388       1.80709e-17  -6.13879e-16     -7.07305e-17  -1.67721e-17\n",
       " -2.22045e-16  -0.353553      0.353553        -0.356263     -0.789352   \n",
       " -2.22045e-16  -0.353553      0.353553     …   0.862963     -0.0727711  "
      ]
     },
     "execution_count": 23,
     "metadata": {},
     "output_type": "execute_result"
    }
   ],
   "source": [
    "V"
   ]
  },
  {
   "cell_type": "markdown",
   "metadata": {},
   "source": [
    ">\"A useful rule of thumb is to retain enough singular values to make up\n",
    ">90% of the energy in Σ. That is, the sum of the squares of the retained\n",
    ">singular values should be at least 90% of the sum of the squares of all the\n",
    ">singular values.\" - Jeffrey D. Ullman\n",
    "\n",
    "S matrix is the $\\sum$, hence the total energy here is:"
   ]
  },
  {
   "cell_type": "code",
   "execution_count": 24,
   "metadata": {
    "collapsed": false
   },
   "outputs": [
    {
     "data": {
      "text/plain": [
       "15.999999999999996"
      ]
     },
     "execution_count": 24,
     "metadata": {},
     "output_type": "execute_result"
    }
   ],
   "source": [
    "totEnergy = sum(S.^2)"
   ]
  },
  {
   "cell_type": "code",
   "execution_count": 25,
   "metadata": {
    "collapsed": false
   },
   "outputs": [
    {
     "data": {
      "text/plain": [
       "6-element Array{Float64,1}:\n",
       " 0.426777\n",
       " 0.853553\n",
       " 0.926777\n",
       " 1.0     \n",
       " 1.0     \n",
       " 1.0     "
      ]
     },
     "execution_count": 25,
     "metadata": {},
     "output_type": "execute_result"
    }
   ],
   "source": [
    "energy = zeros(length(S));\n",
    "energy[1] = S[1]^2/totEnergy;\n",
    "for i=2:length(S)\n",
    "    energy[i] = energy[i-1]+(S[i]^2/totEnergy);\n",
    "end\n",
    "energy"
   ]
  },
  {
   "cell_type": "code",
   "execution_count": 26,
   "metadata": {
    "collapsed": false
   },
   "outputs": [],
   "source": [
    "using PyPlot"
   ]
  },
  {
   "cell_type": "code",
   "execution_count": 27,
   "metadata": {
    "collapsed": false
   },
   "outputs": [
    {
     "data": {
      "image/png": "[encoded data removed]",
      "text/plain": [
       "Figure(PyObject <matplotlib.figure.Figure object at 0x7f747a21f450>)"
      ]
     },
     "metadata": {},
     "output_type": "display_data"
    }
   ],
   "source": [
    "plot(1:length(energy), energy)\n",
    "xlabel(\"Dimensions\")\n",
    "ylabel(\"% Energy Retained\")\n",
    "grid(\"on\")"
   ]
  },
  {
   "cell_type": "markdown",
   "metadata": {
    "collapsed": true
   },
   "source": [
    "Looking at the plot we can determine that keeping 3 dimensions are good enough for us rather than all 6. We can also print/plot the words based on the first two columns of $U$ corresponding to the two biggest singular values."
   ]
  },
  {
   "cell_type": "code",
   "execution_count": 28,
   "metadata": {
    "collapsed": false
   },
   "outputs": [
    {
     "data": {
      "text/plain": [
       "6x3 Array{Int64,2}:\n",
       " 0  1  0\n",
       " 1  0  1\n",
       " 0  1  0\n",
       " 2  0  0\n",
       " 0  0  0\n",
       " 0  0  0"
      ]
     },
     "execution_count": 28,
     "metadata": {},
     "output_type": "execute_result"
    }
   ],
   "source": [
    "Y = X[:,1:3]"
   ]
  },
  {
   "cell_type": "code",
   "execution_count": 29,
   "metadata": {
    "collapsed": true
   },
   "outputs": [],
   "source": [
    "U,S,V = svd(Y);"
   ]
  },
  {
   "cell_type": "code",
   "execution_count": 30,
   "metadata": {
    "collapsed": false
   },
   "outputs": [
    {
     "data": {
      "text/plain": [
       "6x3 Array{Float64,2}:\n",
       " -1.49556e-17   0.707107     -1.65861e-16\n",
       " -0.525731      5.55112e-17  -0.850651   \n",
       " -1.49556e-17   0.707107     -1.65861e-16\n",
       " -0.850651     -1.11022e-16   0.525731   \n",
       "  0.0           0.0           0.0        \n",
       "  0.0           0.0           0.0        "
      ]
     },
     "execution_count": 30,
     "metadata": {},
     "output_type": "execute_result"
    }
   ],
   "source": [
    "U"
   ]
  },
  {
   "cell_type": "code",
   "execution_count": 31,
   "metadata": {
    "collapsed": false
   },
   "outputs": [
    {
     "data": {
      "image/png": "[encoded data removed]",
      "text/plain": [
       "Figure(PyObject <matplotlib.figure.Figure object at 0x7f744dc51710>)"
      ]
     },
     "metadata": {},
     "output_type": "display_data"
    }
   ],
   "source": [
    "for w=1:length(words)\n",
    "    plt.text(U[w,1], U[w,2], words[w]);\n",
    "end\n",
    "plt.xlim((minimum(U[:,1])-1, maximum(U[:,1])+1));\n",
    "plt.ylim((minimum(U[:,2])-1, maximum(U[:,2])+1));"
   ]
  },
  {
   "cell_type": "code",
   "execution_count": null,
   "metadata": {
    "collapsed": true
   },
   "outputs": [],
   "source": []
  }
 ],
 "metadata": {
  "kernelspec": {
   "display_name": "Julia 0.3.10",
   "language": "julia",
   "name": "julia-0.3"
  },
  "language_info": {
   "name": "julia",
   "version": "0.3.10"
  }
 },
 "nbformat": 4,
 "nbformat_minor": 0
}
