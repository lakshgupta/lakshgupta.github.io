{
 "cells": [
  {
   "cell_type": "code",
   "execution_count": 1,
   "metadata": {
    "collapsed": false
   },
   "outputs": [],
   "source": [
    "import Base.+, Base.*\n",
    "\n",
    "# This list isn't the tape itself, it's a list of \"registered\"\n",
    "# adjoint jacobian function implementations. It is populated once,\n",
    "# during module initialisation.\n",
    "adj_jacobians = Array(Function,0)\n",
    "\n",
    "# A class to represent the \"tape\" data structure\n",
    "type Tape\n",
    "    \n",
    "    # The tape storage itself\n",
    "    tape::Array{Int}\n",
    "    # A list of locations of variables within the tape, so that\n",
    "    # they can be reset to zero when needed\n",
    "    var_pos::Array{Int}\n",
    "    # The list of ultimate adjoint Jacobian outputs, shown in the\n",
    "    # diagram as being at the start of the tape, are here held in\n",
    "    # a separate list. Negative variable indices are used to\n",
    "    # reference these outputs and distinguish them from the\n",
    "    # variables in the tape.\n",
    "    outputs::Array{Int}\n",
    "    # The current position in the tape - only has meaning during\n",
    "    # evaluation. Of course, holding this information (not to\n",
    "    # mention the variables themselves) within the tape is pretty\n",
    "    # dubious, from a state management / thread-safety point of\n",
    "    # view.\n",
    "    eval_pos::Int\n",
    "    \n",
    "    Tape() = new(Array(Int,0), Array(Int,0), Array(Int,0), 1);\n",
    "end"
   ]
  },
  {
   "cell_type": "code",
   "execution_count": 2,
   "metadata": {
    "collapsed": false
   },
   "outputs": [
    {
     "data": {
      "text/plain": [
       "evaluate (generic function with 1 method)"
      ]
     },
     "execution_count": 2,
     "metadata": {},
     "output_type": "execute_result"
    }
   ],
   "source": [
    "# A class method for registering an adjoint jacobian implementation\n",
    "# function. Returns a value that can be used as a tag in the tape.\n",
    "function register_adjoint_jacobian(adj_jacobians::Array{Function}, adjoint_jacobian::Function)\n",
    "    push!(adj_jacobians, adjoint_jacobian)\n",
    "    return length(adj_jacobians)\n",
    "end\n",
    "\n",
    "# Grow the tape by appending a fixed value (will be a \"black\"\n",
    "# input, a function tag or a variable reference)\n",
    "function append_constant(tape::Tape, contents)\n",
    "    push!(tape.tape, contents)\n",
    "    tape.eval_pos = tape.eval_pos + 1\n",
    "end\n",
    "\n",
    "# Grow the tape by allocating a variable slot at the end\n",
    "function append_variable(tape::Tape)\n",
    "    push!(tape.tape, 0)\n",
    "    pos = length(tape.tape)\n",
    "    push!(tape.var_pos, pos)\n",
    "    return pos\n",
    "end\n",
    "\n",
    "# Add an overall adjoint Jacobian output to the outputs list. This\n",
    "# happens when an \"initial\" ADReverseDouble is created - i.e. one\n",
    "# that doesn't arise from a previous AD-enabled operation.\n",
    "function add_output(tape::Tape)\n",
    "    push!(tape.outputs, 0)\n",
    "    return -length(tape.outputs)\n",
    "end\n",
    "\n",
    "# Add a quantity to the variable referenced by the value in the\n",
    "# current slot, which may be a variable in the tape (+ve ref) or\n",
    "# an entry in self.outputs (-ve ref)\n",
    "function add_to_referenced_variable(tape::Tape, value)\n",
    "    ref = tape.tape[tape.eval_pos]\n",
    "    if ref >=1\n",
    "        tape.tape[ref] += value\n",
    "    else\n",
    "        tape.outputs[-ref] += value\n",
    "    end\n",
    "end\n",
    "\n",
    "# Directly write to a variable at a particular position. This is\n",
    "# needed when setting an overall adjoint Jaobian input, via an\n",
    "# ADReverseDouble for a tape evaluation.\n",
    "function write_to_variable_at_index(tape::Tape, idx::Int, contents)\n",
    "    if idx >=1\n",
    "        tape.tape[idx] = contents\n",
    "    else\n",
    "        tape.outputs[-idx] = contents\n",
    "    end\n",
    "end\n",
    "\n",
    "# Directly read a variable at a particular index. This is needed\n",
    "# when reading the adjoint Jacobian output from an\n",
    "# ADReverseDouble.\n",
    "function read_variable_at_index(tape::Tape, idx)\n",
    "    if idx >=1\n",
    "        return tape.tape[idx]\n",
    "    else\n",
    "        return tape.outputs[-idx]\n",
    "    end\n",
    "end\n",
    " \n",
    "# Read the value at the current location in the tape (during\n",
    "# evaluation)\n",
    "function read_current_value(tape::Tape)\n",
    "    return tape.tape[tape.eval_pos]\n",
    "end\n",
    " \n",
    "# Step back one position in the tape (during evaluation)\n",
    "function step_back(tape::Tape)\n",
    "    tape.eval_pos -= 1\n",
    "end\n",
    " \n",
    "# Reset all variables and outputs to zero. Needed the tape has to\n",
    "# be evaluated for multiple adjoint Jacobian inputs.\n",
    "function reset_variables(tape::Tape)\n",
    "    for pos in tape.var_pos\n",
    "        tape.tape[pos] = 0\n",
    "    end\n",
    "    for idx in 1:length(tape.outputs)\n",
    "        tape.outputs[idx] = 0\n",
    "    end\n",
    "end\n",
    " \n",
    "# Evaluate the tape.\n",
    "function evaluate(tape::Tape)\n",
    "    tape.eval_pos = length(tape.tape)\n",
    "    while tape.eval_pos >= 1  \n",
    "            # Look up the adjoint_jacobian according to the tag at the\n",
    "            # current position in the tape, and call it\n",
    "        adj_jacobians[tape.tape[tape.eval_pos]](tape)\n",
    "        step_back(tape)\n",
    "    end\n",
    "end\n",
    " "
   ]
  },
  {
   "cell_type": "code",
   "execution_count": 3,
   "metadata": {
    "collapsed": false
   },
   "outputs": [
    {
     "data": {
      "text/plain": [
       "Tape(Int64[],Int64[],Int64[],1)"
      ]
     },
     "execution_count": 3,
     "metadata": {},
     "output_type": "execute_result"
    }
   ],
   "source": [
    "tape = Tape()"
   ]
  },
  {
   "cell_type": "code",
   "execution_count": 4,
   "metadata": {
    "collapsed": false
   },
   "outputs": [
    {
     "data": {
      "text/plain": [
       "ADReverseFloat"
      ]
     },
     "execution_count": 4,
     "metadata": {},
     "output_type": "execute_result"
    }
   ],
   "source": [
    "# A reverse-mode AD enabled floating point type\n",
    "type ADReverseFloat\n",
    "    value::Float64\n",
    "    tape::Tape\n",
    "    adj_jac_output_ref::Int\n",
    "    \n",
    "    function ADReverseFloat(value::Float64, tape::Tape, ref::Int)\n",
    "        return new(value, tape, ref)\n",
    "    end\n",
    "end\n",
    "\n",
    "ADReverseFloat(value::Float64, tape::Tape) = ADReverseFloat(value, tape, add_output(tape))"
   ]
  },
  {
   "cell_type": "code",
   "execution_count": 5,
   "metadata": {
    "collapsed": false
   },
   "outputs": [
    {
     "data": {
      "text/plain": [
       "* (generic function with 152 methods)"
      ]
     },
     "execution_count": 5,
     "metadata": {},
     "output_type": "execute_result"
    }
   ],
   "source": [
    "\n",
    "# Used to set an input to the overall adjoint Jacobian. This\n",
    "# should only be called on ADReverseFloats that represent ultimate\n",
    "# outputs of the calculation.\n",
    "function set_initial_adj_jac_input(adFloat::ADReverseFloat, value)\n",
    "    write_to_variable_at_index(adFloat.tape, adFloat.adj_jac_output_ref, value)\n",
    "end\n",
    "\n",
    "# Used to get the result of the adjoint Jacobian evaluation. Would\n",
    "# typically be called on ADReverseFloats representing the overall\n",
    "# inputs to the calculation, but could be called on intermediate\n",
    "# values in order to obtain their sensitivities as well.\n",
    "function get_adj_jac_output(adFloat::ADReverseFloat)\n",
    "    return read_variable_at_index(adFloat.tape, adFloat.adj_jac_output_ref)\n",
    "end\n",
    "\n",
    "# Implementation of the adjoint Jacobian for the + operator. The\n",
    "# formula can be checked by working out the adjoint Jacobian\n",
    "# matrix by hand.\n",
    "function adFloat_adj_jac_add(tape::Tape)\n",
    "    # Fetch the adjoint Jacobian input\n",
    "    step_back(tape)\n",
    "    adj_jac_input = read_current_value(tape)\n",
    "    # Simply add it to both of the adjoint Jacobian output\n",
    "    # variables\n",
    "    step_back(tape)\n",
    "    add_to_referenced_variable(tape, adj_jac_input)\n",
    "    step_back(tape)\n",
    "    add_to_referenced_variable(tape, adj_jac_input)\n",
    "end\n",
    "# Statically register the adjoint Jacobian function for the add\n",
    "# operator with the Tape class\n",
    "ADD_TAG = register_adjoint_jacobian(adj_jacobians, adFloat_adj_jac_add::Function)\n",
    "\n",
    "# Implementation of the + operator.\n",
    "function adFloat_add(adFloatSelf::ADReverseFloat, adFloatOther::ADReverseFloat)\n",
    "    # Write the references to where to store the adjoint Jacobian\n",
    "    # outputs\n",
    "    append_constant(adFloatSelf.tape, adFloatSelf.adj_jac_output_ref)\n",
    "    append_constant(adFloatSelf.tape, adFloatOther.adj_jac_output_ref)\n",
    "    # Allocate a variable to store the ajoint Jacobian input\n",
    "    ref = append_variable(adFloatSelf.tape)\n",
    "    # Since this function is linear, its adjoint Jacobian doesn't\n",
    "    # depend on the values of self and other (it's constant), so\n",
    "    # we don't need to store them in the tape. We just proceed to\n",
    "    # storing the function tag.\n",
    "    append_constant(adFloatSelf.tape, ADD_TAG)\n",
    "    # The returned ADReverseFloat references the variable allocated above\n",
    "    return ADReverseFloat(adFloatSelf.value + adFloatOther.value, adFloatSelf.tape, ref)\n",
    "    #return create_result(adFloatSelf.value + adFloatOther.value, adFloatSelf.tape, ref)\n",
    "end\n",
    "\n",
    "+(x::ADReverseFloat, y::ADReverseFloat) = adFloat_add(x, y)\n",
    "\n",
    "# Implementation of the * operator.\n",
    "# Implementation of the adjoint Jacobian for the * operatorq.  The\n",
    "# formula can be checked by working out the adjoint Jacobian\n",
    "# matrix by hand.\u0017\n",
    "function adFloat_adj_jac_mul(tape::Tape)\n",
    "    # Fetch the original function inputs\n",
    "    step_back(tape)        \n",
    "    other_value = read_current_value(tape)\n",
    "    step_back(tape)\n",
    "    self_value = read_current_value(tape)\n",
    "    # Fetch the adjoint Jacobian input\n",
    "    step_back(tape)\n",
    "    adj_jac_input = read_current_value(tape)\n",
    "    # Add the adjoint Jacobian outputs to the appropriate\n",
    "    # variables\n",
    "    step_back(tape)\n",
    "    add_to_referenced_variable(tape, adj_jac_input * self_value)\n",
    "    step_back(tape)\n",
    "    add_to_referenced_variable(tape, adj_jac_input * other_value)\n",
    "end\n",
    "\n",
    "# Statically register the adjoint Jacobian function for the add\n",
    "# operator with the Tape class\n",
    "MUL_TAG = register_adjoint_jacobian(adj_jacobians, adFloat_adj_jac_mul::Function)\n",
    "\n",
    "function adFloat_mul(adFloatSelf::ADReverseFloat, adFloatOther::ADReverseFloat)\n",
    "    # Write the references to where to store the adjoint Jacobian\n",
    "    # outputs\n",
    "    append_constant(adFloatSelf.tape, adFloatSelf.adj_jac_output_ref)\n",
    "    append_constant(adFloatSelf.tape, adFloatOther.adj_jac_output_ref)\n",
    "    # Allocate a variable to store the ajoint Jacobian input\n",
    "    ref = append_variable(adFloatSelf.tape)\n",
    "    # Write the values of self and other, as they will be needed\n",
    "    append_constant(adFloatSelf.tape, adFloatSelf.value)\n",
    "    append_constant(adFloatSelf.tape, adFloatOther.value)\n",
    "    # Store the function tag\n",
    "    append_constant(adFloatSelf.tape, MUL_TAG)\n",
    "    # The returned ADReverseFloat references the variable allocated above\n",
    "    return ADReverseFloat(adFloatSelf.value * adFloatOther.value, adFloatSelf.tape, ref)\n",
    "    #return create_result(adFloatSelf.value * adFloatOther.value, adFloatSelf.tape, ref)\n",
    "end\n",
    "\n",
    "*(x::ADReverseFloat, y::ADReverseFloat) = adFloat_mul(x, y)\n",
    "    \n"
   ]
  },
  {
   "cell_type": "code",
   "execution_count": 6,
   "metadata": {
    "collapsed": false
   },
   "outputs": [
    {
     "name": "stdout",
     "output_type": "stream",
     "text": [
      "36.0\n"
     ]
    },
    {
     "data": {
      "text/plain": [
       "ADReverseFloat(5.0,Tape(Int64[],Int64[],[0,0,0],1),-3)"
      ]
     },
     "execution_count": 6,
     "metadata": {},
     "output_type": "execute_result"
    }
   ],
   "source": [
    "# Now let's implement a function of three variables: x^2 + xy + xz\n",
    "function func1(x,y,z)\n",
    "    return x * x + x * y + x * z\n",
    "end\n",
    "\n",
    "# Invoke the function with \"ordinary\" floats just gives us the result\n",
    "println(func1(3.0,4.0,5.0)) # prints 36.0\n",
    " \n",
    "# To get derivatives, we first create a tape\n",
    "tape = Tape()\n",
    " \n",
    "# Create some initial ADReverseFloats, linked to the tape\n",
    "x = ADReverseFloat(3.0, tape)\n",
    "y = ADReverseFloat(4.0, tape)\n",
    "z = ADReverseFloat(5.0, tape)\n",
    " \n"
   ]
  },
  {
   "cell_type": "code",
   "execution_count": 7,
   "metadata": {
    "collapsed": false
   },
   "outputs": [
    {
     "data": {
      "text/plain": [
       "ADReverseFloat(36.0,Tape([-1,-1,0,3,3,2,-1,-2,0,3,4,2,-1,-3,0,3,5,2,3,9,0,1,21,15,0,1],[3,9,15,21,25],[0,0,0],22),25)"
      ]
     },
     "execution_count": 7,
     "metadata": {},
     "output_type": "execute_result"
    }
   ],
   "source": [
    "# Evaluate the function\n",
    "result = func1(x,y,z)"
   ]
  },
  {
   "cell_type": "code",
   "execution_count": 8,
   "metadata": {
    "collapsed": false
   },
   "outputs": [],
   "source": [
    "# Reset the tape variables. These will actually already be zero as\n",
    "# this is the first time we're using the tape, but just to illustrate.\n",
    "reset_variables(result.tape)"
   ]
  },
  {
   "cell_type": "code",
   "execution_count": 9,
   "metadata": {
    "collapsed": false
   },
   "outputs": [
    {
     "data": {
      "text/plain": [
       "1.0"
      ]
     },
     "execution_count": 9,
     "metadata": {},
     "output_type": "execute_result"
    }
   ],
   "source": [
    "# Set the unit vector in output space, this identifying which value we\n",
    "# want the derivatives _of_. There's only one output here, of course,\n",
    "# so we just set its adjoint Jacobian input to 1.\n",
    "set_initial_adj_jac_input(result, 1.0)\n",
    " \n"
   ]
  },
  {
   "cell_type": "code",
   "execution_count": 10,
   "metadata": {
    "collapsed": false
   },
   "outputs": [
    {
     "data": {
      "text/plain": [
       "Tape([-1,-1,0,3,3,2,-1,-2,0,3,4,2,-1,-3,0,3,5,2,3,9,0,1,21,15,1,1],[3,9,15,21,25],[0,0,0],22)"
      ]
     },
     "execution_count": 10,
     "metadata": {},
     "output_type": "execute_result"
    }
   ],
   "source": [
    "tape"
   ]
  },
  {
   "cell_type": "code",
   "execution_count": 11,
   "metadata": {
    "collapsed": false
   },
   "outputs": [
    {
     "data": {
      "text/plain": [
       "ADReverseFloat(36.0,Tape([-1,-1,0,3,3,2,-1,-2,0,3,4,2,-1,-3,0,3,5,2,3,9,0,1,21,15,1,1],[3,9,15,21,25],[0,0,0],22),25)"
      ]
     },
     "execution_count": 11,
     "metadata": {},
     "output_type": "execute_result"
    }
   ],
   "source": [
    "result"
   ]
  },
  {
   "cell_type": "code",
   "execution_count": 12,
   "metadata": {
    "collapsed": false
   },
   "outputs": [],
   "source": [
    "# Evaluate the tape\n",
    "evaluate(tape)"
   ]
  },
  {
   "cell_type": "code",
   "execution_count": 13,
   "metadata": {
    "collapsed": false
   },
   "outputs": [
    {
     "name": "stdout",
     "output_type": "stream",
     "text": [
      "15\n",
      "3\n",
      "3\n"
     ]
    }
   ],
   "source": [
    "# Read off the derivatives\n",
    "println(get_adj_jac_output(x)) # prints 15.0, which is the derivative w.r.t x\n",
    "println(get_adj_jac_output(y)) # prints 3.0, which is the derivative w.r.t y\n",
    "println(get_adj_jac_output(z)) # prints 3.0, which is the derivative w.r.t z"
   ]
  },
  {
   "cell_type": "code",
   "execution_count": null,
   "metadata": {
    "collapsed": true
   },
   "outputs": [],
   "source": []
  }
 ],
 "metadata": {
  "kernelspec": {
   "display_name": "Julia 0.5.0",
   "language": "julia",
   "name": "julia-0.5"
  },
  "language_info": {
   "file_extension": ".jl",
   "mimetype": "application/julia",
   "name": "julia",
   "version": "0.5.0"
  }
 },
 "nbformat": 4,
 "nbformat_minor": 0
}
