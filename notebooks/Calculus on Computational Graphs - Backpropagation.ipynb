{
 "cells": [
  {
   "cell_type": "code",
   "execution_count": null,
   "metadata": {
    "collapsed": true
   },
   "outputs": [],
   "source": [
    "import Base.+, Base.*"
   ]
  },
  {
   "cell_type": "code",
   "execution_count": 1,
   "metadata": {
    "collapsed": false
   },
   "outputs": [
    {
     "data": {
      "text/plain": [
       "ad_constD (generic function with 1 method)"
      ]
     },
     "execution_count": 1,
     "metadata": {},
     "output_type": "execute_result"
    }
   ],
   "source": [
    "type AD\n",
    "    value::Float64\n",
    "    derivative::Float64\n",
    "    derivativeOp::Function\n",
    "    parents::Array{AD}\n",
    "    \n",
    "    AD(val::Float64) = new(val, 0, ad_constD, Array(AD,0))\n",
    "end\n",
    "\n",
    "function ad_constD(prevDerivative::Float64, adNodes::Array{AD})\n",
    "    return 0\n",
    "end"
   ]
  },
  {
   "cell_type": "code",
   "execution_count": 2,
   "metadata": {
    "collapsed": false
   },
   "outputs": [
    {
     "data": {
      "text/plain": [
       "+ (generic function with 164 methods)"
      ]
     },
     "execution_count": 2,
     "metadata": {},
     "output_type": "execute_result"
    }
   ],
   "source": [
    "function ad_add(a::AD, b::AD)\n",
    "    result = AD(a.value + b.value)\n",
    "    result.derivativeOp = ad_addD\n",
    "    push!(result.parents, a)\n",
    "    push!(result.parents, b)\n",
    "    return result\n",
    "end\n",
    "function ad_addD(prevDerivative::Float64, adNodes::Array{AD})\n",
    "    adNodes[1].derivative = adNodes[1].derivative + prevDerivative * 1\n",
    "    adNodes[2].derivative = adNodes[2].derivative + prevDerivative * 1\n",
    "    return\n",
    "end\n",
    "+(x::AD, y::AD) = ad_add(x, y)"
   ]
  },
  {
   "cell_type": "code",
   "execution_count": 3,
   "metadata": {
    "collapsed": false
   },
   "outputs": [
    {
     "data": {
      "text/plain": [
       "* (generic function with 150 methods)"
      ]
     },
     "execution_count": 3,
     "metadata": {},
     "output_type": "execute_result"
    }
   ],
   "source": [
    "function ad_mul(a::AD, b::AD)\n",
    "    result = AD(a.value * b.value)\n",
    "    result.derivativeOp = ad_mulD\n",
    "    push!(result.parents, a)\n",
    "    push!(result.parents, b)\n",
    "    return result\n",
    "end\n",
    "function ad_mulD(prevDerivative::Float64, adNodes::Array{AD})\n",
    "    adNodes[1].derivative = adNodes[1].derivative + prevDerivative * adNodes[2].value\n",
    "    adNodes[2].derivative = adNodes[2].derivative + prevDerivative * adNodes[1].value\n",
    "    return\n",
    "end\n",
    "*(x::AD, y::AD) = ad_mul(x, y)"
   ]
  },
  {
   "cell_type": "code",
   "execution_count": 4,
   "metadata": {
    "collapsed": false
   },
   "outputs": [
    {
     "data": {
      "text/plain": [
       "AD(1.0,0.0,ad_constD,AD[])"
      ]
     },
     "execution_count": 4,
     "metadata": {},
     "output_type": "execute_result"
    }
   ],
   "source": [
    "x = AD(2.0)\n",
    "y = AD(1.0)"
   ]
  },
  {
   "cell_type": "code",
   "execution_count": 5,
   "metadata": {
    "collapsed": false
   },
   "outputs": [
    {
     "data": {
      "text/plain": [
       "f (generic function with 1 method)"
      ]
     },
     "execution_count": 5,
     "metadata": {},
     "output_type": "execute_result"
    }
   ],
   "source": [
    "function f(x::AD,y::AD)\n",
    "    (x+y)*(y + AD(1.0))\n",
    "end "
   ]
  },
  {
   "cell_type": "code",
   "execution_count": 6,
   "metadata": {
    "collapsed": false
   },
   "outputs": [
    {
     "data": {
      "text/plain": [
       "AD(6.0,0.0,ad_mulD,AD[AD(3.0,0.0,ad_addD,AD[AD(2.0,0.0,ad_constD,AD[]),AD(1.0,0.0,ad_constD,AD[])]),AD(2.0,0.0,ad_addD,AD[AD(1.0,0.0,ad_constD,AD[]),AD(1.0,0.0,ad_constD,AD[])])])"
      ]
     },
     "execution_count": 6,
     "metadata": {},
     "output_type": "execute_result"
    }
   ],
   "source": [
    "f(x,y)"
   ]
  },
  {
   "cell_type": "code",
   "execution_count": 7,
   "metadata": {
    "collapsed": false
   },
   "outputs": [
    {
     "data": {
      "text/plain": [
       "backprop (generic function with 1 method)"
      ]
     },
     "execution_count": 7,
     "metadata": {},
     "output_type": "execute_result"
    }
   ],
   "source": [
    "function backprop(graph::AD)\n",
    "    current = graph\n",
    "    # set the derivative to 1\n",
    "    current.derivative = 1\n",
    "    bfs = [current]\n",
    "    while length(bfs) != 0\n",
    "        currDerivative = current.derivative\n",
    "        current.derivativeOp(currDerivative, current.parents)\n",
    "        numParents = length(current.parents)\n",
    "        for i=1:numParents \n",
    "            push!(bfs, current.parents[i])\n",
    "        end\n",
    "        current = pop!(bfs)\n",
    "    end\n",
    "    return graph\n",
    "end"
   ]
  },
  {
   "cell_type": "code",
   "execution_count": 8,
   "metadata": {
    "collapsed": false
   },
   "outputs": [
    {
     "data": {
      "text/plain": [
       "AD(6.0,1.0,ad_mulD,AD[AD(3.0,2.0,ad_addD,AD[AD(2.0,2.0,ad_constD,AD[]),AD(1.0,5.0,ad_constD,AD[])]),AD(2.0,3.0,ad_addD,AD[AD(1.0,5.0,ad_constD,AD[]),AD(1.0,3.0,ad_constD,AD[])])])"
      ]
     },
     "execution_count": 8,
     "metadata": {},
     "output_type": "execute_result"
    }
   ],
   "source": [
    "backprop(f(x,y))"
   ]
  },
  {
   "cell_type": "code",
   "execution_count": 9,
   "metadata": {
    "collapsed": false
   },
   "outputs": [
    {
     "data": {
      "text/plain": [
       "AD(2.0,2.0,ad_constD,AD[])"
      ]
     },
     "execution_count": 9,
     "metadata": {},
     "output_type": "execute_result"
    }
   ],
   "source": [
    "x"
   ]
  },
  {
   "cell_type": "code",
   "execution_count": 9,
   "metadata": {
    "collapsed": false
   },
   "outputs": [
    {
     "data": {
      "text/plain": [
       "2.0"
      ]
     },
     "execution_count": 9,
     "metadata": {},
     "output_type": "execute_result"
    }
   ],
   "source": [
    "x.derivative"
   ]
  },
  {
   "cell_type": "code",
   "execution_count": 11,
   "metadata": {
    "collapsed": false
   },
   "outputs": [
    {
     "data": {
      "text/plain": [
       "AD(1.0,5.0,ad_constD,AD[])"
      ]
     },
     "execution_count": 11,
     "metadata": {},
     "output_type": "execute_result"
    }
   ],
   "source": [
    "y"
   ]
  },
  {
   "cell_type": "code",
   "execution_count": 10,
   "metadata": {
    "collapsed": false
   },
   "outputs": [
    {
     "data": {
      "text/plain": [
       "5.0"
      ]
     },
     "execution_count": 10,
     "metadata": {},
     "output_type": "execute_result"
    }
   ],
   "source": [
    "y.derivative"
   ]
  },
  {
   "cell_type": "code",
   "execution_count": null,
   "metadata": {
    "collapsed": true
   },
   "outputs": [],
   "source": []
  }
 ],
 "metadata": {
  "kernelspec": {
   "display_name": "Julia 0.5.0",
   "language": "julia",
   "name": "julia-0.5"
  },
  "language_info": {
   "file_extension": ".jl",
   "mimetype": "application/julia",
   "name": "julia",
   "version": "0.5.0"
  }
 },
 "nbformat": 4,
 "nbformat_minor": 0
}
