{
 "cells": [
  {
   "cell_type": "code",
   "execution_count": 1,
   "metadata": {
    "collapsed": false
   },
   "outputs": [
    {
     "data": {
      "text/plain": [
       "AutoDiff.AD(\"val\",[1.0],false,[0.0],AutoDiff.ad_constD,AutoDiff.AD[],1)"
      ]
     },
     "execution_count": 1,
     "metadata": {},
     "output_type": "execute_result"
    }
   ],
   "source": [
    "using AutoDiff\n",
    "x = AD(1)"
   ]
  },
  {
   "cell_type": "code",
   "execution_count": 3,
   "metadata": {
    "collapsed": false
   },
   "outputs": [
    {
     "data": {
      "text/html": [
       "  <!DOCTYPE html>\n",
       "  <meta charset=\"utf-8\">\n",
       "  <style>\n",
       "\n",
       "    .links line {\n",
       "      stroke: #999;\n",
       "      stroke-opacity: 0.6;\n",
       "    }\n",
       "\n",
       "    .nodes circle {\n",
       "      stroke: #fff;\n",
       "      stroke-width: 1.5px;\n",
       "    }\n",
       "\n",
       "  </style>\n",
       "  <svg width=\"960\" height=\"600\"></svg>\n",
       "  <script type=text/javascript>\n",
       "  require.config({\n",
       "    paths: {\n",
       "      d3: '//d3js.org/d3.v4.min',\n",
       "      mathjax: '//edx-static.s3.amazonaws.com/mathjax-MathJax-727332c/MathJax.js?config=TeX-MML-AM_HTMLorMML-full'\n",
       "    },\n",
       "    shim: {\n",
       "      'd3': {\n",
       "        exports: 'd3',\n",
       "        init: function() {\n",
       "          window.d3 = d3;\n",
       "        }\n",
       "      },\n",
       "    }\n",
       "  });\n",
       "  require([\"d3\", \"mathjax\"], function(d3, mathjax) {\n",
       "  var svg = d3.select(\"svg\"),\n",
       "  width = +svg.attr(\"width\"),\n",
       "  height = +svg.attr(\"height\");\n",
       "\n",
       "  var color = d3.scaleOrdinal(d3.schemeCategory20);\n",
       "  var simulation = d3.forceSimulation()\n",
       "                      .force(\"link\", d3.forceLink().id(function(d) { return d.id; }))\n",
       "                      .force(\"charge\", d3.forceManyBody())\n",
       "                      .force(\"center\", d3.forceCenter(width / 2, height / 2));\n",
       "\n",
       "  var graph = {\"nodes\":[{\"id\":\"Ptr{Float64} @0x0000000085d58110\",\"name\":\"val\",\"metadata\":{\"valueSize\":[1,1],\"opNode\":false,\"gradSize\":[1,1],\"gradOp\":\"node.gradOp\"},\"group\":1}],\"links\":[]};\n",
       "  var link = svg.append(\"g\")\n",
       "                .attr(\"class\", \"links\")\n",
       "                .selectAll(\"line\")\n",
       "                .data(graph.links)\n",
       "                .enter().append(\"line\")\n",
       "                .attr(\"stroke-width\", function(d) { return Math.sqrt(d.value); });\n",
       "  var node = svg.append(\"g\")\n",
       "                .attr(\"class\", \"nodes\")\n",
       "                .selectAll(\"circle\")\n",
       "                .data(graph.nodes)\n",
       "                .enter().append(\"circle\")\n",
       "                .attr(\"r\", 5)\n",
       "                .attr(\"fill\", function(d) { return color(d.group); })\n",
       "                .call(d3.drag()\n",
       "                .on(\"start\", dragstarted)\n",
       "                .on(\"drag\", dragged)\n",
       "                .on(\"end\", dragended));\n",
       "\n",
       "  node.append(\"title\")\n",
       "    .text(function(d) { return JSON.stringify(d.metadata); });\n",
       "  simulation\n",
       "    .nodes(graph.nodes)\n",
       "    .on(\"tick\", ticked);\n",
       "\n",
       "  simulation.force(\"link\")\n",
       "    .links(graph.links);\n",
       "\n",
       "  function ticked() {\n",
       "    link\n",
       "      .attr(\"x1\", function(d) { return d.source.x; })\n",
       "      .attr(\"y1\", function(d) { return d.source.y; })\n",
       "      .attr(\"x2\", function(d) { return d.target.x; })\n",
       "      .attr(\"y2\", function(d) { return d.target.y; });\n",
       "    node\n",
       "      .attr(\"cx\", function(d) { return d.x; })\n",
       "      .attr(\"cy\", function(d) { return d.y; });\n",
       "  }\n",
       "\n",
       "  function dragstarted(d) {\n",
       "    if (!d3.event.active) simulation.alphaTarget(0.3).restart();\n",
       "    d.fx = d.x;\n",
       "    d.fy = d.y;\n",
       "  }\n",
       "\n",
       "  function dragged(d) {\n",
       "    d.fx = d3.event.x;\n",
       "    d.fy = d3.event.y;\n",
       "  }\n",
       "\n",
       "  function dragended(d) {\n",
       "    if (!d3.event.active) simulation.alphaTarget(0);\n",
       "    d.fx = null;\n",
       "    d.fy = null;\n",
       "  }\n",
       "  });\n",
       "  </script>\n"
      ]
     },
     "metadata": {},
     "output_type": "display_data"
    }
   ],
   "source": [
    "plot(x)"
   ]
  },
  {
   "cell_type": "code",
   "execution_count": null,
   "metadata": {
    "collapsed": true
   },
   "outputs": [],
   "source": []
  }
 ],
 "metadata": {
  "kernelspec": {
   "display_name": "Julia 0.5.0",
   "language": "julia",
   "name": "julia-0.5"
  },
  "language_info": {
   "file_extension": ".jl",
   "mimetype": "application/julia",
   "name": "julia",
   "version": "0.5.0"
  }
 },
 "nbformat": 4,
 "nbformat_minor": 0
}
