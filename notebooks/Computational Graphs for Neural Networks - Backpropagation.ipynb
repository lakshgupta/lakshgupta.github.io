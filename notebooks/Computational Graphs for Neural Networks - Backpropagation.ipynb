{
 "cells": [
  {
   "cell_type": "code",
   "execution_count": 1,
   "metadata": {
    "collapsed": false
   },
   "outputs": [],
   "source": [
    "using ToyAD\n",
    "using PyPlot\n",
    "N = 100 # number of points per class\n",
    "D = 2 # dimensionality\n",
    "K = 3 # number of classes\n",
    "X = AD(zeros(N*K, D)) # data matrix (each row = single example)\n",
    "y = zeros(N*K, 1) # class labels\n",
    "for j in range(1,K)\n",
    "    idx = range(1+N*(j-1), N); #index for X and Y\n",
    "    r = linspace(0.0,1,N); # radius\n",
    "    t = linspace((j-1)*4,(j)*4,N) + randn(N)*0.2 # theta\n",
    "    X.value[idx, :] = [r.*sin(t) r.*cos(t)]\n",
    "    y[idx,1] = j;\n",
    "end"
   ]
  },
  {
   "cell_type": "code",
   "execution_count": null,
   "metadata": {
    "collapsed": false
   },
   "outputs": [],
   "source": [
    "# lets visualize the data:\n",
    "scatter(X.value[:, 1], X.value[:, 2], s=40, c=y, alpha=0.5)"
   ]
  },
  {
   "cell_type": "code",
   "execution_count": 5,
   "metadata": {
    "collapsed": false
   },
   "outputs": [
    {
     "name": "stdout",
     "output_type": "stream",
     "text": [
      "iteration: 1 loss: [1.09857]\n",
      "iteration: 10 loss: [NaN]\n",
      "iteration: 20 loss: [NaN]\n",
      "iteration: 30 loss: [NaN]\n",
      "iteration: 40 loss: [NaN]\n",
      "iteration: 50 loss: [NaN]\n",
      "iteration: 60 loss: [NaN]\n",
      "iteration: 70 loss: [NaN]\n",
      "iteration: 80 loss: [NaN]\n",
      "iteration: 90 loss: [NaN]\n",
      "iteration: 100 loss: [NaN]\n"
     ]
    }
   ],
   "source": [
    "# initialize parameters randomly\n",
    "h = 100 # size of hidden layer\n",
    "W1 = AD(0.01 * randn(D,h))\n",
    "b1 = AD(zeros(1,h))\n",
    "W2 = AD(0.01 * randn(h,K))\n",
    "b2 = AD(zeros(1,K))\n",
    "\n",
    "# some hyperparameters\n",
    "step_size = 1e-0\n",
    "reg = 1e-3 # regularization strength\n",
    "\n",
    "# gradient descent loop\n",
    "num_examples = size(X.value,1)\n",
    "numIterations = 100\n",
    "J = zeros(numIterations,1);\n",
    "for i in 1:numIterations\n",
    "    # evaluate class scores, [N x K]\n",
    "    hidden1 = relu(X*W1 .+ b1) # note, ReLU activation\n",
    "    hidden2 = hidden1*W2 .+ b2\n",
    "    output = softmaxLoss(y, hidden2, 2)\n",
    "    \n",
    "    \n",
    "    # backpropate the gradient to the parameters\n",
    "    backprop(output, true)\n",
    "\n",
    "    # add regularization gradient contribution\n",
    "    W2.grad += reg * W2.value\n",
    "    W1.grad += reg * W1.value\n",
    "\n",
    "    # update the weights and biases\n",
    "    # reset their gradient\n",
    "    W1.value += -step_size * W1.grad\n",
    "    W1.grad = W1.grad .* 0\n",
    "    b1.value += -step_size * b1.grad\n",
    "    b1.grad = b1.grad .* 0\n",
    "    W2.value += -step_size * W2.grad\n",
    "    W2.grad = W2.grad .* 0\n",
    "    b2.value += -step_size * b2.grad\n",
    "    b2.grad = b2.grad .* 0\n",
    "end"
   ]
  },
  {
   "cell_type": "code",
   "execution_count": 7,
   "metadata": {
    "collapsed": false
   },
   "outputs": [
    {
     "data": {
      "text/html": [
       "      <!DOCTYPE html>\n",
       "      <meta charset=\"utf-8\">\n",
       "      <style>\n",
       "\n",
       "        .links line {\n",
       "          stroke: #999;\n",
       "          stroke-opacity: 0.6;\n",
       "        }\n",
       "\n",
       "        .nodes text {\n",
       "          pointer-events: none;\n",
       "          font: 10px sans-serif;\n",
       "        }\n",
       "\n",
       "        text{\n",
       "\t\t      visibility: visible;\n",
       "\t      }\n",
       "\n",
       "        .nodes circle {\n",
       "          stroke: #fff;\n",
       "          stroke-width: 1.5px;\n",
       "        }\n",
       "\n",
       "      </style>\n",
       "      <svg width=\"960\" height=\"600\"></svg>\n",
       "      <script type=text/javascript>\n",
       "      require.config({\n",
       "    paths: {\n",
       "      d3: '//d3js.org/d3.v4.min',\n",
       "      mathjax: '//edx-static.s3.amazonaws.com/mathjax-MathJax-727332c/MathJax.js?config=TeX-MML-AM_HTMLorMML-full'\n",
       "    },\n",
       "    shim: {\n",
       "      'd3': {\n",
       "        exports: 'd3',\n",
       "        init: function() {\n",
       "          window.d3 = d3;\n",
       "        }\n",
       "      },\n",
       "    }\n",
       "  });\n",
       "  require([\"d3\", \"mathjax\"], function(d3, mathjax) {\n",
       "      var svg = d3.select(\"svg\"),\n",
       "      width = +svg.attr(\"width\"),\n",
       "      height = +svg.attr(\"height\");\n",
       "\n",
       "      var color = d3.scaleOrdinal(d3.schemeCategory20);\n",
       "      var simulation = d3.forceSimulation()\n",
       "                          .force(\"link\", d3.forceLink().id(function(d) { return d.id; }))\n",
       "                          .force(\"charge\", d3.forceManyBody())\n",
       "                          .force(\"center\", d3.forceCenter(width / 2, height / 2));\n",
       "\n",
       "      var graph = {\"nodes\":[{\"id\":\"Ptr{Float64} @0x0000000001d05e00\",\"name\":\"softmax\",\"metadata\":{\"valueSize\":[300,3],\"opNode\":true,\"gradSize\":[300,3]},\"group\":1},{\"id\":\"Ptr{Float64} @0x0000000001d07b40\",\"name\":\".+\",\"metadata\":{\"valueSize\":[300,3],\"opNode\":true,\"gradSize\":[300,3]},\"group\":1},{\"id\":\"Ptr{Float64} @0x00000000845c6970\",\"name\":\"val\",\"metadata\":{\"valueSize\":[1,3],\"opNode\":false,\"gradSize\":[1,3]},\"group\":0},{\"id\":\"Ptr{Float64} @0x0000000001d04100\",\"name\":\"*\",\"metadata\":{\"valueSize\":[300,3],\"opNode\":true,\"gradSize\":[300,3]},\"group\":1},{\"id\":\"Ptr{Float64} @0x0000000022170b00\",\"name\":\"val\",\"metadata\":{\"valueSize\":[100,3],\"opNode\":false,\"gradSize\":[100,3]},\"group\":0},{\"id\":\"Ptr{Float64} @0x000000002d67ee00\",\"name\":\"relu\",\"metadata\":{\"valueSize\":[300,100],\"opNode\":true,\"gradSize\":[300,100]},\"group\":1},{\"id\":\"Ptr{Float64} @0x000000002d609a80\",\"name\":\".+\",\"metadata\":{\"valueSize\":[300,100],\"opNode\":true,\"gradSize\":[300,100]},\"group\":1},{\"id\":\"Ptr{Float64} @0x0000000087650e50\",\"name\":\"val\",\"metadata\":{\"valueSize\":[1,100],\"opNode\":false,\"gradSize\":[1,100]},\"group\":0},{\"id\":\"Ptr{Float64} @0x0000000001b9e9c0\",\"name\":\"*\",\"metadata\":{\"valueSize\":[300,100],\"opNode\":true,\"gradSize\":[300,100]},\"group\":1},{\"id\":\"Ptr{Float64} @0x00000000875e38d0\",\"name\":\"val\",\"metadata\":{\"valueSize\":[2,100],\"opNode\":false,\"gradSize\":[2,100]},\"group\":0},{\"id\":\"Ptr{Float64} @0x0000000008d28380\",\"name\":\"val\",\"metadata\":{\"valueSize\":[300,2],\"opNode\":false,\"gradSize\":[300,2]},\"group\":0}],\"links\":[{\"source\":\"Ptr{Float64} @0x0000000001d05e00\",\"target\":\"Ptr{Float64} @0x0000000001d07b40\",\"value\":7},{\"source\":\"Ptr{Float64} @0x0000000001d07b40\",\"target\":\"Ptr{Float64} @0x0000000001d04100\",\"value\":6},{\"source\":\"Ptr{Float64} @0x0000000001d07b40\",\"target\":\"Ptr{Float64} @0x00000000845c6970\",\"value\":6},{\"source\":\"Ptr{Float64} @0x0000000001d04100\",\"target\":\"Ptr{Float64} @0x000000002d67ee00\",\"value\":5},{\"source\":\"Ptr{Float64} @0x0000000001d04100\",\"target\":\"Ptr{Float64} @0x0000000022170b00\",\"value\":5},{\"source\":\"Ptr{Float64} @0x000000002d67ee00\",\"target\":\"Ptr{Float64} @0x000000002d609a80\",\"value\":4},{\"source\":\"Ptr{Float64} @0x000000002d609a80\",\"target\":\"Ptr{Float64} @0x0000000001b9e9c0\",\"value\":3},{\"source\":\"Ptr{Float64} @0x000000002d609a80\",\"target\":\"Ptr{Float64} @0x0000000087650e50\",\"value\":3},{\"source\":\"Ptr{Float64} @0x0000000001b9e9c0\",\"target\":\"Ptr{Float64} @0x0000000008d28380\",\"value\":2},{\"source\":\"Ptr{Float64} @0x0000000001b9e9c0\",\"target\":\"Ptr{Float64} @0x00000000875e38d0\",\"value\":2}]};\n",
       "      var link = svg.append(\"g\")\n",
       "                    .attr(\"class\", \"links\")\n",
       "                    .selectAll(\"line\")\n",
       "                    .data(graph.links)\n",
       "                    .enter().append(\"line\")\n",
       "                    .attr(\"stroke-width\", function(d) { return Math.sqrt(d.value); });\n",
       "      var node = svg.append(\"g\")\n",
       "                    .attr(\"class\", \"nodes\")\n",
       "                    .selectAll(\"circle\")\n",
       "                    .data(graph.nodes)\n",
       "                    .enter()\n",
       "                    .append(\"circle\")\n",
       "                    .attr(\"r\", 5)\n",
       "                    .attr(\"fill\", function(d) { return color(d.group); })\n",
       "                    .call(d3.drag()\n",
       "                    .on(\"start\", dragstarted)\n",
       "                    .on(\"drag\", dragged)\n",
       "                    .on(\"end\", dragended));\n",
       "\n",
       "      node.append(\"title\")\n",
       "        .text(function(d) { return JSON.stringify(d.metadata); });\n",
       "      node.append(\"text\")\n",
       "        .attr(\"dx\", 12)\n",
       "        .attr(\"dy\", \".35em\")\n",
       "        .text(function(d) { return d.name });\n",
       "\n",
       "\n",
       "      simulation\n",
       "        .nodes(graph.nodes)\n",
       "        .on(\"tick\", ticked);\n",
       "\n",
       "      simulation.force(\"link\")\n",
       "        .links(graph.links);\n",
       "\n",
       "      setTimeout(textDisplay, 500);\n",
       "\n",
       "  \t  function textDisplay(){\n",
       "  \t\t    svg.append(\"g\")\n",
       "  \t\t      .selectAll(\"text\")\n",
       "  \t\t      .data(d3.selectAll(\"circle\")._groups[0])\n",
       "            .enter()\n",
       "  \t\t      .append(\"text\")\n",
       "  \t\t      .attr(\"x\", function(d,i){ return d.cx.animVal.value+5;})\n",
       "  \t\t      .attr(\"y\", function(d,i){ return d.cy.animVal.value-5;})\n",
       "  \t\t      .text(function(d) { return d.__data__.name })\n",
       "  \t\t      .attr(\"style\",\"\")\n",
       "  \t\t      .attr(\"font-family\", \"sans-serif\")\n",
       "  \t\t      .attr(\"font-size\", \"15px\");\n",
       "  \t  }\n",
       "\n",
       "      function ticked() {\n",
       "        link\n",
       "          .attr(\"x1\", function(d) { return d.source.x; })\n",
       "          .attr(\"y1\", function(d) { return d.source.y; })\n",
       "          .attr(\"x2\", function(d) { return d.target.x; })\n",
       "          .attr(\"y2\", function(d) { return d.target.y; });\n",
       "        node\n",
       "          .attr(\"cx\", function(d) { return d.x; })\n",
       "          .attr(\"cy\", function(d) { return d.y; });\n",
       "      }\n",
       "\n",
       "      function dragstarted(d) {\n",
       "        if (!d3.event.active) simulation.alphaTarget(0.3).restart();\n",
       "        d.fx = d.x;\n",
       "        d.fy = d.y;\n",
       "        svg.selectAll(\"text\").remove()\n",
       "\t      textDisplay();\n",
       "      }\n",
       "\n",
       "      function dragged(d) {\n",
       "        d.fx = d3.event.x;\n",
       "        d.fy = d3.event.y;\n",
       "        svg.selectAll(\"text\").remove()\n",
       "\t      textDisplay();\n",
       "      }\n",
       "\n",
       "      function dragended(d) {\n",
       "        if (!d3.event.active) simulation.alphaTarget(0);\n",
       "        d.fx = null;\n",
       "        d.fy = null;\n",
       "        svg.selectAll(\"text\").remove()\n",
       "\t      textDisplay();\n",
       "      }\n",
       "      });\n",
       "  </script>\n"
      ]
     },
     "metadata": {},
     "output_type": "display_data"
    }
   ],
   "source": [
    "ToyAD.plot(output)"
   ]
  },
  {
   "cell_type": "code",
   "execution_count": null,
   "metadata": {
    "collapsed": true
   },
   "outputs": [],
   "source": [
    "# plot the cost per iteration\n",
    "plot(1:length(J), J)\n",
    "xlabel(\"Iterations\")\n",
    "ylabel(\"Cost\")\n",
    "grid(\"on\")"
   ]
  },
  {
   "cell_type": "code",
   "execution_count": null,
   "metadata": {
    "collapsed": true
   },
   "outputs": [],
   "source": [
    "# evaluate training set accuracy\n",
    "hidden_layer = max(0, X*W1 .+ b1)\n",
    "scores = hidden_layer*W2 .+ b2\n",
    "predicted_class = zeros(size(scores,1))\n",
    "for i in 1:size(scores,1)\n",
    "    predicted_class[i] = indmax(scores[i,:])\n",
    "end\n",
    "#println(predicted_class)\n",
    "correct = 0;\n",
    "for i in 1:length(y)\n",
    "    if y[i] == predicted_class[i]\n",
    "        correct = correct + 1;\n",
    "    end\n",
    "end\n",
    "println(\"training accuracy: \", correct/length(y))"
   ]
  },
  {
   "cell_type": "code",
   "execution_count": null,
   "metadata": {
    "collapsed": true
   },
   "outputs": [],
   "source": [
    "\n",
    "# plot the resulting classifier\n",
    "h = 0.02;\n",
    "x_min = minimum(X[:, 1]) - 1;\n",
    "x_max = maximum(X[:, 1]) + 1;\n",
    "y_min = minimum(X[:, 2]) - 1;\n",
    "y_max = maximum(X[:, 2]) + 1;\n",
    "numX = convert(Int, floor((x_max - x_min)/h));\n",
    "xx = zeros(numX);\n",
    "xx[1] = x_min;\n",
    "yy = zeros(numX);\n",
    "yy[1] = y_min;\n",
    "for i in 2:numX\n",
    "    xx[i] = xx[i-1] + h;\n",
    "    yy[i] = yy[i-1] + h;\n",
    "end\n",
    "grid_x = [i for i in xx, j in yy];\n",
    "grid_y = [j for i in xx, j in yy];\n",
    "xy = [grid_x[:] grid_y[:]];\n",
    "z0 = xy*W1 .+ b1\n",
    "z0[z0 .< 0] = 0 \n",
    "z = z0*W2 .+ b2\n",
    "zz = zeros(size(z,1));\n",
    "for i in 1:size(z,1)\n",
    "    zz[i] = indmax(z[i,:])\n",
    "end\n",
    "zz = reshape(zz, size(grid_x));"
   ]
  },
  {
   "cell_type": "code",
   "execution_count": null,
   "metadata": {
    "collapsed": true
   },
   "outputs": [],
   "source": [
    "contourf(grid_x, grid_y, zz, cmap=get_cmap(\"Spectral\"), alpha=0.8) \n",
    "scatter(X[:, 1], X[:, 2], c=y, s=40)"
   ]
  }
 ],
 "metadata": {
  "kernelspec": {
   "display_name": "Julia 0.5.0",
   "language": "julia",
   "name": "julia-0.5"
  },
  "language_info": {
   "file_extension": ".jl",
   "mimetype": "application/julia",
   "name": "julia",
   "version": "0.5.0"
  }
 },
 "nbformat": 4,
 "nbformat_minor": 0
}
