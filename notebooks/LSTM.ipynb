{
 "cells": [
  {
   "cell_type": "code",
   "execution_count": null,
   "metadata": {
    "collapsed": true
   },
   "outputs": [],
   "source": []
  },
  {
   "cell_type": "markdown",
   "metadata": {},
   "source": [
    "- [LONG SHORT-TERM MEMORY](http://deeplearning.cs.cmu.edu/pdfs/Hochreiter97_lstm.pdf)\n",
    "- [LSTM: A Search Space Odyssey](http://arxiv.org/abs/1503.04069)\n",
    "- [LSTM Forward and Backward Pass](http://arunmallya.github.io/writeups/nn/lstm/index.html#/)\n",
    "- [On Recurrent and Deep Neural Networks](https://papyrus.bib.umontreal.ca/xmlui/bitstream/handle/1866/11452/Pascanu_Razvan_2014_these.pdf)\n",
    "- [awesome-rnn](http://jiwonkim.org/awesome-rnn/)\n",
    "- [Simple LSTM](http://nicodjimenez.github.io/2014/08/08/lstm.html)"
   ]
  },
  {
   "cell_type": "code",
   "execution_count": null,
   "metadata": {
    "collapsed": true
   },
   "outputs": [],
   "source": []
  }
 ],
 "metadata": {
  "kernelspec": {
   "display_name": "Julia 0.4.2",
   "language": "julia",
   "name": "julia-0.4"
  },
  "language_info": {
   "file_extension": ".jl",
   "mimetype": "application/julia",
   "name": "julia",
   "version": "0.4.2"
  }
 },
 "nbformat": 4,
 "nbformat_minor": 0
}
