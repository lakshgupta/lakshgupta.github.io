{
 "cells": [
  {
   "cell_type": "markdown",
   "metadata": {
    "collapsed": false
   },
   "source": [
    "<h2 class=\"section-heading\">The Problem</h2>\n",
    "\n",
    "Single neuron has limited computational power and hence we need a way to build a network of neurons to make a more complex model. In this post we will look into how to construct a neural network and try to solve the handwritten digit recognition problem. The goal is to decide which digit it represents when given a new image. "
   ]
  },
  {
   "cell_type": "markdown",
   "metadata": {},
   "source": [
    "<h2 class=\"section-heading\">Understanding the Data</h2>\n",
    "\n",
    "We'll use the [MNIST dataset](http://yann.lecun.com/exdb/mnist/). Luckily, [John Myles White](https://github.com/johnmyleswhite/MNIST.jl) has already created a package to import this dataset in Julia. The MNIST dataset provides a training set of 60,000 handwritten digits and a test set of 10,000 handwritten digits. Each of the image has a size of 28×28 pixels. ![MNIST](files/img/MNIST_digits.png)"
   ]
  },
  {
   "cell_type": "code",
   "execution_count": 1,
   "metadata": {
    "collapsed": false
   },
   "outputs": [
    {
     "name": "stderr",
     "output_type": "stream",
     "text": [
      "INFO: Cloning cache of MNIST from git://github.com/johnmyleswhite/MNIST.jl.git\n",
      "INFO: Installing MNIST v0.0.1\n",
      "INFO: Package database updated\n",
      "INFO: Nothing to be done\n"
     ]
    }
   ],
   "source": [
    "#Pkg.update();\n",
    "Pkg.add(\"MNIST\");\n",
    "Pkg.add(\"PyPlot\")\n",
    "#Pkg.installed();"
   ]
  },
  {
   "cell_type": "markdown",
   "metadata": {
    "collapsed": true
   },
   "source": [
    "For plotting, PyPlot is a good option. It provides a Julia interface to the Matplotlib plotting library from Python."
   ]
  },
  {
   "cell_type": "code",
   "execution_count": 1,
   "metadata": {
    "collapsed": false
   },
   "outputs": [
    {
     "name": "stderr",
     "output_type": "stream",
     "text": [
      "Qt: Untested Windows version 10.0 detected!\r\n",
      "INFO: Loading help data...\n"
     ]
    }
   ],
   "source": [
    "using MNIST\n",
    "using PyPlot"
   ]
  },
  {
   "cell_type": "code",
   "execution_count": 2,
   "metadata": {
    "collapsed": false
   },
   "outputs": [
    {
     "data": {
      "text/plain": [
       "60000"
      ]
     },
     "execution_count": 2,
     "metadata": {},
     "output_type": "execute_result"
    }
   ],
   "source": [
    "# ===================\n",
    "# load training data\n",
    "# ===================\n",
    "X,y = traindata(); #X:(784x60000), y:(60000x1)\n",
    "m = size(X, 2); # number of inputs"
   ]
  },
  {
   "cell_type": "markdown",
   "metadata": {},
   "source": [
    "<h2 class=\"section-heading\">Training a model</h2>\n",
    "\n",
    "We want to train a neural network with one input layer, one hidden layer and one output layer to recognize handwritten digits. Since the dataset contains 28×28 pixel images, our neural network will have $28*28=784$ input neurons, a variable number of hidden neurons and $10$ output neurons.\n",
    "\n",
    "![2-layer-neuralNetwork](files/img/300px-Colored_neural_network.svg.png)"
   ]
  },
  {
   "cell_type": "code",
   "execution_count": 3,
   "metadata": {
    "collapsed": false
   },
   "outputs": [
    {
     "data": {
      "text/plain": [
       "10"
      ]
     },
     "execution_count": 3,
     "metadata": {},
     "output_type": "execute_result"
    }
   ],
   "source": [
    "# ======================\n",
    "# network setup\n",
    "# ======================\n",
    "inputLayerSize = size(X,1); # number of input features: 784\n",
    "hiddenLayerSize = 25; # variable\n",
    "outputLayerSize = 10; # number of output classes"
   ]
  },
  {
   "cell_type": "code",
   "execution_count": 4,
   "metadata": {
    "collapsed": false
   },
   "outputs": [],
   "source": [
    "# since we are doing multiclass classification: more than one output neurons\n",
    "# representing each output as an array of size of the output layer\n",
    "eyeY = eye(outputLayerSize);\n",
    "intY = [convert(Int64,i)+1 for i in y];\n",
    "Y = zeros(outputLayerSize, m); #Y:(10,60000)\n",
    "for i = 1:m\n",
    "    Y[:,i] = eyeY[:,intY[i],];\n",
    "end"
   ]
  },
  {
   "cell_type": "code",
   "execution_count": 5,
   "metadata": {
    "collapsed": false
   },
   "outputs": [
    {
     "data": {
      "text/plain": [
       "26x10 Array{Float64,2}:\n",
       " -1.27089     0.479523   -0.99036    …  -0.832352  -1.67965      0.717898\n",
       "  0.784286    0.787156    0.918208       1.11601   -1.8572       0.13915 \n",
       "  1.52125     0.166059    0.915906      -0.89661   -0.726829    -0.48725 \n",
       " -1.58783     0.114649   -0.651388      -0.171521   1.2626       0.695998\n",
       "  1.41764    -1.17549    -0.109441       0.677386  -1.3511       1.75317 \n",
       " -0.335871   -0.977572    0.343205   …  -0.083505  -0.00562213  -0.488789\n",
       "  0.882617    0.0162244   0.174534      -1.41708   -1.30483     -0.532368\n",
       "  0.902359    0.863993   -1.16986        0.672022   0.631474    -0.307444\n",
       " -0.0309143   0.605606    0.712581      -0.245228  -0.927909     0.684279\n",
       " -1.06219    -1.44161    -0.853884       1.46655    0.144472     1.11358 \n",
       " -0.0847061   0.136455   -1.26844    …  -0.488713   0.638289     0.561209\n",
       "  0.527324    1.81201    -0.0693595     -0.254858  -0.622378    -0.504535\n",
       " -0.249113    1.70551    -1.36203        0.378458  -0.618522     0.688522\n",
       " -0.853675   -0.0911323  -0.70715        0.464498  -0.619341    -0.742713\n",
       " -0.379098   -1.23673     0.822268       0.852517  -1.20594     -0.428439\n",
       " -0.139751   -0.422985    0.125273   …  -0.677429  -1.49437     -1.2491  \n",
       "  0.123872    0.777939    1.23407        0.653655   1.07291     -0.360851\n",
       "  0.665473    0.912363    1.52744        0.881409   0.737209    -0.204442\n",
       "  1.4082      1.14412    -0.530859      -2.07319   -0.81007     -0.618905\n",
       "  0.983534    0.662741    0.282756      -0.914892  -0.0845236    0.688454\n",
       " -0.613253    1.14907    -0.91018    …   0.108439   1.90253     -1.11629 \n",
       " -1.46872     1.07358    -0.901728       0.394541  -1.51509      0.111119\n",
       " -0.783912    2.43344     0.0298786     -0.312537  -0.0602425    1.08909 \n",
       "  0.0641432   2.38098     0.0675107      0.590356  -0.546707     0.642836\n",
       " -1.14593    -0.935517    2.13917       -0.221682  -2.17489      0.989762\n",
       " -0.996594   -0.734167    0.757487   …  -0.171332  -0.159887    -0.819363"
      ]
     },
     "execution_count": 5,
     "metadata": {},
     "output_type": "execute_result"
    }
   ],
   "source": [
    "# including one bias neuron in input layer\n",
    "# weights for the links connecting input layer to the hidden layer\n",
    "Theta1 = randn(inputLayerSize+1, hiddenLayerSize); #(785x25)\n",
    "# including one bias neuron in hidden layer\n",
    "# weights for the links connecting hidden layer to the output layer\n",
    "Theta2 = randn(hiddenLayerSize+1, outputLayerSize); #(26x10)"
   ]
  },
  {
   "cell_type": "markdown",
   "metadata": {},
   "source": [
    "The appraoch to train a neural network is similar to what we have discussed in the [neuron post](http://lakshgupta.github.io/2015/05/21/ArtificialNeuron/).  But since now we have a network of neurons, the way we follow the steps is a bit different. We'll use the [backpropagation algorithm](http://www.cs.toronto.edu/~hinton/absps/naturebp.pdf). \n",
    "\n",
    ">Backpropagation works by approximating the non-linear relationship between the input and the output by adjusting the weight values internally. \n",
    "The operations of the Backpropagation neural networks can be divided into two steps: feedforward and Backpropagation. In the feedforward step, an input pattern is applied to the input layer and its effect propagates, layer by layer, through the network until an output is produced. The network's actual output value is then compared to the expected output, and an error signal is computed for each of the output nodes. Since all the hidden nodes have, to some degree, contributed to the errors evident in the output layer, the output error signals are transmitted backwards from the output layer to each node in the hidden layer that immediately contributed to the output layer. This process is then repeated, layer by layer, until each node in the network has received an error signal that describes its relative contribution to the overall error.\n",
    "Once the error signal for each node has been determined, the errors are then used by the nodes to update the values for each connection weights until the network converges to a state that allows all the training patterns to be encoded. \n",
    "<p align=\"right\">- [www.cse.unsw.edu.au](http://www.cse.unsw.edu.au/~cs9417ml/MLP2/BackPropagation.html)</p>\n",
    "\n",
    "We'll discuss more about the backpropagation algorithm later but first let's collect the simple tools which are required for training a neural network."
   ]
  },
  {
   "cell_type": "markdown",
   "metadata": {},
   "source": [
    "<h4 class=\"section-heading\">Activation Function: $g$</h4>\n",
    "\n",
    "The activation function of artificial neurons have to be differentiable and their derivative has to be non-zero so that the gradient descent learning algorithm can be applied. Considering [linear regression](http://lakshgupta.github.io/2015/05/27/LinearRegression/), using a linear activation function does not give us much advantage here. Linear function applied to a linear function is itself a linear function, and hence both the functions can be replaced by a single linear function. Moreover real world problems are generally more complex. A linear activation function may not be a good fit for the dataset we have. Therefore if the data we wish to model is non-linear then we need to account for that in our model. Sigmoid activation function is one of the reasonably good non-linear activation functions which we could use in our neural network.\n",
    "\n",
    "$$sigmoid(z) = 1/(1 + e^{-z})$$\n",
    "\n",
    "![sigmoid](files/img/400px-SigmoidFunction.png)"
   ]
  },
  {
   "cell_type": "code",
   "execution_count": 6,
   "metadata": {
    "collapsed": false
   },
   "outputs": [
    {
     "data": {
      "text/plain": [
       "sigmoid (generic function with 1 method)"
      ]
     },
     "execution_count": 6,
     "metadata": {},
     "output_type": "execute_result"
    }
   ],
   "source": [
    "# ==============================================\n",
    "# activation function: computes the sigmoid of z \n",
    "# z is the weighted sum of inputs\n",
    "# ==============================================\n",
    "function sigmoid(z)\n",
    "    g = 1.0 ./ (1.0 + exp(-z));\n",
    "    return g;\n",
    "end"
   ]
  },
  {
   "cell_type": "markdown",
   "metadata": {},
   "source": [
    "<h4 class=\"section-heading\">Cost Function: $J$</h4>\n",
    "\n",
    "The “squared error” cost function used for linear regression is not suitable for neural networks, because the non-linear nature of activation function is said to produce a non-convex plot of the cost function, i.e. with many local minima. For further explanation refer to this [thread](https://class.coursera.org/ml-005/forum/thread?thread_id=2773).\n",
    "\n",
    "Therefore we will use the cross-entropy cost function. \n",
    ">the cross-entropy is positive, and tends toward zero as the neuron gets better at computing the desired output, y, for all training inputs, x.\n",
    "<p align=\"right\">- [Michael Nielsen](http://neuralnetworksanddeeplearning.com/chap3.html)</p>\n",
    "\n",
    "Take a look at this [paper](https://www-i6.informatik.rwth-aachen.de/publications/download/861/GolikPavelDoetschPatrickNeyHermann--Cross-Entropyvs.SquaredErrorTrainingaTheoreticalExperimentalComparison--2013.pdf) to have a comparison between cross entropy cost function and squared error cost function. So considering:\n",
    "$$J(\\theta) = \\frac{1}{m}(\\sum_{i=1}^{m}cost(h_{\\theta}(x^{(i)}),y^{(i)}))$$\n",
    "where:\n",
    "- $h_{\\theta}(x^{(i)})$ is the predicted value (hypothesis)\n",
    "- $y^{(i)}$ is the actual value (truth), and\n",
    "$$\\begin{eqnarray}\n",
    "cost(h_{\\theta}(x^{(i)}),y^{(i)})&=&\\left\\{\n",
    "\\begin{array}{l l}      \n",
    "    -\\log(h_{\\theta}(x^{(i)}))   &   \\mathrm{if} \\: y=1 \\\\\n",
    "    -\\log(1-h_{\\theta}(x^{(i)})) &  \\mathrm{if}  \\: y=0\n",
    "\\end{array}\\right.,  \\: h_{\\theta}(x^{(i)})\\in(0,1) \\\\ \\nonumber\n",
    "&=& - y^{(i)}\\log{h_{\\theta}(x^{(i)})} - (1-y^{(i)})\\log(1-h_{\\theta}(x^{(i)}))\n",
    "\\end{eqnarray}$$\n",
    "\n",
    "Hence our cost function becomes:\n",
    "$$J(\\theta) = -\\frac{1}{m}[\\sum_{i=1}^{m} ( y^{(i)}\\log{h_{\\theta}(x^{(i)})} + (1-y^{(i)})\\log({1-h_{\\theta}(x^{(i)}))})]$$\n",
    "\n",
    "We don't sum over the bias terms hence starting at 1 for the summation. The above equation for the cost function will work if we have a single neuron in the output layer. Let's generalize this cost function so that we could use it for $k$ neurons in the output layer. \n",
    "$$J(\\theta) = -\\frac{1}{m}\\sum_{i=1}^{m} \\sum_{i=1}^{k}[ y^{(i)}_k\\log{(h_{\\theta}(x^{(i)})_k)} + (1-y^{(i)}_k)\\log({1-(h_{\\theta}(x^{(i)}))_k)}]$$\n",
    "\n"
   ]
  },
  {
   "cell_type": "markdown",
   "metadata": {},
   "source": [
    "<h4 class=\"section-heading\">Regularization: $L^2$</h4>\n",
    "\n",
    "Most regularization approaches add a parameter norm penalty $\\Omega(\\theta)$ to the loss function $J$ to achieve better generalization of the model. In case of $L^2$ regularization, also known as weight decay, the penalty is equal to the sum of the square of all of the weight vectors.\n",
    "\n",
    "$$\\Omega(\\theta) = \\frac{\\lambda}{2m}\\sum_{l=1}^{L-1}\\sum_{i=1}^{s_l}\\sum_{j=1}^{s_{l+1}}((\\theta_{ji}^l)^2)$$ \n",
    "\n",
    "where \n",
    "- $\\lambda>0$, is known as the regularization parameter\n",
    "- $m$ is the size of our training set\n",
    "- $L$ in the equation is the layer number\n",
    "- $s$ is the neuron unit in the corresponding layer\n",
    "\n",
    ">Regularizers work by trading increased bias for reduced variance. An effective regularizer is one that makes a proﬁtable trade, that is it reduces variance signiﬁcantly while not overly increasing the bias.\n",
    "<p align=\"right\">- [Yoshua Bengio, Ian Goodfellow and Aaron Courville](http://www.iro.umontreal.ca/~bengioy/dlbook/regularization.html)</p>\n",
    "\n",
    "The Wikipedia has a descent article on the [bias-variance tradeoff](https://en.wikipedia.org/wiki/Bias%E2%80%93variance_tradeoff)."
   ]
  },
  {
   "cell_type": "code",
   "execution_count": 7,
   "metadata": {
    "collapsed": false
   },
   "outputs": [
    {
     "data": {
      "text/plain": [
       "costFunction (generic function with 1 method)"
      ]
     },
     "execution_count": 7,
     "metadata": {},
     "output_type": "execute_result"
    }
   ],
   "source": [
    "# weight regularization parameter\n",
    "lambda = 1; \n",
    "\n",
    "# ===============================================\n",
    "# cross entropy cost function with regularizarion\n",
    "# ===============================================\n",
    "function costFunction(truth, prediction)\n",
    "    cost = (-truth.*log(prediction)) - ((1-truth).*log(1-prediction));\n",
    "    # regularization term\n",
    "    regularization = (lambda/(2*m))*(sum(sum(Theta1[2:end,:].^2)) + sum(sum(Theta2[2:end,:].^2)));\n",
    "\n",
    "    return (1/m)*sum(sum(cost)) + regularization; # regularized cost\n",
    "end"
   ]
  },
  {
   "cell_type": "markdown",
   "metadata": {},
   "source": [
    "<h4 class=\"section-heading\">Backpropagation</h4>\n",
    "\n",
    "Despite the name, [backpropagation algorithm](http://ufldl.stanford.edu/wiki/index.php/Backpropagation_Algorithm) consist of two phases:\n",
    "- Feedforward \n",
    "- Backpropagation\n",
    "\n",
    "The feedforward process is the same process we have been following in the previous posts. Using the feedforward process we calculate the weighted sum of inputs and apply the activation function to get an output as we move from layer to layer. In the end we come up with a output activation which could have some error as compared to the actual values. To have the output as close as possible to the actual values we use the backpropagation process to tune the weights."
   ]
  },
  {
   "cell_type": "markdown",
   "metadata": {},
   "source": [
    "Backpropagation is a way of computing gradients of expressions through recursive application of chain rule. We start from the output layer and go backwards calulating the gradient on the activations for each layer till the first hidden layer.\n",
    "\n",
    ">From these gradients, which can be interpreted as an indication of how each layer’s output should change to reduce error, one can obtain the gradient on the parameters of each layer. The gradients on weights and biases can be immediately used as part of a stochastic gradient update (performing the update right after the gradients havebeen computed) or used with other gradient-based optimization methods.\n",
    "<p align=\"right\">- [Yoshua Bengio, Ian Goodfellow and Aaron Courville](http://www.iro.umontreal.ca/~bengioy/dlbook/regularization.html)</p>\n",
    "\n",
    "Since we are learning/tuning weights ($\\theta$), we want to evaluate: $\\dfrac{\\partial E}{\\partial \\theta_{ij}^{l}}$\n",
    "\n",
    "here using $d$ as dimension and $l$ as the layer number,\n",
    "$$ \\theta_{ij}^{l} =\n",
    "\\begin{cases}\n",
    "1 \\ge l \\ge L,  & \\text{layer} \\\\\n",
    "0 \\ge i \\ge d^{(l-1)}, & \\text{input} \\\\\n",
    "1 \\ge i \\ge d^{(l)}, & \\text{output}\n",
    "\\end{cases}\n",
    "$$\n",
    "\n",
    "Using the chain rule, we can solve the above partial derivative as:\n",
    "$$\\dfrac{\\partial E}{\\partial \\theta_{ij}^{l}} = \\underbrace{\\dfrac{\\partial E}{\\partial s_{j}^{l}}}_{1} \\underbrace{\\dfrac{\\partial s_{j}^{l}}{\\partial \\theta_{ij}^{l}}}_{2}$$\n",
    "\n",
    "here, $s$ represents the input signal to a neuron which is the weighted sum of the inputs or in other words weighted sum of the outputs from the previous layer's neurons. Hence $(2)$ becomes:\n",
    "\n",
    "$$\\dfrac{\\partial s_{j}^{l}}{\\partial \\theta_{ij}^{l}} = x^{(l-1)}$$\n",
    "\n",
    "where, $x$ is the value from applying activation function $g$ to $s$. Now let's look at $(1)$ and represent it as $\\delta$. Since we start backpropagation from the last output layer, we can numerically calculate it as:\n",
    "$$\\delta_{j}^{l} = \\dfrac{\\partial E}{\\partial s_{j}^{l}} = error(x^{l},y)$$\n",
    "\n",
    "$error$ could be any function to tell us how much far off we are from the actual value. For the MNIST problem, we'll simply subtract the predicted values from the actual values. \n",
    "\n",
    "For the hidden layers, we can break down $\\delta$ as:\n",
    "\\begin{eqnarray}\n",
    "\\delta_{i}^{l-1}&=& \\dfrac{\\partial E}{\\partial s_{i}^{l-1}} \\\\\n",
    "&=& \\sum_{j=1}^{d^{(l)}} (\\dfrac{\\partial E}{\\partial s_{j}^{l}}) (\\dfrac{\\partial s_{j}^{l}}{\\partial x_{i}^{l-1}}) (\\dfrac{\\partial x_{i}^{l-1}}{\\partial s_{i}^{l-1}}) \\\\\n",
    "&=& \\sum_{j=1}^{d^{(l)}} [(\\delta_{j}^{l}) (\\theta_{ij}^{l}) (g'(s_i^{l-1}))]\n",
    "\\end{eqnarray}\n",
    "\n",
    "We have now all the components for $\\dfrac{\\partial E}{\\partial \\theta_{ij}^{l}}$, hence we can update the weights as:\n",
    "$$\\theta_{ij}^{(l)} \\leftarrow \\theta_{ij}^{(l)} - \\alpha (\\delta_{j}^{l} x_{i}^{l-1})$$"
   ]
  },
  {
   "cell_type": "code",
   "execution_count": 8,
   "metadata": {
    "collapsed": false
   },
   "outputs": [
    {
     "data": {
      "text/plain": [
       "sigmoidGradient (generic function with 1 method)"
      ]
     },
     "execution_count": 8,
     "metadata": {},
     "output_type": "execute_result"
    }
   ],
   "source": [
    "# computes the gradient of the sigmoid function evaluated at z\n",
    "function sigmoidGradient(z)\n",
    "  return sigmoid(z).*(1-sigmoid(z));\n",
    "end"
   ]
  },
  {
   "cell_type": "code",
   "execution_count": 9,
   "metadata": {
    "collapsed": false
   },
   "outputs": [],
   "source": [
    "# learning rate\n",
    "alpha = 0.01;\n",
    "# number of iterations\n",
    "epoch = 20;\n",
    "# cost per epoch\n",
    "J = zeros(epoch,1);\n",
    "# ====================================================================\n",
    "# Train the neural network using feedforward-backpropagation algorithm\n",
    "# ====================================================================\n",
    "for i = 1:epoch\n",
    "    prediction = 0;\n",
    "    for j = 1:m # for each input\n",
    "        # ===================\n",
    "        # Feedforward process\n",
    "        # ===================\n",
    "        # input layer\n",
    "        # add one bias element\n",
    "        x1 = [1, X[:,j]];\n",
    "\n",
    "        # hidden layer\n",
    "        s2 = Theta1'*x1;\n",
    "        x2 = sigmoid(s2);\n",
    "        # add one bias element\n",
    "        x2 = [1, x2];\n",
    "\n",
    "        # output layer\n",
    "        s3 = Theta2'*x2;\n",
    "        x3 = sigmoid(s3);\n",
    "        if j==m\n",
    "            prediction = x3;\n",
    "        end\n",
    "        # =======================\n",
    "        # Backpropagation process\n",
    "        # =======================\n",
    "        # delta for output layer\n",
    "        delta3 = x3 - Y[:,j];\n",
    "        delta2 = (Theta2[2:end,:]*delta3).*sigmoidGradient(s2) ;\n",
    "        # there is no delta term for the input layer\n",
    "        \n",
    "        # adjust the weights (thetas)\n",
    "        Theta1 = Theta1 - alpha* x1*delta2';\n",
    "        Theta2 = Theta2 - alpha* x2*delta3';\n",
    "    end\n",
    "    J[i,:] = costFunction(Y, prediction);\n",
    "end"
   ]
  },
  {
   "cell_type": "markdown",
   "metadata": {},
   "source": [
    "If our implementation is correct, the cost of the predicted output after each iteration should drop. I'll cover another method (gradient check) in another post to validate our implementation. But for now let's check by plotting the cost per iteration."
   ]
  },
  {
   "cell_type": "code",
   "execution_count": 10,
   "metadata": {
    "collapsed": false
   },
   "outputs": [
    {
     "data": {
      "image/png": "[encoded data removed]",
      "text/plain": [
       "Figure(PyObject <matplotlib.figure.Figure object at 0x00000000023BAA20>)"
      ]
     },
     "metadata": {},
     "output_type": "display_data"
    }
   ],
   "source": [
    "# plot the cost per iteration\n",
    "plot(1:length(J), J)\n",
    "xlabel(\"Iterations\")\n",
    "ylabel(\"Cost\")\n",
    "grid(\"on\")"
   ]
  },
  {
   "cell_type": "code",
   "execution_count": 11,
   "metadata": {
    "collapsed": false
   },
   "outputs": [
    {
     "data": {
      "text/plain": [
       "20x1 Array{Float64,2}:\n",
       " 5.12748\n",
       " 4.35735\n",
       " 4.47587\n",
       " 4.71505\n",
       " 4.35392\n",
       " 3.84807\n",
       " 5.11713\n",
       " 4.48406\n",
       " 5.04871\n",
       " 5.47924\n",
       " 4.71112\n",
       " 4.14079\n",
       " 5.23093\n",
       " 5.05876\n",
       " 4.52177\n",
       " 4.50623\n",
       " 6.11315\n",
       " 4.77954\n",
       " 4.93481\n",
       " 5.27212"
      ]
     },
     "execution_count": 11,
     "metadata": {},
     "output_type": "execute_result"
    }
   ],
   "source": [
    "J"
   ]
  },
  {
   "cell_type": "markdown",
   "metadata": {},
   "source": [
    "<h2 class=\"section-heading\">Prediction and Accuracy</h2>\n",
    "\n",
    "After training the model we'll check how well our model has learned all the weights to make a prediction. So we'll evaluate the performance on the train dataset first. We do it by following a way similar to the feedforward process. Consider that we now do not have randonly initialized weights but rather obtained after going through the backpropagation algorithm."
   ]
  },
  {
   "cell_type": "code",
   "execution_count": 12,
   "metadata": {
    "collapsed": false
   },
   "outputs": [
    {
     "data": {
      "text/plain": [
       "predict (generic function with 1 method)"
      ]
     },
     "execution_count": 12,
     "metadata": {},
     "output_type": "execute_result"
    }
   ],
   "source": [
    "##########################################################################\n",
    "# outputs the predicted label of X given the\n",
    "# trained weights of a neural network (Theta1, Theta2)\n",
    "# Similar to feedforward process.\n",
    "##########################################################################\n",
    "function predict(Theta1, Theta2, X)\n",
    "    m = size(X, 2); # size of the data\n",
    "    p = zeros(m, 1); # to save our prediction\n",
    "    h1 = sigmoid(Theta1'*[ones(1,size(X,2)), X]); # hidded layer output\n",
    "    h2 = sigmoid(Theta2'*[ones(1,size(h1,2)), h1]); # output layer\n",
    "    # find the index with the max value in the array of size 10\n",
    "    # subtract 1 from the index since we are using 1 to \n",
    "    # represent 0, 2 for 1 and so on (while calculating Y)\n",
    "    for i=1:m\n",
    "        p[i,:] = indmax(h2[:,i])-1;\n",
    "    end\n",
    "    return p;\n",
    "end"
   ]
  },
  {
   "cell_type": "code",
   "execution_count": 13,
   "metadata": {
    "collapsed": false
   },
   "outputs": [],
   "source": [
    "# make prediction\n",
    "pred = predict(Theta1, Theta2, X);"
   ]
  },
  {
   "cell_type": "code",
   "execution_count": 14,
   "metadata": {
    "collapsed": false
   },
   "outputs": [
    {
     "data": {
      "text/plain": [
       "accuracy (generic function with 1 method)"
      ]
     },
     "execution_count": 14,
     "metadata": {},
     "output_type": "execute_result"
    }
   ],
   "source": [
    "###############################################\n",
    "# calculate the accuracy of the prediction\n",
    "###############################################\n",
    "function accuracy(truth, prediction)\n",
    "    # calculate the % of predicted values\n",
    "    # matching the actual values\n",
    "    n = length(truth);\n",
    "    sum =0;\n",
    "    for i=1:n\n",
    "        if truth[i,:] == prediction[i,:]\n",
    "            sum = sum +1;\n",
    "        end\n",
    "    end\n",
    "  return (sum/n)*100;\n",
    "end"
   ]
  },
  {
   "cell_type": "code",
   "execution_count": 15,
   "metadata": {
    "collapsed": false
   },
   "outputs": [
    {
     "name": "stdout",
     "output_type": "stream",
     "text": [
      "train accuracy: 52.22\n"
     ]
    }
   ],
   "source": [
    "# calculate accuracy\n",
    "println(\"train accuracy: \", accuracy(y, pred));"
   ]
  },
  {
   "cell_type": "markdown",
   "metadata": {},
   "source": [
    "After calculating the accuracy on the train dataset, let's check the accuracy on the test dataset to be sure that we did not overfit the data. If there is too much difference then we might have to tune some parameters."
   ]
  },
  {
   "cell_type": "code",
   "execution_count": 16,
   "metadata": {
    "collapsed": false
   },
   "outputs": [],
   "source": [
    "# ===============\n",
    "# load test data\n",
    "# ===============\n",
    "XTest,yTest = testdata();"
   ]
  },
  {
   "cell_type": "code",
   "execution_count": 17,
   "metadata": {
    "collapsed": false
   },
   "outputs": [],
   "source": [
    "# make prediction\n",
    "predTest = predict(Theta1, Theta2, XTest);"
   ]
  },
  {
   "cell_type": "code",
   "execution_count": 18,
   "metadata": {
    "collapsed": false
   },
   "outputs": [
    {
     "data": {
      "text/plain": [
       "10000"
      ]
     },
     "execution_count": 18,
     "metadata": {},
     "output_type": "execute_result"
    }
   ],
   "source": [
    "length(predTest)"
   ]
  },
  {
   "cell_type": "code",
   "execution_count": 19,
   "metadata": {
    "collapsed": false
   },
   "outputs": [
    {
     "name": "stdout",
     "output_type": "stream",
     "text": [
      "test accuracy: 51.88\n"
     ]
    }
   ],
   "source": [
    "# calculate accuracy\n",
    "println(\"test accuracy: \", accuracy(yTest, predTest));"
   ]
  },
  {
   "cell_type": "markdown",
   "metadata": {},
   "source": [
    "That's all folks! Now our model can make the prediction on any new handwritten digit in a similar way as we made the prediction on the test dataset. There are different ways to improve the model but I'll leave them for the coming posts."
   ]
  },
  {
   "cell_type": "markdown",
   "metadata": {},
   "source": [
    "<h2 class=\"section-heading\">References:</h2>\n",
    "\n",
    "- [Deep Learning in Neural Networks: An Overview](http://arxiv.org/abs/1404.7828)\n",
    "- [Learning representations by back-propagating errors](http://www.cs.toronto.edu/~hinton/absps/naturebp.pdf)\n",
    "- [Practical recommendations for gradient-based training of deep architectures](http://arxiv.org/abs/1206.5533)\n",
    "- [Coursera Machine Learning](https://class.coursera.org/ml-005)\n",
    "- [CS 231n](http://cs231n.github.io/optimization-2/)\n",
    "- [Deep Learning](http://www.iro.umontreal.ca/~bengioy/dlbook/mlp.html)\n",
    "- [UDFL](http://ufldl.stanford.edu/wiki/index.php/Backpropagation_Algorithm)\n",
    "- [Learning from Data](http://work.caltech.edu/slides/slides10.pdf)"
   ]
  },
  {
   "cell_type": "code",
   "execution_count": null,
   "metadata": {
    "collapsed": true
   },
   "outputs": [],
   "source": []
  }
 ],
 "metadata": {
  "kernelspec": {
   "display_name": "Julia 0.3.11",
   "language": "julia",
   "name": "julia-0.3"
  },
  "language_info": {
   "name": "julia",
   "version": "0.3.11"
  }
 },
 "nbformat": 4,
 "nbformat_minor": 0
}
