{
 "cells": [
  {
   "cell_type": "markdown",
   "metadata": {},
   "source": [
    "This post is a continuation of the [Neural Network](http://lakshgupta.github.io/2015/06/12/NeuralNetwork/) post where we learned about the basics of a neural network and applied it on the handwritten digit recognition problem. Here we'll cover the following topics which can help our neural network to perform better in terms of the accuracy of the model. \n",
    "- [Rectified linear unit (ReLU) function](https://en.wikipedia.org/wiki/Rectifier_(neural_networks))\n",
    "- [Softmax function](https://en.wikipedia.org/wiki/Softmax_function)\n",
    "- [Mini-batch gradient descent](https://en.wikipedia.org/wiki/Stochastic_gradient_descent)\n",
    "\n",
    "So let's get started!"
   ]
  },
  {
   "cell_type": "code",
   "execution_count": 1,
   "metadata": {
    "collapsed": true
   },
   "outputs": [],
   "source": [
    "using MNIST\n",
    "using PyPlot"
   ]
  },
  {
   "cell_type": "markdown",
   "metadata": {},
   "source": [
    "Our main algorithm for learning will be the same, i.e. backpropagation. I have re-structured the program to have replaceable components to make the experiment easy. There is a small change in the architecture of the neural network:\n",
    "- output layer will always be using the Softmax activation function\n",
    "- rest of all the layers we'll either use Sigmoid or ReLU activation function"
   ]
  },
  {
   "cell_type": "markdown",
   "metadata": {},
   "source": [
    "![sigmoid](files/img/nn/softmax_nn.jpg)"
   ]
  },
  {
   "cell_type": "markdown",
   "metadata": {},
   "source": [
    "<h4 class=\"section-heading\">ReLU Activation Function : $$f(x) = max(0, x)$$</h4>"
   ]
  },
  {
   "cell_type": "markdown",
   "metadata": {},
   "source": [
    "![sigmoid_relu](files/img/nn/sigmoid_relu.png)"
   ]
  },
  {
   "cell_type": "markdown",
   "metadata": {},
   "source": [
    "\n",
    "We have already seen the sigmoid function instead of which we'll use ReLU activation function for the input and hidden layers in the current neural network architecture because it is faster and does not suffer from the [vanishing gradient problem](https://en.wikipedia.org/wiki/Vanishing_gradient_problem).  \n",
    "\n",
    ">- Biological plausibility: One-sided, compared to the antisymmetry of [tanh](https://en.wikipedia.org/wiki/Hyperbolic_function#Tanh).\n",
    ">- Sparse activation: For example, in a randomly initialized network, only about 50% of hidden units are activated (having a non-zero output).\n",
    ">- Efficient gradient propagation: No [vanishing gradient problem](https://en.wikipedia.org/wiki/Vanishing_gradient_problem) or exploding effect.\n",
    ">- Efficient computation: Only comparison, addition and multiplication.\n",
    ">\n",
    ">For the first time in 2011, the use of the rectifier as a non-linearity has been shown to enable training deep supervised neural networks without requiring unsupervised pre-training. Rectified linear units, compared to [sigmoid](https://en.wikipedia.org/wiki/Sigmoid_function) function or similar activation functions, allow for faster and effective training of deep neural architectures on large and complex datasets.\n",
    ">\n",
    ">Potential problems:\n",
    "Non-differentiable at zero: however it is differentiable at any point arbitrarily close to 0.\n",
    "<p>- <a href=\"https://en.wikipedia.org/wiki/Rectifier_(neural_networks)\">Wikipedia</a></p>\n",
    "\n",
    "\n",
    ">\"What neuron type should I use?\" Use the ReLU non-linearity, be careful with your learning rates and possibly monitor the fraction of \"dead\" units in a network. If this concerns you, give Leaky ReLU or Maxout a try. Never use sigmoid. Try tanh, but expect it to work worse than ReLU/Maxout.\n",
    "<p>- <a href=\"http://cs231n.github.io/neural-networks-1/\">Andrej Karpathy</a></p>"
   ]
  },
  {
   "cell_type": "code",
   "execution_count": 2,
   "metadata": {
    "collapsed": false
   },
   "outputs": [
    {
     "data": {
      "text/plain": [
       "relu (generic function with 1 method)"
      ]
     },
     "execution_count": 2,
     "metadata": {},
     "output_type": "execute_result"
    }
   ],
   "source": [
    "# ReLU function\n",
    "function relu(z::Matrix{Float64})\n",
    "    return max(0.0, z);\n",
    "end"
   ]
  },
  {
   "cell_type": "code",
   "execution_count": 3,
   "metadata": {
    "collapsed": false
   },
   "outputs": [
    {
     "data": {
      "text/plain": [
       "sigmoid (generic function with 1 method)"
      ]
     },
     "execution_count": 3,
     "metadata": {},
     "output_type": "execute_result"
    }
   ],
   "source": [
    "# sigmoid function\n",
    "function sigmoid(z::Matrix{Float64})\n",
    "    g = 1.0 ./ (1.0 + exp(-z));\n",
    "    return g;\n",
    "end"
   ]
  },
  {
   "cell_type": "markdown",
   "metadata": {},
   "source": [
    "<h4 class=\"section-heading\">Softmax Activation Function : $$f_i(x) = \\frac{e^{x_i}}{\\sum_k e^{x_k}}$$</h4>\n",
    "\n",
    "Using softmax function gives us normalized class probabilities. Softmax activation function takes the input, exponentiating the input gives us unnormalized probabilities and then it uses a normalization factor to result in normalized probabilities. Hence the output for each class lies between $0$ and $1$, and the sum of all the class probabilities is equal to $1$."
   ]
  },
  {
   "cell_type": "code",
   "execution_count": 4,
   "metadata": {
    "collapsed": false
   },
   "outputs": [
    {
     "data": {
      "text/plain": [
       "forwardNN (generic function with 1 method)"
      ]
     },
     "execution_count": 4,
     "metadata": {},
     "output_type": "execute_result"
    }
   ],
   "source": [
    "function forwardNN(activationFn::Function, x::Matrix{Float64})\n",
    "    global network;\n",
    "    # collect input for each layer\n",
    "    # the last element will be the output from the neural network\n",
    "    inputs = Matrix{Float64}[];\n",
    "    # initialize input vector with the actual data\n",
    "    push!(inputs, x);\n",
    "    for layer in 1:length(network)-1\n",
    "        push!(inputs, activationFn((inputs[layer]*network[layer][1]) .+ network[layer][2]))\n",
    "    end\n",
    "    # softmax on last layer\n",
    "    score = inputs[length(network)]*network[length(network)][1] .+ network[length(network)][2]\n",
    "    exp_scores = exp(score);\n",
    "    probs = exp_scores ./ sum(exp_scores, 2); \n",
    "\n",
    "    return inputs,probs;\n",
    "end"
   ]
  },
  {
   "cell_type": "markdown",
   "metadata": {},
   "source": [
    "<h4 class=\"section-heading\">Cost Function: $J$</h4>\n",
    "\n",
    "The last time we converted each output to an array of size $10$ with $1$ on the index representing the actual output and $0$ on the rest of the indices. Because of this we used a special case of the cross-entropy cost function where number of classes is equal to 2 assuming all of the output classes are independent of each other:\n",
    "\n",
    "$$J(\\theta) = -\\frac{1}{m}\\sum_{i=1}^{m} \\sum_{i=1}^{k}[ y^{(i)}_k\\log{(h_{\\theta}(x^{(i)})_k)} + (1-y^{(i)}_k)\\log({1-(h_{\\theta}(x^{(i)}))_k)}]$$\n",
    "\n",
    ">If we have multiple independent binary attributes by which to classify the data, we can use a network with multiple logistic outputs and cross-entropy error. For multinomial classification problems (1-of-n, where n > 2) we use a network with n outputs, one corresponding to each class, and target values of 1 for the correct class, and 0 otherwise. Since these targets are not independent of each other, however, it is no longer appropriate to use logistic output units. The corect generalization of the logistic sigmoid to the multinomial case is the softmax activation function.\n",
    "<p>- <a href=\"https://www.willamette.edu/~gorr/classes/cs449/classify.html\">Genevieve (Jenny) B. Orr</a></p>\n",
    "\n",
    "Now since we are using softmax in the output layer, the probability for one class is divided by the sum of probabilities for all the classes. Hence we will used the generalized cross entropy cost function:\n",
    "\n",
    "\\begin{align}\n",
    "J(\\theta) = - \\left[ \\sum_{i=1}^{m} \\sum_{k=1}^{K}  1\\left\\{y^{(i)} = k\\right\\} \\log \\frac{\\exp(\\theta^{(k)\\top} h_{W,b}(x^{(i)}))}{\\sum_{j=1}^K \\exp(\\theta^{(j)\\top} h_{W,b}(x)^{(i)}))}\\right].\n",
    "\\end{align}\n",
    "\n",
    "where $h_{W,b}(x)$ is the input from the last hidden layer. In the code, you'll see that I have also applied $L^2$ regularization."
   ]
  },
  {
   "cell_type": "code",
   "execution_count": 5,
   "metadata": {
    "collapsed": false
   },
   "outputs": [
    {
     "data": {
      "text/plain": [
       "costFunction (generic function with 1 method)"
      ]
     },
     "execution_count": 5,
     "metadata": {},
     "output_type": "execute_result"
    }
   ],
   "source": [
    "function costFunction(truth::Vector{Float64}, probability::Matrix{Float64})\n",
    "    global network;\n",
    "    # compute the loss: average cross-entropy loss and regularization\n",
    "    m = size(truth,1)\n",
    "    \n",
    "    corect_logprobs = [-log(probability[j,convert(Int32, truth[j])]) for j in 1:m];\n",
    "    data_loss = sum(corect_logprobs)/m;\n",
    "    \n",
    "    reg_loss = 0;\n",
    "    for j in 1:length(network)\n",
    "        reg_loss = reg_loss + 0.5*lambda*sum(network[j][1].^2)/m;\n",
    "    end\n",
    "    \n",
    "    loss = data_loss + reg_loss;\n",
    "    return loss;\n",
    "end"
   ]
  },
  {
   "cell_type": "code",
   "execution_count": 6,
   "metadata": {
    "collapsed": false
   },
   "outputs": [
    {
     "data": {
      "text/plain": [
       "sigmoidGradient (generic function with 1 method)"
      ]
     },
     "execution_count": 6,
     "metadata": {},
     "output_type": "execute_result"
    }
   ],
   "source": [
    "# gradient of the sigmoid function evaluated at a\n",
    "function sigmoidGradient(a::Matrix{Float64})\n",
    "  return a.*(1-a);\n",
    "end"
   ]
  },
  {
   "cell_type": "code",
   "execution_count": 7,
   "metadata": {
    "collapsed": false
   },
   "outputs": [
    {
     "data": {
      "text/plain": [
       "reluGradient (generic function with 1 method)"
      ]
     },
     "execution_count": 7,
     "metadata": {},
     "output_type": "execute_result"
    }
   ],
   "source": [
    "# gradient of the ReLU function evaluated at a\n",
    "function reluGradient(a::Matrix{Float64})\n",
    "    grad = ones(a);\n",
    "    grad[a.<=0] = 0;\n",
    "    return grad;\n",
    "end"
   ]
  },
  {
   "cell_type": "markdown",
   "metadata": {},
   "source": [
    "The algorithm to learn the parameters is still the same, backpropagation. The previous post has a detailed explanation of how the backpropagation algorithm works, the use of chain rule to backpropagate the error. The derivation of the cost function hence can be similarly computed. This write-up from Tambet Matiisen's is also a nice reference: [word2vec gradients](https://courses.cs.ut.ee/MTAT.03.277/2015_fall/uploads/Main/word2vec.pdf)\n",
    "\n",
    ">In the probabilistic interpretation, we are therefore minimizing the negative log likelihood of the correct class, which can be interpreted as performing Maximum Likelihood Estimation (MLE). \n",
    "<p>- <a href=\"http://cs231n.github.io/linear-classify/\">Andrej Karpathy</a></p>\n",
    "\n",
    "The last layer, as before, computes the error by taking the difference between the estimated prediction and the actual prediction. The change here is that the actual prediction is always $1$ otherwise $0$ since we are now dealing with the normalized class probabilities.\n",
    "\n",
    "> Note that this loss function can be\n",
    "understood as a special case of the cross-entropy measurement between two probabilistic\n",
    "distributions.\n",
    "Let us now derive the update equation of the weights between hidden and output layers.\n",
    "Take the derivative of $E$ with regard to $j$-th unit’s net input $u_j$ , we obtain\n",
    "\n",
    ">$$\\dfrac{\\partial E}{\\partial u_j} = y_j − t_j := e_j \\tag{8}$$\n",
    "\n",
    ">where $t_j = 1(j = j∗)$, i.e., $t_j$ will only be $1$ when the $j$-th unit is the actual output word,\n",
    "otherwise $t_j$ = 0. Note that this derivative is simply the prediction error $e_j$ of the output\n",
    "layer.\n",
    "><p>- <a href=\"http://arxiv.org/abs/1411.2738\">Xin Rong</a></p>"
   ]
  },
  {
   "cell_type": "code",
   "execution_count": 8,
   "metadata": {
    "collapsed": false
   },
   "outputs": [
    {
     "data": {
      "text/plain": [
       "backwardNN (generic function with 1 method)"
      ]
     },
     "execution_count": 8,
     "metadata": {},
     "output_type": "execute_result"
    }
   ],
   "source": [
    "function backwardNN(activationFnGrad::Function, a::Vector{Matrix{Float64}}, y::Vector{Float64}, dscores::Matrix{Float64})\n",
    "    global network;\n",
    "    m = size(y,1);\n",
    "    delta = Array(Matrix{Float64}, 1,length(network));\n",
    "    # start from the last layer to backpropagate the error\n",
    "    # compute the gradient on scores\n",
    "    for j in 1:size(dscores,1)\n",
    "        dscores[j,convert(Int32, y[j])] -= 1;\n",
    "    end\n",
    "    delta[length(network)] = dscores/m; # normalization factor\n",
    "    # backpropagate\n",
    "    for j in length(network)-1:-1:1\n",
    "        delta[j] = delta[j+1]*network[j+1][1]'.*activationFnGrad(a[j+1]);\n",
    "    end\n",
    "    return delta;\n",
    "end"
   ]
  },
  {
   "cell_type": "code",
   "execution_count": 9,
   "metadata": {
    "collapsed": false
   },
   "outputs": [
    {
     "data": {
      "text/plain": [
       "updateThetas (generic function with 1 method)"
      ]
     },
     "execution_count": 9,
     "metadata": {},
     "output_type": "execute_result"
    }
   ],
   "source": [
    "function updateThetas(a::Vector{Matrix{Float64}}, delta::Matrix{Matrix{Float64}})\n",
    "    global network;\n",
    "    for j in 1:length(network)\n",
    "        # update theta\n",
    "        network[j][1] = network[j][1] - alpha*(a[j]'*delta[j] + lambda*network[j][1])\n",
    "        # update bias\n",
    "        network[j][2] =  network[j][2] - alpha*sum(delta[j],1);\n",
    "    end\n",
    "end"
   ]
  },
  {
   "cell_type": "code",
   "execution_count": 10,
   "metadata": {
    "collapsed": false
   },
   "outputs": [
    {
     "data": {
      "text/plain": [
       "predict (generic function with 1 method)"
      ]
     },
     "execution_count": 10,
     "metadata": {},
     "output_type": "execute_result"
    }
   ],
   "source": [
    "function predict(activationFn, data::Matrix{Float64})\n",
    "    activation, probs = forwardNN(activationFn, data);\n",
    "    predicted_class = [indmax(probs[i,:]) for i in 1:size(probs,1)]\n",
    "    return predicted_class;\n",
    "end"
   ]
  },
  {
   "cell_type": "code",
   "execution_count": 11,
   "metadata": {
    "collapsed": false
   },
   "outputs": [
    {
     "data": {
      "text/plain": [
       "accuracy (generic function with 1 method)"
      ]
     },
     "execution_count": 11,
     "metadata": {},
     "output_type": "execute_result"
    }
   ],
   "source": [
    "function accuracy(truth, prediction)\n",
    "    correct = 0;\n",
    "    for i in 1:length(truth)\n",
    "        if truth[i] == prediction[i]\n",
    "            correct = correct + 1;\n",
    "        end\n",
    "    end\n",
    "    println(\"training accuracy: \", correct/length(truth)*100);\n",
    "end"
   ]
  },
  {
   "cell_type": "markdown",
   "metadata": {},
   "source": [
    "<h2 class=\"section-heading\">Training a model</h2>\n",
    "\n",
    "Based on the new structure of the program, we'll build up our neural network and train our model."
   ]
  },
  {
   "cell_type": "markdown",
   "metadata": {},
   "source": [
    "<h4 class=\"section-heading\">Load Data</h4>"
   ]
  },
  {
   "cell_type": "code",
   "execution_count": 12,
   "metadata": {
    "collapsed": false
   },
   "outputs": [
    {
     "name": "stdout",
     "output_type": "stream",
     "text": [
      "60000\n"
     ]
    }
   ],
   "source": [
    "# ===================\n",
    "# load training data\n",
    "# ===================\n",
    "X,Y = traindata(); #X:(784x60000), y:(60000x1)\n",
    "X /= 255.0; # scale the input between 0 and 1\n",
    "X = X'; #X:(60000X784)\n",
    "Y = Y+1; # adding 1 to handle index, hence value 1 represent digit 0 now\n",
    "# number of instances\n",
    "println(size(Y,1));"
   ]
  },
  {
   "cell_type": "markdown",
   "metadata": {},
   "source": [
    "<h4 class=\"section-heading\">Define Network</h4>"
   ]
  },
  {
   "cell_type": "code",
   "execution_count": 13,
   "metadata": {
    "collapsed": false
   },
   "outputs": [],
   "source": [
    "inputLayerSize = size(X,2);\n",
    "hiddenLayerSize = 100;\n",
    "outputLayerSize = 10;"
   ]
  },
  {
   "cell_type": "code",
   "execution_count": 14,
   "metadata": {
    "collapsed": true
   },
   "outputs": [],
   "source": [
    "# define a network\n",
    "network = [];\n",
    "\n",
    "# add first layer to the network\n",
    "layer1 = Array(Matrix{Float64}, 1,2)\n",
    "#theta1\n",
    "layer1[1] = 0.01*randn(inputLayerSize, hiddenLayerSize); \n",
    "#bias1\n",
    "layer1[2] = zeros(1, hiddenLayerSize); \n",
    "push!(network,layer1);\n",
    "\n",
    "# add second layer to the network\n",
    "layer2 = Array(Matrix{Float64}, 1,2)\n",
    "#theta2\n",
    "layer2[1] = 0.01*randn(hiddenLayerSize, outputLayerSize); \n",
    "#bias2\n",
    "layer2[2] = zeros(1, outputLayerSize); \n",
    "push!(network,layer2);"
   ]
  },
  {
   "cell_type": "markdown",
   "metadata": {},
   "source": [
    "<h4 class=\"section-heading\">Training: Mini-batch gradient descent</h4>"
   ]
  },
  {
   "cell_type": "markdown",
   "metadata": {},
   "source": [
    "\n",
    "The last time we used gradient descent to train our model. In this implementation we'll switch to Mini-Batch gradient descent algorithm which is not much different from regular gradient descent. It's just that instead of working on the whole dataset we'll work on a smaller dataset in each iteration. Because of this change our training algorithm will become computationally faster since large datasets are difficult to handle in memory which makes vectorization much less efficient. \n",
    "\n",
    ">In particular, suppose that our error function is particularly pernicious and has a bunch of little valleys. If we used the entire training set to compute each gradient, our model would get stuck in the first valley it fell into (since it would register a gradient of 0 at this point). If we use smaller mini-batches, on the other hand, we'll get more noise in our estimate of the gradient. This noise might be enough to push us out of some of the shallow valleys in the error function. \n",
    "><p>- <a href=\"https://www.quora.com/Intuitively-how-does-mini-batch-size-affect-the-performance-of-gradient-descent\">Quora</a></p>\n",
    "\n",
    "One thing to take care in the while training is that mini-batches need to be balanced for classes. Otherwise the estimation of the gradient using mini-batch gradient descent would be way off then the gradient calculated using the whole dataset."
   ]
  },
  {
   "cell_type": "code",
   "execution_count": 15,
   "metadata": {
    "collapsed": false
   },
   "outputs": [],
   "source": [
    "alpha = 1e-0; # step size\n",
    "lambda = 1e-3; # regularization factor\n",
    "numItr = 1500;\n",
    "costSamplingItr = 10;\n",
    "batchSize = convert(Int32,floor(size(X,1)/10));\n",
    "J = [];\n",
    "for itr in 1:numItr\n",
    "    # take next batch of random instances \n",
    "    minibatch = collect(rand(1:size(X,1), batchSize));\n",
    "    # feedforward\n",
    "    activations, probs = forwardNN(relu, X[minibatch,:]); \n",
    "    # cost\n",
    "    if itr%costSamplingItr == 0\n",
    "        activationsX, probsX = forwardNN(relu, X); \n",
    "        push!(J, costFunction(Y, probsX));\n",
    "    end\n",
    "    # backpropagation\n",
    "    newThetas = backwardNN(reluGradient, activations, Y[minibatch], probs);\n",
    "    # update parameters\n",
    "    updateThetas(activations, newThetas);\n",
    "end"
   ]
  },
  {
   "cell_type": "markdown",
   "metadata": {},
   "source": [
    "The code above is using ReLU activation function for the hidden layers but the program is modular enough to let us experiment with different activation functions, for example sigmoid. "
   ]
  },
  {
   "cell_type": "markdown",
   "metadata": {},
   "source": [
    "<h2 class=\"section-heading\">Prediction and Accuracy</h2>"
   ]
  },
  {
   "cell_type": "code",
   "execution_count": 16,
   "metadata": {
    "collapsed": false
   },
   "outputs": [
    {
     "name": "stdout",
     "output_type": "stream",
     "text": [
      "training accuracy: 97.81166666666667\n"
     ]
    }
   ],
   "source": [
    "accuracy(Y, predict(relu, X));"
   ]
  },
  {
   "cell_type": "markdown",
   "metadata": {},
   "source": [
    "This is around 10% improvement over our previous implementation."
   ]
  },
  {
   "cell_type": "code",
   "execution_count": 17,
   "metadata": {
    "collapsed": false
   },
   "outputs": [
    {
     "data": {
      "image/png": "[encoded data removed]",
      "text/plain": [
       "PyPlot.Figure(PyObject <matplotlib.figure.Figure object at 0x000000002A099630>)"
      ]
     },
     "metadata": {},
     "output_type": "display_data"
    }
   ],
   "source": [
    "# plot the cost per iteration\n",
    "plot(1:length(J), J)\n",
    "xlabel(\"Sampled Iterations\")\n",
    "ylabel(\"Cost\")\n",
    "grid(\"on\")"
   ]
  },
  {
   "cell_type": "markdown",
   "metadata": {},
   "source": [
    "The spikes in the graph are due to the use of mini-batch gradient descent, which estimates the cost over the whole dataset hence sometimes moves away from the minima but in the end converges satisfactorily."
   ]
  },
  {
   "cell_type": "code",
   "execution_count": 18,
   "metadata": {
    "collapsed": false
   },
   "outputs": [
    {
     "name": "stdout",
     "output_type": "stream",
     "text": [
      "training accuracy: 97.05\n"
     ]
    }
   ],
   "source": [
    "# test data\n",
    "XTest,YTest = testdata();\n",
    "XTest /= 255.0;\n",
    "XTest = XTest';\n",
    "YTest = YTest+1;\n",
    "accuracy(YTest, predict(relu, XTest));"
   ]
  },
  {
   "cell_type": "markdown",
   "metadata": {},
   "source": [
    "<h2 class=\"section-heading\">References:</h2>\n",
    "\n",
    "- [Rectified linear unit (ReLU)](https://en.wikipedia.org/wiki/Rectifier_(neural_networks))\n",
    "- [Learning representations by back-propagating errors](http://www.cs.toronto.edu/~hinton/absps/naturebp.pdf)\n",
    "- [Notes on Backpropagation](http://www.ics.uci.edu/~pjsadows/notes.pdf)\n",
    "- [Practical recommendations for gradient-based training of deep architectures](http://arxiv.org/abs/1206.5533)\n",
    "- [Efficient BackProp](http://yann.lecun.com/exdb/publis/pdf/lecun-98b.pdf)\n",
    "- [Deep Learning](http://www.iro.umontreal.ca/~bengioy/dlbook/mlp.html)\n",
    "- [word2vec Parameter Learning Explained](http://arxiv.org/abs/1411.2738)\n",
    "- [binary cross entropy cost function with softmax?](https://www.reddit.com/r/cs231n/comments/45u13l/binary_cross_entropy_cost_function_with_softmax/)\n",
    "- [Combinatorial Information Theory: I. Philosophical Basis of Cross-Entropy and Entropy](http://arxiv.org/abs/cond-mat/0512017)\n",
    "- [word2vec gradients](https://courses.cs.ut.ee/MTAT.03.277/2015_fall/uploads/Main/word2vec.pdf)\n",
    "- [Softmax Regression](http://ufldl.stanford.edu/tutorial/supervised/SoftmaxRegression/)\n"
   ]
  }
 ],
 "metadata": {
  "kernelspec": {
   "display_name": "Julia 0.4.2",
   "language": "julia",
   "name": "julia-0.4"
  },
  "language_info": {
   "file_extension": ".jl",
   "mimetype": "application/julia",
   "name": "julia",
   "version": "0.4.2"
  }
 },
 "nbformat": 4,
 "nbformat_minor": 0
}
