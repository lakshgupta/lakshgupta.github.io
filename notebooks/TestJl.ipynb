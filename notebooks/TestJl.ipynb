{
 "cells": [
  {
   "cell_type": "code",
   "execution_count": 1,
   "metadata": {
    "collapsed": true
   },
   "outputs": [],
   "source": [
    "# install\n",
    "#Pkg.add(\"MNIST\");\n",
    "using MNIST"
   ]
  },
  {
   "cell_type": "code",
   "execution_count": 2,
   "metadata": {
    "collapsed": true
   },
   "outputs": [],
   "source": [
    "# training data\n",
    "X,y = traindata(); \n",
    "n = size(X, 2);"
   ]
  },
  {
   "cell_type": "code",
   "execution_count": 3,
   "metadata": {
    "collapsed": true
   },
   "outputs": [],
   "source": [
    "inputLayerSize = size(X,1); \n",
    "hiddenLayerSize = 50;\n",
    "outputLayerSize = 10;"
   ]
  },
  {
   "cell_type": "code",
   "execution_count": 5,
   "metadata": {
    "collapsed": false
   },
   "outputs": [],
   "source": [
    "# representing each output as an array of size of the output layer\n",
    "Y = zeros(outputLayerSize, n);\n",
    "for i = 1:n\n",
    "    Y[y[i]+1,i] = 1;\n",
    "end"
   ]
  },
  {
   "cell_type": "code",
   "execution_count": 6,
   "metadata": {
    "collapsed": false
   },
   "outputs": [
    {
     "data": {
      "text/plain": [
       "sigmoid (generic function with 1 method)"
      ]
     },
     "execution_count": 6,
     "metadata": {},
     "output_type": "execute_result"
    }
   ],
   "source": [
    "function sigmoid(z)\n",
    "    g = 1.0 ./ (1.0 + exp(-z));\n",
    "    return g;\n",
    "end"
   ]
  },
  {
   "cell_type": "code",
   "execution_count": 7,
   "metadata": {
    "collapsed": false
   },
   "outputs": [
    {
     "data": {
      "text/plain": [
       "sigmoidGradient (generic function with 1 method)"
      ]
     },
     "execution_count": 7,
     "metadata": {},
     "output_type": "execute_result"
    }
   ],
   "source": [
    "function sigmoidGradient(z)\n",
    "  return sigmoid(z).*(1-sigmoid(z));\n",
    "end"
   ]
  },
  {
   "cell_type": "code",
   "execution_count": 14,
   "metadata": {
    "collapsed": false
   },
   "outputs": [
    {
     "data": {
      "text/plain": [
       "costFunction (generic function with 1 method)"
      ]
     },
     "execution_count": 14,
     "metadata": {},
     "output_type": "execute_result"
    }
   ],
   "source": [
    "# weight regularization parameter\n",
    "lambda = 2; \n",
    "function costFunction(truth, prediction)\n",
    "    #cost = (-truth.*log(prediction)) - ((1-truth).*log(1-prediction));\n",
    "    cost = (prediction - truth).^2\n",
    "    # regularization term\n",
    "    regularization = (lambda/(2*n))*(sum(sum(Theta1[2:end,:].^2)) + sum(sum(Theta2[2:end,:].^2)));\n",
    "\n",
    "    return (1/n)*sum(sum(cost)) + regularization; # regularized cost\n",
    "end"
   ]
  },
  {
   "cell_type": "code",
   "execution_count": 27,
   "metadata": {
    "collapsed": false
   },
   "outputs": [],
   "source": [
    "# weights with bias\n",
    "Theta1 = randn(inputLayerSize+1, hiddenLayerSize); \n",
    "Theta2 = randn(hiddenLayerSize+1, outputLayerSize); \n",
    "# learning rate\n",
    "alpha = 0.01;\n",
    "# number of iterations\n",
    "epoch = 20;\n",
    "# cost per epoch\n",
    "J = zeros(epoch,1);\n",
    "# backpropagation algorithm\n",
    "for i = 1:epoch\n",
    "    prediction = 0;\n",
    "    for j = 1:n # for each input\n",
    "        # Feedforward #\n",
    "        a1 = [1, X[:,j]]; # add one bias element\n",
    "        z2 = Theta1'*a1;\n",
    "        a2 = sigmoid(z2);\n",
    "        a2 = [1, a2]; # add one bias element\n",
    "        z3 = Theta2'*a2;\n",
    "        a3 = sigmoid(z3);\n",
    "\n",
    "        if j==n\n",
    "            prediction = a3;\n",
    "        end\n",
    "        \n",
    "        # Backpropagation process #\n",
    "        delta3 = (a3 - Y[:,j]);\n",
    "        delta2 = (Theta2[2:end,:]*delta3).*sigmoidGradient(z2) ;\n",
    "        \n",
    "        #update weights\n",
    "        Theta2 = Theta2 - alpha* a2*delta3';\n",
    "        Theta1 = Theta1 - alpha* a1*delta2';\n",
    "        \n",
    "    end\n",
    "    J[i,:] = costFunction(Y, prediction);\n",
    "end"
   ]
  },
  {
   "cell_type": "code",
   "execution_count": 28,
   "metadata": {
    "collapsed": false
   },
   "outputs": [
    {
     "data": {
      "text/plain": [
       "20x1 Array{Float64,2}:\n",
       " 4.43235\n",
       " 4.54629\n",
       " 4.50096\n",
       " 5.37763\n",
       " 5.19999\n",
       " 5.27255\n",
       " 4.46339\n",
       " 5.42728\n",
       " 4.84521\n",
       " 4.91514\n",
       " 4.78945\n",
       " 4.54475\n",
       " 5.12584\n",
       " 5.68911\n",
       " 4.77508\n",
       " 5.48915\n",
       " 6.08045\n",
       " 6.32731\n",
       " 5.73911\n",
       " 4.96492"
      ]
     },
     "execution_count": 28,
     "metadata": {},
     "output_type": "execute_result"
    }
   ],
   "source": [
    "J"
   ]
  },
  {
   "cell_type": "code",
   "execution_count": 18,
   "metadata": {
    "collapsed": false
   },
   "outputs": [
    {
     "data": {
      "text/plain": [
       "accuracy (generic function with 1 method)"
      ]
     },
     "execution_count": 18,
     "metadata": {},
     "output_type": "execute_result"
    }
   ],
   "source": [
    "function predict(Theta1Wt, Theta2Wt, data)\n",
    "    dataSize = size(data, 2); \n",
    "    p = zeros(dataSize, 1);\n",
    "    h1 = sigmoid(Theta1Wt'*[ones(1,size(data,2)), data]);\n",
    "    h2 = sigmoid(Theta2Wt'*[ones(1,size(h1,2)), h1]);\n",
    "    # 1 index is for 0, 2 for 1 ...so forth\n",
    "    for i=1:dataSize\n",
    "        p[i,:] = indmax(h2[:,i])-1;\n",
    "    end\n",
    "    return p;\n",
    "end\n",
    "\n",
    "function accuracy(truth, prediction)\n",
    "    dataSize = length(truth);\n",
    "    match =0;\n",
    "    for i=1:dataSize\n",
    "        if truth[i,:] == pred[i,:]\n",
    "            match = match +1;\n",
    "        end\n",
    "    end\n",
    "    return (match/dataSize)*100;\n",
    "end"
   ]
  },
  {
   "cell_type": "code",
   "execution_count": 23,
   "metadata": {
    "collapsed": false
   },
   "outputs": [
    {
     "name": "stdout",
     "output_type": "stream",
     "text": [
      "train accuracy: 59.92666666666666\n"
     ]
    }
   ],
   "source": [
    "pred = predict(Theta1, Theta2, X);\n",
    "println(\"train accuracy: \", accuracy(y, pred));"
   ]
  },
  {
   "cell_type": "code",
   "execution_count": 1,
   "metadata": {
    "collapsed": false
   },
   "outputs": [
    {
     "name": "stderr",
     "output_type": "stream",
     "text": [
      "Qt: Untested Windows version 10.0 detected!\r\n",
      "INFO: Loading help data...\n"
     ]
    }
   ],
   "source": [
    "using PyPlot"
   ]
  },
  {
   "cell_type": "code",
   "execution_count": 10,
   "metadata": {
    "collapsed": false
   },
   "outputs": [
    {
     "data": {
      "text/plain": [
       "Figure(PyObject <matplotlib.figure.Figure object at 0x0000000034853908>)"
      ]
     },
     "metadata": {},
     "output_type": "display_data"
    }
   ],
   "source": []
  },
  {
   "cell_type": "code",
   "execution_count": null,
   "metadata": {
    "collapsed": true
   },
   "outputs": [],
   "source": []
  }
 ],
 "metadata": {
  "kernelspec": {
   "display_name": "Julia 0.3.11",
   "language": "julia",
   "name": "julia-0.3"
  },
  "language_info": {
   "name": "julia",
   "version": "0.3.11"
  }
 },
 "nbformat": 4,
 "nbformat_minor": 0
}
