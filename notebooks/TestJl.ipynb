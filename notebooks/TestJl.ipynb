{
 "cells": [
  {
   "cell_type": "code",
   "execution_count": 1,
   "metadata": {
    "collapsed": true
   },
   "outputs": [],
   "source": [
    "using MNIST"
   ]
  },
  {
   "cell_type": "code",
   "execution_count": 2,
   "metadata": {
    "collapsed": true
   },
   "outputs": [],
   "source": [
    "imageTrain,labelTrain  = traindata();  \n",
    "imageTest, labelTest= testdata();  \n"
   ]
  },
  {
   "cell_type": "code",
   "execution_count": 3,
   "metadata": {
    "collapsed": true
   },
   "outputs": [],
   "source": [
    "trainSize = size(imageTrain); "
   ]
  },
  {
   "cell_type": "code",
   "execution_count": 4,
   "metadata": {
    "collapsed": false
   },
   "outputs": [
    {
     "data": {
      "text/plain": [
       "(784,60000)"
      ]
     },
     "execution_count": 4,
     "metadata": {},
     "output_type": "execute_result"
    }
   ],
   "source": [
    "trainSize"
   ]
  },
  {
   "cell_type": "code",
   "execution_count": 5,
   "metadata": {
    "collapsed": true
   },
   "outputs": [],
   "source": [
    "testSize = size(imageTest);  "
   ]
  },
  {
   "cell_type": "code",
   "execution_count": 6,
   "metadata": {
    "collapsed": false
   },
   "outputs": [
    {
     "data": {
      "text/plain": [
       "(784,10000)"
      ]
     },
     "execution_count": 6,
     "metadata": {},
     "output_type": "execute_result"
    }
   ],
   "source": [
    "testSize"
   ]
  },
  {
   "cell_type": "code",
   "execution_count": 7,
   "metadata": {
    "collapsed": false
   },
   "outputs": [],
   "source": [
    " \n",
    "if trainSize[2] != length(labelTrain)\n",
    "    println(\"Train image and train label size mismatches!\");\n",
    "end\n",
    "if testSize[2] != length(labelTest)\n",
    "    println(\"Test image and Test label size mismatches!\");\n",
    "end\n",
    "if trainSize[1] != testSize[1]\n",
    "    println(\"Train and test image size mismatches!\");\n",
    "end"
   ]
  },
  {
   "cell_type": "code",
   "execution_count": 8,
   "metadata": {
    "collapsed": false
   },
   "outputs": [
    {
     "data": {
      "text/plain": [
       "0.1"
      ]
     },
     "execution_count": 8,
     "metadata": {},
     "output_type": "execute_result"
    }
   ],
   "source": [
    "N = trainSize[2];  \n",
    " TOTAL_HU = 300;  \n",
    "TOTAL_IN = trainSize[1];  \n",
    " TOTAL_OUT = 10;  \n",
    " MAX_ITERATION = 20;  \n",
    " BETA = 0.01; # Scaling factor in sigmoid function  \n",
    " ALPHA = 0.1; # Learning rate  "
   ]
  },
  {
   "cell_type": "code",
   "execution_count": 9,
   "metadata": {
    "collapsed": false
   },
   "outputs": [
    {
     "data": {
      "text/plain": [
       "785x300 Array{Float64,2}:\n",
       " 0.629901   0.22127    0.447816   …  0.0487561  0.321322   0.846342 \n",
       " 0.710614   0.072906   0.591607      0.995368   0.186928   0.161391 \n",
       " 0.49941    0.986222   0.305839      0.224042   0.202784   0.565619 \n",
       " 0.968363   0.510067   0.221911      0.279915   0.0572508  0.864926 \n",
       " 0.364337   0.0738831  0.524555      0.498164   0.514513   0.144201 \n",
       " 0.432102   0.248347   0.0823544  …  0.60979    0.982351   0.529406 \n",
       " 0.370277   0.40129    0.0290316     0.542595   0.655963   0.960837 \n",
       " 0.708008   0.0658885  0.373793      0.0543853  0.983662   0.782972 \n",
       " 0.511369   0.754801   0.660955      0.649942   0.784718   0.661414 \n",
       " 0.863765   0.73841    0.368305      0.259201   0.899278   0.871664 \n",
       " 0.979994   0.293976   0.621154   …  0.500252   0.383564   0.228324 \n",
       " 0.0433023  0.54015    0.395065      0.643655   0.607078   0.321662 \n",
       " 0.259014   0.665909   0.33658       0.96577    0.391626   0.51544  \n",
       " ⋮                                ⋱                                 \n",
       " 0.904911   0.586319   0.712023      0.909093   0.4317     0.366031 \n",
       " 0.216526   0.567137   0.905446      0.568296   0.751571   0.673571 \n",
       " 0.752565   0.45788    0.0124159  …  0.0597251  0.181228   0.112599 \n",
       " 0.36491    0.998559   0.354791      0.646027   0.315926   0.258019 \n",
       " 0.116485   0.242059   0.0440538     0.0922098  0.725229   0.793419 \n",
       " 0.0743617  0.589678   0.933361      0.320769   0.333842   0.773137 \n",
       " 0.0291532  0.884713   0.782196      0.874868   0.929336   0.469219 \n",
       " 0.320333   0.015787   0.685216   …  0.697551   0.501524   0.0929059\n",
       " 0.191968   0.313078   0.0800101     0.906467   0.374136   0.158753 \n",
       " 0.893543   0.0499863  0.011689      0.400077   0.0787318  0.833007 \n",
       " 0.808136   0.603048   0.264197      0.871963   0.804681   0.136657 \n",
       " 0.24837    0.470052   0.151776      0.715614   0.78881    0.215714 "
      ]
     },
     "execution_count": 9,
     "metadata": {},
     "output_type": "execute_result"
    }
   ],
   "source": [
    "# Initialize the weights from Uniform(0, 1)  \n",
    " w1 = rand(TOTAL_IN + 1, TOTAL_HU); # Weight for layer-1, including bias unit  "
   ]
  },
  {
   "cell_type": "code",
   "execution_count": 10,
   "metadata": {
    "collapsed": false
   },
   "outputs": [
    {
     "data": {
      "text/plain": [
       "301x10 Array{Float64,2}:\n",
       " 0.117041    0.934401   0.929163    …  0.66628    0.0104957  0.350227 \n",
       " 0.0587407   0.946799   0.535678       0.286989   0.644778   0.832318 \n",
       " 0.241341    0.83246    0.324461       0.54547    0.604117   0.979045 \n",
       " 0.688548    0.405992   0.0926827      0.977081   0.669024   0.999684 \n",
       " 0.730682    0.0791037  0.022243       0.642939   0.0943873  0.710063 \n",
       " 0.853885    0.0622337  0.254502    …  0.834986   0.759008   0.456849 \n",
       " 0.905157    0.640423   0.259547       0.954051   0.0896665  0.656295 \n",
       " 0.744066    0.701024   0.863848       0.108702   0.633445   0.922629 \n",
       " 0.167682    0.342231   0.289882       0.337194   0.605648   0.814326 \n",
       " 0.869086    0.58785    0.896883       0.587486   0.473591   0.122626 \n",
       " 0.827224    0.0494885  0.500679    …  0.509234   0.570346   0.199959 \n",
       " 0.393255    0.307885   0.186024       0.455651   0.244308   0.336979 \n",
       " 0.0578274   0.753335   0.183693       0.589652   0.638697   0.916624 \n",
       " ⋮                                  ⋱                                 \n",
       " 0.0576318   0.759437   0.208262       0.455299   0.947381   0.0716768\n",
       " 0.627189    0.880497   0.17312     …  0.870255   0.345654   0.698756 \n",
       " 0.382703    0.410901   0.52937        0.816381   0.144989   0.936994 \n",
       " 0.389229    0.678273   0.0482499      0.656903   0.665891   0.626128 \n",
       " 0.904385    0.828347   0.858158       0.54818    0.251268   0.153355 \n",
       " 0.112516    0.717791   0.624054       0.841664   0.0566869  0.0420549\n",
       " 0.0883923   0.334255   0.799108    …  0.309814   0.0889911  0.0242209\n",
       " 0.166634    0.183811   0.00206383     0.418142   0.596379   0.602193 \n",
       " 0.00829607  0.425735   0.160071       0.978576   0.471122   0.605286 \n",
       " 0.447795    0.210991   0.238557       0.154121   0.56162    0.987356 \n",
       " 0.545783    0.61207    0.521343       0.0470702  0.073222   0.122661 \n",
       " 0.831395    0.189002   0.62686     …  0.148535   0.683951   0.674469 "
      ]
     },
     "execution_count": 10,
     "metadata": {},
     "output_type": "execute_result"
    }
   ],
   "source": [
    "w2 = rand(TOTAL_HU + 1, TOTAL_OUT); # Weight for layer-2. including bias unit"
   ]
  },
  {
   "cell_type": "code",
   "execution_count": 11,
   "metadata": {
    "collapsed": true
   },
   "outputs": [],
   "source": [
    "# Temporary matrix to store weight updates and activations  \n",
    " x1 = zeros(TOTAL_IN + 1, 1); "
   ]
  },
  {
   "cell_type": "code",
   "execution_count": 12,
   "metadata": {
    "collapsed": true
   },
   "outputs": [],
   "source": [
    " x2 = zeros(TOTAL_HU + 1, 1); "
   ]
  },
  {
   "cell_type": "code",
   "execution_count": 13,
   "metadata": {
    "collapsed": true
   },
   "outputs": [],
   "source": [
    "x22 = zeros(TOTAL_HU, 1);"
   ]
  },
  {
   "cell_type": "code",
   "execution_count": 14,
   "metadata": {
    "collapsed": false
   },
   "outputs": [],
   "source": [
    " x3 = zeros(TOTAL_OUT, 1); "
   ]
  },
  {
   "cell_type": "code",
   "execution_count": 15,
   "metadata": {
    "collapsed": false
   },
   "outputs": [],
   "source": [
    "e1 = zeros(TOTAL_IN + 1, 1);"
   ]
  },
  {
   "cell_type": "code",
   "execution_count": 16,
   "metadata": {
    "collapsed": false
   },
   "outputs": [],
   "source": [
    "e2 = zeros(TOTAL_HU + 1, 1); "
   ]
  },
  {
   "cell_type": "code",
   "execution_count": 17,
   "metadata": {
    "collapsed": false
   },
   "outputs": [],
   "source": [
    "e3 = zeros(TOTAL_OUT, 1);"
   ]
  },
  {
   "cell_type": "code",
   "execution_count": 18,
   "metadata": {
    "collapsed": false
   },
   "outputs": [],
   "source": [
    "dw1 = zeros(TOTAL_IN + 1, TOTAL_HU);"
   ]
  },
  {
   "cell_type": "code",
   "execution_count": 21,
   "metadata": {
    "collapsed": false
   },
   "outputs": [],
   "source": [
    "dw2 = zeros(TOTAL_HU + 1, TOTAL_OUT);"
   ]
  },
  {
   "cell_type": "code",
   "execution_count": 20,
   "metadata": {
    "collapsed": false
   },
   "outputs": [
    {
     "data": {
      "text/plain": [
       "sigmoidGradient (generic function with 1 method)"
      ]
     },
     "execution_count": 20,
     "metadata": {},
     "output_type": "execute_result"
    }
   ],
   "source": [
    "function sigmoidGradient(z)\n",
    "  return sigmoid(z).*(1-sigmoid(z));\n",
    "end"
   ]
  },
  {
   "cell_type": "code",
   "execution_count": 22,
   "metadata": {
    "collapsed": false
   },
   "outputs": [
    {
     "data": {
      "text/plain": [
       "sigmoid (generic function with 1 method)"
      ]
     },
     "execution_count": 22,
     "metadata": {},
     "output_type": "execute_result"
    }
   ],
   "source": [
    "function sigmoid(z)\n",
    "    g = 1.0 ./ (1.0 + exp(-z));\n",
    "    return g;\n",
    "end"
   ]
  },
  {
   "cell_type": "code",
   "execution_count": 23,
   "metadata": {
    "collapsed": false
   },
   "outputs": [
    {
     "ename": "LoadError",
     "evalue": "syntax: use \"(a, b) = ...\" to assign multiple values\nwhile loading In[23], in expression starting on line 38",
     "output_type": "error",
     "traceback": [
      "syntax: use \"(a, b) = ...\" to assign multiple values\nwhile loading In[23], in expression starting on line 38",
      ""
     ]
    }
   ],
   "source": [
    " A = eye(TOTAL_OUT);  \n",
    " success = zeros(MAX_ITERATION, 1);  \n",
    " # Training  \n",
    " for t = 1:MAX_ITERATION  \n",
    "    println(\"Iteration: \", t);  \n",
    "   perm = randperm(N);  \n",
    "   for p = 1:N  \n",
    "     if (mod(p, 1000) == 0)  \n",
    "            println(p);  \n",
    "     end  \n",
    "     # Propogate forward  \n",
    "     index = perm(p);  \n",
    "     x1 = [imageTrain(:, index); 1];  \n",
    "     x22 = sigmoid(w1' * x1);  \n",
    "     x2 = [x22; 1];  \n",
    "     x3 = sigmoid(w2' * x2);  \n",
    "     # Propogate backward  \n",
    "     e3 = x3 - A(:, labelTrain(index) + 1);  \n",
    "     e2 = w2 * (e3 .* x3 .* (1 - x3));  \n",
    "     e2 = e2(1:TOTAL_HU);  \n",
    "     e1 = w1 * e2;  \n",
    "     # Update weight  \n",
    "     w2 = w2 - ALPHA * x2 * (e3 .* x3 .* (1 - x3))';  \n",
    "     w1 = w1 - ALPHA * x1 * (e2 .* x22 .* (1 - x22))';  \n",
    "   end  \n",
    "   # Check training error  \n",
    "   success(t) = 0;  \n",
    "   for i = 1:N  \n",
    "     x1 = [imageTrain(:, i); 1];  \n",
    "     x2 = [sigmoid(w1' * x1); 1];  \n",
    "     x3 = sigmoid(w2' * x2);  \n",
    "     [dummy, m] = max(x3);  \n",
    "     if (m == labelTrain(i) + 1)  \n",
    "       success(t) = success(t) + 1;  \n",
    "     end  \n",
    "   end  \n",
    " end  \n",
    " testSuccess = 0;  \n",
    " for i = 1:testSize(2)  \n",
    "   x1 = [imageTest(:, i); 1];  \n",
    "   x2 = [sigmoid(w1' * x1); 1];  \n",
    "   x3 = sigmoid(w2' * x2);  \n",
    "   [dummy, m] = max(x3);  \n",
    "   if (m == labelTest(i) + 1)  \n",
    "     testSuccess = testSuccess + 1;  \n",
    "   end  \n",
    " end  "
   ]
  },
  {
   "cell_type": "code",
   "execution_count": 2,
   "metadata": {
    "collapsed": false
   },
   "outputs": [
    {
     "data": {
      "text/plain": [
       "2x2 Array{Int64,2}:\n",
       " 1  3\n",
       " 2  4"
      ]
     },
     "execution_count": 2,
     "metadata": {},
     "output_type": "execute_result"
    }
   ],
   "source": [
    "AA = [[1,2] [3,4]]"
   ]
  },
  {
   "cell_type": "code",
   "execution_count": 5,
   "metadata": {
    "collapsed": false
   },
   "outputs": [
    {
     "data": {
      "text/plain": [
       "0"
      ]
     },
     "execution_count": 5,
     "metadata": {},
     "output_type": "execute_result"
    }
   ],
   "source": [
    "BB = 0"
   ]
  },
  {
   "cell_type": "code",
   "execution_count": 6,
   "metadata": {
    "collapsed": false
   },
   "outputs": [
    {
     "data": {
      "text/plain": [
       "2x2 Array{Int64,2}:\n",
       " 1  3\n",
       " 2  4"
      ]
     },
     "execution_count": 6,
     "metadata": {},
     "output_type": "execute_result"
    }
   ],
   "source": [
    "BB = AA"
   ]
  },
  {
   "cell_type": "code",
   "execution_count": 8,
   "metadata": {
    "collapsed": false
   },
   "outputs": [
    {
     "data": {
      "text/plain": [
       "2x2 Array{Int64,2}:\n",
       "  8  12\n",
       " 12  18"
      ]
     },
     "execution_count": 8,
     "metadata": {},
     "output_type": "execute_result"
    }
   ],
   "source": [
    "AA*BB"
   ]
  },
  {
   "cell_type": "code",
   "execution_count": 13,
   "metadata": {
    "collapsed": false
   },
   "outputs": [
    {
     "data": {
      "text/plain": [
       "2x2 Array{Int64,2}:\n",
       " 2  6\n",
       " 4  8"
      ]
     },
     "execution_count": 13,
     "metadata": {},
     "output_type": "execute_result"
    }
   ],
   "source": [
    "AA.*2"
   ]
  },
  {
   "cell_type": "code",
   "execution_count": 15,
   "metadata": {
    "collapsed": false
   },
   "outputs": [
    {
     "data": {
      "text/plain": [
       "10"
      ]
     },
     "execution_count": 15,
     "metadata": {},
     "output_type": "execute_result"
    }
   ],
   "source": [
    "sum(sum(AA))"
   ]
  },
  {
   "cell_type": "code",
   "execution_count": 16,
   "metadata": {
    "collapsed": false
   },
   "outputs": [
    {
     "data": {
      "text/plain": [
       "4"
      ]
     },
     "execution_count": 16,
     "metadata": {},
     "output_type": "execute_result"
    }
   ],
   "source": [
    "maximum(AA)"
   ]
  },
  {
   "cell_type": "code",
   "execution_count": null,
   "metadata": {
    "collapsed": true
   },
   "outputs": [],
   "source": [
    "# learning rate\n",
    "alpha = 0.1;\n",
    "# number of iterations\n",
    "epoch = 10;\n",
    "# cost per epoch\n",
    "J = zeros(epoch,1);\n",
    "# ====================================================================\n",
    "# Train the neural network using feedforward-backpropagation algorithm\n",
    "# ====================================================================\n",
    "for i = 1:epoch\n",
    "    # ===================\n",
    "    # Feedforward process\n",
    "    # ===================\n",
    "    # input layer\n",
    "    # add one bias element\n",
    "    x1 = [ones(1,size(X,2)), X]; #(785x60000)\n",
    "\n",
    "    # hidden layer\n",
    "    s2 = Theta1'*x1; #(300x60000)\n",
    "    x2 = sigmoid(s2); \n",
    "    # add one bias element\n",
    "    x2 = [ones(1,size(x2,2)), x2]; #(26x60000)\n",
    "\n",
    "    # output layer\n",
    "    s3 = Theta2'*x2; #(10x60000)\n",
    "    x3 = sigmoid(s3);\n",
    "    \n",
    "    # ===========================\n",
    "    # find cost of the new output\n",
    "    # ===========================\n",
    "    J[i,:] = costFunction(Y, x3);\n",
    "    \n",
    "    # =======================\n",
    "    # Backpropagation process\n",
    "    # =======================\n",
    "    inputLayerRegularizedGradient = zeros(size(Theta1));\n",
    "    hiddenLayerRegularizedGradient = zeros(size(Theta2));\n",
    "        \n",
    "    # delta for output layer\n",
    "    delta3 = x3 - Y; #(10x60000)\n",
    "    # gradient for hidden layer\n",
    "    reg_theta2 = ((lambda/m)*Theta2);\n",
    "    reg_theta2[:,1] = 0;\n",
    "    hiddenLayerRegularizedGradient = x2*delta3'; #(26x10)\n",
    "    # delta for hidden layer\n",
    "    delta2 = (Theta2[2:end,:]*delta3).*sigmoidGradient(s2) ; #(25x60000)\n",
    "    # gradient for input layer\n",
    "    reg_theta1 = ((lambda/m)*Theta1);\n",
    "    reg_theta1[1,:] = 0;\n",
    "    inputLayerRegularizedGradient = x1*delta2'; #(785x25)\n",
    "    # there is no delta term for the input layer\n",
    "        \n",
    "    # adjust the weights (thetas)\n",
    "    Theta1 = Theta1 - alpha* inputLayerRegularizedGradient*(1/m);\n",
    "    Theta2 = Theta2 - alpha* hiddenLayerRegularizedGradient*(1/m);  \n",
    "end"
   ]
  },
  {
   "cell_type": "code",
   "execution_count": 1,
   "metadata": {
    "collapsed": false
   },
   "outputs": [
    {
     "ename": "LoadError",
     "evalue": "AA not defined\nwhile loading In[1], in expression starting on line 1",
     "output_type": "error",
     "traceback": [
      "AA not defined\nwhile loading In[1], in expression starting on line 1",
      ""
     ]
    }
   ],
   "source": [
    "AA"
   ]
  },
  {
   "cell_type": "code",
   "execution_count": null,
   "metadata": {
    "collapsed": true
   },
   "outputs": [],
   "source": []
  }
 ],
 "metadata": {
  "kernelspec": {
   "display_name": "Julia 0.3.11",
   "language": "julia",
   "name": "julia-0.3"
  },
  "language_info": {
   "name": "julia",
   "version": "0.3.11"
  }
 },
 "nbformat": 4,
 "nbformat_minor": 0
}
