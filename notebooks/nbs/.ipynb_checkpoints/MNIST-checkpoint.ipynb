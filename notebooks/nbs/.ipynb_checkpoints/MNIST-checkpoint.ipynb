{
 "cells": [
  {
   "cell_type": "code",
   "execution_count": 1,
   "metadata": {
    "collapsed": false
   },
   "outputs": [],
   "source": [
    "#Pkg.update();\n",
    "#Pkg.clone(\"https://github.com/johnmyleswhite/MNIST.jl.git\");\n",
    "#Pkg.add(\"PyPlot\")\n",
    "#Pkg.installed();"
   ]
  },
  {
   "cell_type": "code",
   "execution_count": 2,
   "metadata": {
    "collapsed": false
   },
   "outputs": [
    {
     "name": "stderr",
     "output_type": "stream",
     "text": [
      "INFO: Loading help data...\n"
     ]
    }
   ],
   "source": [
    "using MNIST\n",
    "using PyPlot"
   ]
  },
  {
   "cell_type": "code",
   "execution_count": 3,
   "metadata": {
    "collapsed": false
   },
   "outputs": [
    {
     "data": {
      "text/plain": [
       "sigmoid (generic function with 1 method)"
      ]
     },
     "execution_count": 3,
     "metadata": {},
     "output_type": "execute_result"
    }
   ],
   "source": [
    "###########################################\n",
    "# computes the sigmoid of z.\n",
    "###########################################\n",
    "function sigmoid(z)\n",
    "  g = 1.0 ./ (1.0 + exp(-z));\n",
    "  return g;\n",
    "end"
   ]
  },
  {
   "cell_type": "code",
   "execution_count": 4,
   "metadata": {
    "collapsed": false
   },
   "outputs": [
    {
     "data": {
      "text/plain": [
       "sigmoidGradient (generic function with 1 method)"
      ]
     },
     "execution_count": 4,
     "metadata": {},
     "output_type": "execute_result"
    }
   ],
   "source": [
    "########################################################################\n",
    "# computes the gradient of the sigmoid function\n",
    "# evaluated at z.\n",
    "########################################################################\n",
    "function sigmoidGradient(z)\n",
    "  g = zeros(size(z));\n",
    "  return sigmoid(z).*(1-sigmoid(z));\n",
    "end"
   ]
  },
  {
   "cell_type": "code",
   "execution_count": 5,
   "metadata": {
    "collapsed": false
   },
   "outputs": [
    {
     "data": {
      "text/plain": [
       "costFunction (generic function with 1 method)"
      ]
     },
     "execution_count": 5,
     "metadata": {},
     "output_type": "execute_result"
    }
   ],
   "source": [
    "#############################################################\n",
    "# computes the cost and gradient of the neural network. The\n",
    "# parameters for the neural network are \"unrolled\" into the vector\n",
    "# nn_params and need to be converted back into the weight matrices.\n",
    "#\n",
    "# The returned parameter grad should be a \"unrolled\" vector of the\n",
    "# partial derivatives of the neural network.\n",
    "#############################################################\n",
    "function costFunction(input_layer_size, hidden_layer_size, output_layer_size, X, y, Theta1, Theta2, lambda)\n",
    "  # ===================\n",
    "  # Feedforward process\n",
    "  # ===================\n",
    "  # input layer\n",
    "  # add one bias element\n",
    "  activation1 = [ones(size(X,1),1) X];\n",
    "\n",
    "  # hidden layer\n",
    "  z2 = activation1*Theta1';\n",
    "  activation2 = sigmoid(z2);\n",
    "  # add one bias element\n",
    "  activation2 = [ones(size(activation2,1),1) activation2];\n",
    "\n",
    "  # output layer\n",
    "  z3 = activation2*Theta2';\n",
    "  activation3 = sigmoid(z3);\n",
    "  h=activation3;\n",
    "\n",
    "  # ==========\n",
    "  # find cost\n",
    "  # ==========\n",
    "  J=0;\n",
    "  JInter = zeros(m,1);\n",
    "  for i=1:m\n",
    "    JInter[i,:] = (-yInter[i,:]*log(h[i,:]')) - ((1-yInter[i,:])*log(1-h[i,:]'));\n",
    "  end\n",
    "\n",
    "  # regularization term\n",
    "  reg = (lambda/(2*m))*(sum(sum(Theta1[:,2:end].^2)) + sum(sum(Theta2[:,2:end].^2)));\n",
    "\n",
    "  J = (1/m)*sum(JInter) + reg;\n",
    "\n",
    "  # ========================\n",
    "  # Backpropagation process\n",
    "  # ========================\n",
    "  Theta1_grad = zeros(size(Theta1));\n",
    "  Theta2_grad = zeros(size(Theta2));\n",
    "\n",
    "  delta3 = activation3 - yInter;\n",
    "  delta2 = (delta3*Theta2[:, 2:end]).*sigmoidGradient(z2) ;\n",
    "\n",
    "  grad2 = delta3'*activation2;\n",
    "  grad1 = delta2'*activation1;\n",
    "\n",
    "  reg_theta1 = ((lambda/m)*Theta1);\n",
    "  reg_theta1[:,1] = 0;\n",
    "  Theta1_grad = grad1/m + reg_theta1;\n",
    "\n",
    "  reg_theta2 = ((lambda/m)*Theta2);\n",
    "  reg_theta2[:,1] = 0;\n",
    "  Theta2_grad = grad2/m + reg_theta2;\n",
    "\n",
    "  # return\n",
    "  return J, Theta1_grad, Theta2_grad;\n",
    "end"
   ]
  },
  {
   "cell_type": "code",
   "execution_count": 6,
   "metadata": {
    "collapsed": false
   },
   "outputs": [
    {
     "data": {
      "text/plain": [
       "predict (generic function with 1 method)"
      ]
     },
     "execution_count": 6,
     "metadata": {},
     "output_type": "execute_result"
    }
   ],
   "source": [
    "##########################################################################\n",
    "# outputs the predicted label of X given the\n",
    "# trained weights of a neural network (Theta1, Theta2)\n",
    "# Similar to feedforward process.\n",
    "##########################################################################\n",
    "function predict(Theta1, Theta2, X)\n",
    "  m = size(X, 1);\n",
    "  num_labels = size(Theta2, 1);\n",
    "  p = zeros(size(X, 1), 1);\n",
    "  h1 = sigmoid([ones(m, 1) X] * Theta1');\n",
    "  h2 = sigmoid([ones(m, 1) h1] * Theta2');\n",
    "  for i=1:m\n",
    "    # sub 1 from the index since we are using 1 to represent 0, 2 for 3 and so on (while calculating yInter)\n",
    "    p[i,:] = indmax(h2[i,:])-1;\n",
    "  end\n",
    " return p;\n",
    "end"
   ]
  },
  {
   "cell_type": "code",
   "execution_count": 7,
   "metadata": {
    "collapsed": false
   },
   "outputs": [
    {
     "data": {
      "text/plain": [
       "accuracy (generic function with 1 method)"
      ]
     },
     "execution_count": 7,
     "metadata": {},
     "output_type": "execute_result"
    }
   ],
   "source": [
    "###############################################\n",
    "# calculate the accuracy of the prediction\n",
    "###############################################\n",
    "function accuracy(truth, prediction)\n",
    "  m = length(truth);\n",
    "  if m!=length(prediction)\n",
    "    error(\"truth and prediction length mismatch\");\n",
    "  end\n",
    "\n",
    "  sum =0;\n",
    "  for i=1:m\n",
    "    if y[i,:] == pred[i,:]\n",
    "      sum = sum +1;\n",
    "    end\n",
    "  end\n",
    "  return (sum/m)*100;\n",
    "end"
   ]
  },
  {
   "cell_type": "code",
   "execution_count": 8,
   "metadata": {
    "collapsed": true
   },
   "outputs": [],
   "source": [
    "# ===================\n",
    "# Load training data\n",
    "# ===================\n",
    "X,y = traindata();\n",
    "X=X';\n",
    "m = size(X, 1);"
   ]
  },
  {
   "cell_type": "code",
   "execution_count": 9,
   "metadata": {
    "collapsed": true
   },
   "outputs": [],
   "source": [
    "# ======================\n",
    "# Initialize parameters\n",
    "# ======================\n",
    "inputLayerSize = size(X,2);\n",
    "hiddenLayerSize = 25;\n",
    "outputLayerSize = 10;\n",
    "\n",
    "# since we are doing multiclass classification\n",
    "eyeY = eye(outputLayerSize);\n",
    "intY = [convert(Int64,i)+1 for i in y];\n",
    "yInter = Array(Int64,length(y),outputLayerSize);\n",
    "for i = 1:m\n",
    "  yInter[i,:] = eyeY[intY[i],:];\n",
    "end\n",
    "\n",
    "epsilon_init = 0.12;\n",
    "# including one bias neuron in input layer\n",
    "# weights for the links connecting input layer to the hidden layer\n",
    "Theta1 = rand(hiddenLayerSize, inputLayerSize+1)* 2 * epsilon_init - epsilon_init;\n",
    "# including one bias neuron in hidden layer\n",
    "# weights for the links connecting hidden layer to the output layer\n",
    "Theta2 = rand(outputLayerSize, hiddenLayerSize+1)* 2 * epsilon_init - epsilon_init;\n",
    "\n",
    "# Weight regularization parameter\n",
    "lambda = 3;\n",
    "# learning rate\n",
    "alpha = 0.1;\n",
    "# number of iterations\n",
    "epoch = 1000;\n",
    "# cost per epoch\n",
    "J = zeros(epoch,1);"
   ]
  },
  {
   "cell_type": "code",
   "execution_count": 10,
   "metadata": {
    "collapsed": true
   },
   "outputs": [],
   "source": [
    "for i = 1:epoch\n",
    "  J[i,:], Theta_grad1, Theta_grad2 = costFunction(inputLayerSize, hiddenLayerSize, outputLayerSize, X, yInter, Theta1, Theta2, lambda);\n",
    "  Theta1 = Theta1 - alpha* Theta_grad1;\n",
    "  Theta2 = Theta2 - alpha* Theta_grad2;\n",
    "end"
   ]
  },
  {
   "cell_type": "code",
   "execution_count": 13,
   "metadata": {
    "collapsed": false
   },
   "outputs": [
    {
     "data": {
      "image/png": "[encoded data removed]",
      "text/plain": [
       "Figure(PyObject <matplotlib.figure.Figure object at 0x7f7787b70890>)"
      ]
     },
     "metadata": {},
     "output_type": "display_data"
    }
   ],
   "source": [
    "# plot the cost per iteration\n",
    "plot(1:length(J), J)\n",
    "xlabel(\"Iterations\")\n",
    "ylabel(\"Cost\")\n",
    "grid(\"on\")"
   ]
  },
  {
   "cell_type": "code",
   "execution_count": 24,
   "metadata": {
    "collapsed": true
   },
   "outputs": [],
   "source": [
    "# make prediction\n",
    "pred = predict(Theta1, Theta2, X);"
   ]
  },
  {
   "cell_type": "code",
   "execution_count": 18,
   "metadata": {
    "collapsed": false
   },
   "outputs": [
    {
     "name": "stdout",
     "output_type": "stream",
     "text": [
      "train accuracy: 90.86999999999999\n"
     ]
    },
    {
     "data": {
      "text/plain": [
       "90.86999999999999"
      ]
     },
     "execution_count": 18,
     "metadata": {},
     "output_type": "execute_result"
    }
   ],
   "source": [
    "# calculate accuracy\n",
    "println(\"train accuracy: \", accuracy(y, pred));"
   ]
  },
  {
   "cell_type": "code",
   "execution_count": 14,
   "metadata": {
    "collapsed": true
   },
   "outputs": [],
   "source": [
    "# ===============\n",
    "# load test data\n",
    "# ===============\n",
    "XTest,yTest = testdata();\n",
    "XTest=XTest';"
   ]
  },
  {
   "cell_type": "code",
   "execution_count": 15,
   "metadata": {
    "collapsed": true
   },
   "outputs": [],
   "source": [
    "# make prediction\n",
    "predTest = predict(Theta1, Theta2, XTest);"
   ]
  },
  {
   "cell_type": "code",
   "execution_count": 16,
   "metadata": {
    "collapsed": false
   },
   "outputs": [
    {
     "name": "stdout",
     "output_type": "stream",
     "text": [
      "test accuracy: 91.75\n"
     ]
    }
   ],
   "source": [
    "# calculate accuracy\n",
    "println(\"test accuracy: \", accuracy(yTest, predTest));"
   ]
  }
 ],
 "metadata": {
  "kernelspec": {
   "display_name": "Julia 0.3.10",
   "language": "julia",
   "name": "julia-0.3"
  },
  "language_info": {
   "name": "julia",
   "version": "0.4.0"
  }
 },
 "nbformat": 4,
 "nbformat_minor": 0
}
