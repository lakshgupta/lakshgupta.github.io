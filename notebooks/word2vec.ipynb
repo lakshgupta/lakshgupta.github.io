{
 "cells": [
  {
   "cell_type": "markdown",
   "metadata": {},
   "source": [
    "In the last post we saw a very simple approach to represent words in the vector form. Now we'll take a look at how we can generate word vectors using a neural network in an unsupervised manner. We are hoping that we'll learn the vector representation similar to as we learned the weight parameters for the [neural network](http://lakshgupta.github.io/2015/06/12/NeuralNetwork/), and at end of the process we'll have something which will capture the syntactic or semantic relationship between the words better than what we got by creating the co-occurance matrix."
   ]
  },
  {
   "cell_type": "code",
   "execution_count": null,
   "metadata": {
    "collapsed": true
   },
   "outputs": [],
   "source": []
  },
  {
   "cell_type": "markdown",
   "metadata": {
    "collapsed": true
   },
   "source": [
    "<h2 class=\"section-heading\"> References: </h2>\n",
    "\n",
    "- [Hierarchical distributed representations for statistical language modeling](http://repository.upenn.edu/cgi/viewcontent.cgi?article=1194&context=cis_papers)\n",
    "- [word2vec](https://code.google.com/p/word2vec/)\n",
    "- [Efficient Estimation of Word Representations in Vector Space](http://arxiv.org/abs/1301.3781)\n",
    "- [word2vec Parameter Learning Explained](http://arxiv.org/abs/1411.2738)\n",
    "- [Word2Vec: an introduction](http://www.folgertkarsdorp.nl/word2vec-an-introduction/)\n",
    "- [Deep Learning, NLP, and Representations](http://colah.github.io/posts/2014-07-NLP-RNNs-Representations/)\n",
    "- [Distributed Representations of Words and Phrases and their Compositionality](http://arxiv.org/abs/1310.4546)"
   ]
  },
  {
   "cell_type": "code",
   "execution_count": null,
   "metadata": {
    "collapsed": true
   },
   "outputs": [],
   "source": []
  }
 ],
 "metadata": {
  "kernelspec": {
   "display_name": "Julia 0.3.11",
   "language": "julia",
   "name": "julia-0.3"
  },
  "language_info": {
   "name": "julia",
   "version": "0.3.11"
  }
 },
 "nbformat": 4,
 "nbformat_minor": 0
}
