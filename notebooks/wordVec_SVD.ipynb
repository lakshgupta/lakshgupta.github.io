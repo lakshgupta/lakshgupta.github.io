{
 "cells": [
  {
   "cell_type": "markdown",
   "metadata": {},
   "source": [
    "Consider our data to have the following 3 sentence:\n",
    "\n",
    "- I enjoy driving.\n",
    "- I like banana.\n",
    "- I like reading.\n",
    "\n",
    "The co-occurence matrix will look like:\n",
    "\n",
    "$$X = \n",
    "\\begin{array}{c|lcr}\n",
    "words & \\text{I} & \\text{enjoy} & \\text{driving} & \\text{like} & \\text{banana} & \\text{reading} &\\text{.}\\\\\n",
    "\\hline\n",
    "\\text{I} & 0 & 1 & 0 & 2 & 0 & 0 & 0 \\\\\n",
    "\\text{enjoy} & 1 & 0 & 1 & 0 & 0 & 0 & 0 \\\\\n",
    "\\text{driving} & 0 & 1 & 0 & 0 & 0 & 0 & 1 \\\\\n",
    "\\text{like} & 2 & 0 & 0 & 0 & 1 & 1 & 0 \\\\\n",
    "\\text{banana} & 0 & 0 & 0 & 1 & 0 & 0 & 1 \\\\\n",
    "\\text{reading} & 0 & 0 & 0 & 1 & 0 & 0 & 1 \\\\\n",
    "\\text{.} & 0 & 0 & 1 & 0 & 1 & 1 & 0 \\\\\n",
    "\\end{array}\n",
    "$$"
   ]
  },
  {
   "cell_type": "code",
   "execution_count": 1,
   "metadata": {
    "collapsed": false
   },
   "outputs": [],
   "source": [
    "words = [\"I\" \"enjoy\" \"driving\" \"like\" \"banana\" \"reading\" \".\"];\n",
    "X =   [0 1 0 2 0 0 0;\n",
    "       1 0 1 0 0 0 0;\n",
    "       0 1 0 0 0 0 1;\n",
    "       2 0 0 0 1 1 0;\n",
    "       0 0 0 1 0 0 1;\n",
    "       0 0 0 1 0 0 1\n",
    "       0 0 1 0 1 1 0];"
   ]
  },
  {
   "cell_type": "markdown",
   "metadata": {},
   "source": [
    "In [Julia](http://julia.readthedocs.org/en/latest/stdlib/linalg/), applying SVD on our matrix $X$ will give us $U$, $S$ and $V$ where: \n",
    "\n",
    "<center>$$A == U*diagm(S)*V^T$$</center>"
   ]
  },
  {
   "cell_type": "code",
   "execution_count": 2,
   "metadata": {
    "collapsed": true
   },
   "outputs": [],
   "source": [
    "U,S,V = svd(X);"
   ]
  },
  {
   "cell_type": "code",
   "execution_count": 3,
   "metadata": {
    "collapsed": false
   },
   "outputs": [
    {
     "data": {
      "text/plain": [
       "7x7 Array{Float64,2}:\n",
       "  0.723607      0.0          -5.55112e-17  …   0.276393      4.24034e-17\n",
       "  2.77556e-16  -0.356822     -1.38778e-16     -3.747e-16    -5.54668e-32\n",
       "  0.276393     -1.04083e-17   1.66533e-16      0.723607      1.73914e-18\n",
       " -2.22045e-16  -0.835549     -0.447214         1.94289e-16   2.46519e-32\n",
       "  0.447214      7.08113e-18  -1.26097e-16     -0.447214      0.707107   \n",
       "  0.447214      7.08113e-18  -1.26097e-16  …  -0.447214     -0.707107   \n",
       "  0.0          -0.417775      0.894427        -8.32667e-17  -1.2326e-32 "
      ]
     },
     "execution_count": 3,
     "metadata": {},
     "output_type": "execute_result"
    }
   ],
   "source": [
    "U"
   ]
  },
  {
   "cell_type": "code",
   "execution_count": 4,
   "metadata": {
    "collapsed": false
   },
   "outputs": [
    {
     "data": {
      "text/plain": [
       "7-element Array{Float64,1}:\n",
       " 2.80252    \n",
       " 2.80252    \n",
       " 1.41421    \n",
       " 1.41421    \n",
       " 1.07047    \n",
       " 1.07047    \n",
       " 1.34641e-17"
      ]
     },
     "execution_count": 4,
     "metadata": {},
     "output_type": "execute_result"
    }
   ],
   "source": [
    "S"
   ]
  },
  {
   "cell_type": "code",
   "execution_count": 5,
   "metadata": {
    "collapsed": false,
    "scrolled": true
   },
   "outputs": [
    {
     "data": {
      "text/plain": [
       "7x7 Array{Float64,2}:\n",
       " -0.0          -0.723607     -0.632456     …  -0.0           0.0        \n",
       "  0.356822     -1.11022e-16   2.22045e-16      0.934172     -4.996e-16  \n",
       "  1.52656e-16  -0.276393      0.632456        -6.10623e-16   4.7621e-18 \n",
       "  0.835549      1.9845e-17   -1.78328e-16     -0.319151      1.01714e-16\n",
       "  0.0          -0.447214      0.316228        -1.11022e-16  -0.707107   \n",
       "  0.0          -0.447214      0.316228     …   4.44089e-16   0.707107   \n",
       "  0.417775      0.0           0.0             -0.159576      2.11234e-16"
      ]
     },
     "execution_count": 5,
     "metadata": {},
     "output_type": "execute_result"
    }
   ],
   "source": [
    "V"
   ]
  },
  {
   "cell_type": "markdown",
   "metadata": {},
   "source": [
    ">\"A useful rule of thumb is to retain enough singular values to make up\n",
    ">90% of the energy in Σ. That is, the sum of the squares of the retained\n",
    ">singular values should be at least 90% of the sum of the squares of all the\n",
    ">singular values.\" - Jeffrey D. Ullman\n",
    "\n",
    "S matrix is the $\\sum$, hence the total energy here is:"
   ]
  },
  {
   "cell_type": "code",
   "execution_count": 6,
   "metadata": {
    "collapsed": false
   },
   "outputs": [
    {
     "data": {
      "text/plain": [
       "22.0"
      ]
     },
     "execution_count": 6,
     "metadata": {},
     "output_type": "execute_result"
    }
   ],
   "source": [
    "totEnergy = sum(S.^2)"
   ]
  },
  {
   "cell_type": "code",
   "execution_count": 7,
   "metadata": {
    "collapsed": false
   },
   "outputs": [
    {
     "data": {
      "text/plain": [
       "7-element Array{Float64,1}:\n",
       " 0.357005\n",
       " 0.714009\n",
       " 0.804918\n",
       " 0.895827\n",
       " 0.947914\n",
       " 1.0     \n",
       " 1.0     "
      ]
     },
     "execution_count": 7,
     "metadata": {},
     "output_type": "execute_result"
    }
   ],
   "source": [
    "energy = zeros(length(S));\n",
    "energy[1] = S[1]^2/totEnergy;\n",
    "for i=2:length(S)\n",
    "    energy[i] = energy[i-1]+(S[i]^2/totEnergy);\n",
    "end\n",
    "energy"
   ]
  },
  {
   "cell_type": "code",
   "execution_count": 8,
   "metadata": {
    "collapsed": false
   },
   "outputs": [
    {
     "name": "stderr",
     "output_type": "stream",
     "text": [
      "INFO: Loading help data...\n"
     ]
    }
   ],
   "source": [
    "using PyPlot"
   ]
  },
  {
   "cell_type": "code",
   "execution_count": 9,
   "metadata": {
    "collapsed": false
   },
   "outputs": [
    {
     "data": {
      "image/png": "[encoded data removed]",
      "text/plain": [
       "Figure(PyObject <matplotlib.figure.Figure object at 0x7f0958087510>)"
      ]
     },
     "metadata": {},
     "output_type": "display_data"
    }
   ],
   "source": [
    "plot(1:length(energy), energy)\n",
    "xlabel(\"Dimensions\")\n",
    "ylabel(\"% Energy Retained\")\n",
    "grid(\"on\")"
   ]
  },
  {
   "cell_type": "markdown",
   "metadata": {
    "collapsed": true
   },
   "source": [
    "Looking at the plot we can determine that keeping 3 dimensions are good enough for us rather than all 6. We can also print/plot the words based on the first two columns of $U$ corresponding to the two biggest singular values."
   ]
  },
  {
   "cell_type": "code",
   "execution_count": 10,
   "metadata": {
    "collapsed": false
   },
   "outputs": [
    {
     "data": {
      "text/plain": [
       "7x3 Array{Int64,2}:\n",
       " 0  1  0\n",
       " 1  0  1\n",
       " 0  1  0\n",
       " 2  0  0\n",
       " 0  0  0\n",
       " 0  0  0\n",
       " 0  0  1"
      ]
     },
     "execution_count": 10,
     "metadata": {},
     "output_type": "execute_result"
    }
   ],
   "source": [
    "Y = X[:,1:3]"
   ]
  },
  {
   "cell_type": "code",
   "execution_count": 11,
   "metadata": {
    "collapsed": true
   },
   "outputs": [],
   "source": [
    "U,S,V = svd(Y);"
   ]
  },
  {
   "cell_type": "code",
   "execution_count": 12,
   "metadata": {
    "collapsed": false
   },
   "outputs": [
    {
     "data": {
      "text/plain": [
       "7x3 Array{Float64,2}:\n",
       " -1.87443e-17   0.707107     -1.09429e-16\n",
       " -0.541467      5.55112e-17  -0.51222    \n",
       " -2.81165e-17   0.707107     -1.64143e-16\n",
       " -0.831251     -1.11022e-16   0.444872   \n",
       "  0.0           0.0           0.0        \n",
       "  0.0           0.0           0.0        \n",
       " -0.125841      0.0          -0.734656   "
      ]
     },
     "execution_count": 12,
     "metadata": {},
     "output_type": "execute_result"
    }
   ],
   "source": [
    "U"
   ]
  },
  {
   "cell_type": "code",
   "execution_count": 14,
   "metadata": {
    "collapsed": false
   },
   "outputs": [
    {
     "data": {
      "image/png": "[encoded data removed]",
      "text/plain": [
       "Figure(PyObject <matplotlib.figure.Figure object at 0x7f097200d9d0>)"
      ]
     },
     "metadata": {},
     "output_type": "display_data"
    }
   ],
   "source": [
    "for w=1:length(words)\n",
    "    plt.text(U[w,1], U[w,2], words[w]);\n",
    "end\n",
    "plt.xlim((minimum(U[:,1])-1, maximum(U[:,1])+1));\n",
    "plt.ylim((minimum(U[:,2])-1, maximum(U[:,2])+1));"
   ]
  }
 ],
 "metadata": {
  "kernelspec": {
   "display_name": "Julia 0.3.10",
   "language": "julia",
   "name": "julia-0.3"
  },
  "language_info": {
   "name": "julia",
   "version": "0.3.10"
  }
 },
 "nbformat": 4,
 "nbformat_minor": 0
}
